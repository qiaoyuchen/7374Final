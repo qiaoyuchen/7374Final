{
 "cells": [
  {
   "cell_type": "code",
   "execution_count": 3,
   "metadata": {
    "colab": {
     "base_uri": "https://localhost:8080/",
     "height": 2069
    },
    "colab_type": "code",
    "id": "xpRWKvLclph8",
    "outputId": "b7721fa0-996e-4d77-d95e-bdf47a004c2b"
   },
   "outputs": [],
   "source": [
    "import h2o\n",
    "from h2o.automl import H2OAutoML\n",
    "import csv\n",
    "import json\n",
    "import pandas as pd\n",
    "from sklearn.model_selection import train_test_split\n",
    "import numpy as np\n",
    "import pandas as pd\n",
    "from sklearn.utils import shuffle"
   ]
  },
  {
   "cell_type": "code",
   "execution_count": 4,
   "metadata": {
    "colab": {},
    "colab_type": "code",
    "id": "GCZGN5JyoHUx"
   },
   "outputs": [
    {
     "name": "stdout",
     "output_type": "stream",
     "text": [
      "Checking whether there is an H2O instance running at http://localhost:54321..... not found.\n",
      "Attempting to start a local H2O server...\n",
      "; OpenJDK 64-Bit Server VM (build 25.152-b12, mixed mode)56-b12)\n",
      "  Starting server from D:\\Study\\Anaconda\\envs\\AI\\h2o_jar\\h2o.jar\n",
      "  Ice root: C:\\Users\\xuxue\\AppData\\Local\\Temp\\tmpcb69z8m4\n",
      "  JVM stdout: C:\\Users\\xuxue\\AppData\\Local\\Temp\\tmpcb69z8m4\\h2o_xuxue_started_from_python.out\n",
      "  JVM stderr: C:\\Users\\xuxue\\AppData\\Local\\Temp\\tmpcb69z8m4\\h2o_xuxue_started_from_python.err\n",
      "  Server is running at http://127.0.0.1:54321\n",
      "Connecting to H2O server at http://127.0.0.1:54321... successful.\n",
      "Warning: Your H2O cluster version is too old (1 year, 1 month and 9 days)! Please download and install the latest version from http://h2o.ai/download/\n"
     ]
    },
    {
     "data": {
      "text/html": [
       "<div style=\"overflow:auto\"><table style=\"width:50%\"><tr><td>H2O cluster uptime:</td>\n",
       "<td>01 secs</td></tr>\n",
       "<tr><td>H2O cluster timezone:</td>\n",
       "<td>America/New_York</td></tr>\n",
       "<tr><td>H2O data parsing timezone:</td>\n",
       "<td>UTC</td></tr>\n",
       "<tr><td>H2O cluster version:</td>\n",
       "<td>3.18.0.2</td></tr>\n",
       "<tr><td>H2O cluster version age:</td>\n",
       "<td>1 year, 1 month and 9 days !!!</td></tr>\n",
       "<tr><td>H2O cluster name:</td>\n",
       "<td>H2O_from_python_xuxue_gk76sb</td></tr>\n",
       "<tr><td>H2O cluster total nodes:</td>\n",
       "<td>1</td></tr>\n",
       "<tr><td>H2O cluster free memory:</td>\n",
       "<td>3.542 Gb</td></tr>\n",
       "<tr><td>H2O cluster total cores:</td>\n",
       "<td>0</td></tr>\n",
       "<tr><td>H2O cluster allowed cores:</td>\n",
       "<td>0</td></tr>\n",
       "<tr><td>H2O cluster status:</td>\n",
       "<td>accepting new members, healthy</td></tr>\n",
       "<tr><td>H2O connection url:</td>\n",
       "<td>http://127.0.0.1:54321</td></tr>\n",
       "<tr><td>H2O connection proxy:</td>\n",
       "<td>None</td></tr>\n",
       "<tr><td>H2O internal security:</td>\n",
       "<td>False</td></tr>\n",
       "<tr><td>H2O API Extensions:</td>\n",
       "<td>Algos, AutoML, Core V3, Core V4</td></tr>\n",
       "<tr><td>Python version:</td>\n",
       "<td>3.6.8 final</td></tr></table></div>"
      ],
      "text/plain": [
       "--------------------------  -------------------------------\n",
       "H2O cluster uptime:         01 secs\n",
       "H2O cluster timezone:       America/New_York\n",
       "H2O data parsing timezone:  UTC\n",
       "H2O cluster version:        3.18.0.2\n",
       "H2O cluster version age:    1 year, 1 month and 9 days !!!\n",
       "H2O cluster name:           H2O_from_python_xuxue_gk76sb\n",
       "H2O cluster total nodes:    1\n",
       "H2O cluster free memory:    3.542 Gb\n",
       "H2O cluster total cores:    0\n",
       "H2O cluster allowed cores:  0\n",
       "H2O cluster status:         accepting new members, healthy\n",
       "H2O connection url:         http://127.0.0.1:54321\n",
       "H2O connection proxy:\n",
       "H2O internal security:      False\n",
       "H2O API Extensions:         Algos, AutoML, Core V3, Core V4\n",
       "Python version:             3.6.8 final\n",
       "--------------------------  -------------------------------"
      ]
     },
     "metadata": {},
     "output_type": "display_data"
    }
   ],
   "source": [
    "h2o.init()"
   ]
  },
  {
   "cell_type": "code",
   "execution_count": 6,
   "metadata": {},
   "outputs": [],
   "source": [
    "df1 = pd.read_csv('D:/Study/NEU/Neural Network and AI/final/data/Classification_dataset.csv')"
   ]
  },
  {
   "cell_type": "markdown",
   "metadata": {},
   "source": [
    "Splitting the testing and training datasets "
   ]
  },
  {
   "cell_type": "code",
   "execution_count": 7,
   "metadata": {},
   "outputs": [],
   "source": [
    "train, test = train_test_split(df1, test_size = 0.2)"
   ]
  },
  {
   "cell_type": "code",
   "execution_count": 8,
   "metadata": {},
   "outputs": [],
   "source": [
    "test.to_csv('Exp4_test.csv')"
   ]
  },
  {
   "cell_type": "code",
   "execution_count": 9,
   "metadata": {},
   "outputs": [],
   "source": [
    "train.to_csv('Exp4_train.csv')"
   ]
  },
  {
   "cell_type": "code",
   "execution_count": 10,
   "metadata": {},
   "outputs": [
    {
     "name": "stdout",
     "output_type": "stream",
     "text": [
      "Parse progress: |█████████████████████████████████████████████████████████| 100%\n"
     ]
    },
    {
     "data": {
      "text/html": [
       "<table>\n",
       "<thead>\n",
       "<tr><th style=\"text-align: right;\">  C1</th><th>filename          </th><th style=\"text-align: right;\">  chroma_stft</th><th style=\"text-align: right;\">     rmse</th><th style=\"text-align: right;\">  spectral_centroid</th><th style=\"text-align: right;\">  spectral_bandwidth</th><th style=\"text-align: right;\">  rolloff</th><th style=\"text-align: right;\">  zero_crossing_rate</th><th style=\"text-align: right;\">   flatness</th><th style=\"text-align: right;\">     poly</th><th style=\"text-align: right;\">  chroma_cqt</th><th style=\"text-align: right;\">  chroma_cens</th><th style=\"text-align: right;\">  spectral_contrast</th><th style=\"text-align: right;\">    mfcc1</th><th style=\"text-align: right;\">   mfcc2</th><th style=\"text-align: right;\">    mfcc3</th><th style=\"text-align: right;\">   mfcc4</th><th style=\"text-align: right;\">     mfcc5</th><th style=\"text-align: right;\">    mfcc6</th><th style=\"text-align: right;\">    mfcc7</th><th style=\"text-align: right;\">    mfcc8</th><th style=\"text-align: right;\">      mfcc9</th><th style=\"text-align: right;\">   mfcc10</th><th style=\"text-align: right;\">    mfcc11</th><th style=\"text-align: right;\">   mfcc12</th><th style=\"text-align: right;\">   mfcc13</th><th style=\"text-align: right;\">   mfcc14</th><th style=\"text-align: right;\">    mfcc15</th><th style=\"text-align: right;\">  mfcc16</th><th style=\"text-align: right;\">    mfcc17</th><th style=\"text-align: right;\">   mfcc18</th><th style=\"text-align: right;\">   mfcc19</th><th style=\"text-align: right;\">   mfcc20</th><th style=\"text-align: right;\">   tonnetz2</th><th style=\"text-align: right;\">   tonnetz3</th><th style=\"text-align: right;\">   tonnetz4</th><th style=\"text-align: right;\">   tonnetz5</th><th style=\"text-align: right;\">   tonnetz6</th><th style=\"text-align: right;\">   tonnetz7</th><th>label    </th></tr>\n",
       "</thead>\n",
       "<tbody>\n",
       "<tr><td style=\"text-align: right;\"> 725</td><td>pop.00017.au      </td><td style=\"text-align: right;\">     0.435314</td><td style=\"text-align: right;\">0.0859233</td><td style=\"text-align: right;\">            2789.18</td><td style=\"text-align: right;\">             2795.47</td><td style=\"text-align: right;\">  6112.3 </td><td style=\"text-align: right;\">           0.12623  </td><td style=\"text-align: right;\">0.0371106  </td><td style=\"text-align: right;\">2.77672  </td><td style=\"text-align: right;\">    0.521078</td><td style=\"text-align: right;\">     0.2654  </td><td style=\"text-align: right;\">            18.7372</td><td style=\"text-align: right;\"> -53.095 </td><td style=\"text-align: right;\"> 78.3076</td><td style=\"text-align: right;\">  2.24825</td><td style=\"text-align: right;\">18.8382 </td><td style=\"text-align: right;\">  3.86614 </td><td style=\"text-align: right;\"> 2.51526 </td><td style=\"text-align: right;\"> -3.79922</td><td style=\"text-align: right;\"> 6.81435 </td><td style=\"text-align: right;\"> -0.808941 </td><td style=\"text-align: right;\"> 8.75565 </td><td style=\"text-align: right;\"> -4.79982 </td><td style=\"text-align: right;\"> -2.15133</td><td style=\"text-align: right;\">  1.28561</td><td style=\"text-align: right;\">-1.745   </td><td style=\"text-align: right;\"> -1.94182 </td><td style=\"text-align: right;\">-1.5887 </td><td style=\"text-align: right;\">  2.63027 </td><td style=\"text-align: right;\"> 2.42977 </td><td style=\"text-align: right;\"> 4.02507 </td><td style=\"text-align: right;\"> 3.91806 </td><td style=\"text-align: right;\"> 0.0151965 </td><td style=\"text-align: right;\"> 0.0178122 </td><td style=\"text-align: right;\">-0.0114165 </td><td style=\"text-align: right;\"> 0.02293   </td><td style=\"text-align: right;\">-0.00036259</td><td style=\"text-align: right;\"> 0.00164205</td><td>pop      </td></tr>\n",
       "<tr><td style=\"text-align: right;\"> 186</td><td>classical.00040.au</td><td style=\"text-align: right;\">     0.250586</td><td style=\"text-align: right;\">0.0859233</td><td style=\"text-align: right;\">            1396.69</td><td style=\"text-align: right;\">             1525.35</td><td style=\"text-align: right;\">  2652.73</td><td style=\"text-align: right;\">           0.0726432</td><td style=\"text-align: right;\">0.00381455 </td><td style=\"text-align: right;\">0.266702 </td><td style=\"text-align: right;\">    0.503981</td><td style=\"text-align: right;\">     0.264182</td><td style=\"text-align: right;\">            19.5071</td><td style=\"text-align: right;\">-358.634 </td><td style=\"text-align: right;\">129.093 </td><td style=\"text-align: right;\">-30.4032 </td><td style=\"text-align: right;\">19.8871 </td><td style=\"text-align: right;\">-10.3851  </td><td style=\"text-align: right;\">-0.650723</td><td style=\"text-align: right;\">-10.6078 </td><td style=\"text-align: right;\"> 1.5449  </td><td style=\"text-align: right;\"> -3.97499  </td><td style=\"text-align: right;\"> 1.86426 </td><td style=\"text-align: right;\"> -8.842   </td><td style=\"text-align: right;\"> -7.16808</td><td style=\"text-align: right;\"> -8.21349</td><td style=\"text-align: right;\">-5.94012 </td><td style=\"text-align: right;\"> -0.113217</td><td style=\"text-align: right;\"> 4.28035</td><td style=\"text-align: right;\">  8.96902 </td><td style=\"text-align: right;\">12.802   </td><td style=\"text-align: right;\">14.6869  </td><td style=\"text-align: right;\">11.5114  </td><td style=\"text-align: right;\">-0.034044  </td><td style=\"text-align: right;\"> 0.0257769 </td><td style=\"text-align: right;\"> 0.0395636 </td><td style=\"text-align: right;\">-0.00779619</td><td style=\"text-align: right;\">-0.00559175</td><td style=\"text-align: right;\">-0.00965392</td><td>classical</td></tr>\n",
       "<tr><td style=\"text-align: right;\"> 261</td><td>country.00070.au  </td><td style=\"text-align: right;\">     0.365068</td><td style=\"text-align: right;\">0.0859233</td><td style=\"text-align: right;\">            1935.14</td><td style=\"text-align: right;\">             1970.13</td><td style=\"text-align: right;\">  4048.79</td><td style=\"text-align: right;\">           0.0947696</td><td style=\"text-align: right;\">0.0169966  </td><td style=\"text-align: right;\">1.19605  </td><td style=\"text-align: right;\">    0.538431</td><td style=\"text-align: right;\">     0.26327 </td><td style=\"text-align: right;\">            19.4218</td><td style=\"text-align: right;\"> -99.2974</td><td style=\"text-align: right;\">117.561 </td><td style=\"text-align: right;\">-29.877  </td><td style=\"text-align: right;\">40.8383 </td><td style=\"text-align: right;\">-15.2561  </td><td style=\"text-align: right;\">27.9777  </td><td style=\"text-align: right;\">-11.955  </td><td style=\"text-align: right;\">13.3241  </td><td style=\"text-align: right;\">-11.37     </td><td style=\"text-align: right;\">10.5362  </td><td style=\"text-align: right;\"> -8.74502 </td><td style=\"text-align: right;\">  8.41017</td><td style=\"text-align: right;\"> -6.84665</td><td style=\"text-align: right;\"> 0.434208</td><td style=\"text-align: right;\"> -5.3084  </td><td style=\"text-align: right;\"> 1.64346</td><td style=\"text-align: right;\"> -7.35687 </td><td style=\"text-align: right;\"> 0.516017</td><td style=\"text-align: right;\">-1.46159 </td><td style=\"text-align: right;\">-5.92109 </td><td style=\"text-align: right;\"> 0.0292446 </td><td style=\"text-align: right;\">-0.0211926 </td><td style=\"text-align: right;\">-0.056977  </td><td style=\"text-align: right;\"> 0.034548  </td><td style=\"text-align: right;\"> 0.00896206</td><td style=\"text-align: right;\"> 0.00703578</td><td>country  </td></tr>\n",
       "<tr><td style=\"text-align: right;\"> 116</td><td>classical.00061.au</td><td style=\"text-align: right;\">     0.28167 </td><td style=\"text-align: right;\">0.0859233</td><td style=\"text-align: right;\">            1322.03</td><td style=\"text-align: right;\">             1590.23</td><td style=\"text-align: right;\">  2473.63</td><td style=\"text-align: right;\">           0.0761261</td><td style=\"text-align: right;\">0.00220276 </td><td style=\"text-align: right;\">0.411696 </td><td style=\"text-align: right;\">    0.458592</td><td style=\"text-align: right;\">     0.247331</td><td style=\"text-align: right;\">            22.1788</td><td style=\"text-align: right;\">-274.427 </td><td style=\"text-align: right;\">148.374 </td><td style=\"text-align: right;\">-20.3271 </td><td style=\"text-align: right;\">21.8031 </td><td style=\"text-align: right;\">  7.95063 </td><td style=\"text-align: right;\"> 3.78624 </td><td style=\"text-align: right;\"> -2.22954</td><td style=\"text-align: right;\">-6.0976  </td><td style=\"text-align: right;\"> -5.63047  </td><td style=\"text-align: right;\">-6.696   </td><td style=\"text-align: right;\"> -5.91532 </td><td style=\"text-align: right;\"> -4.59237</td><td style=\"text-align: right;\"> -1.54061</td><td style=\"text-align: right;\">-3.02874 </td><td style=\"text-align: right;\"> -4.69714 </td><td style=\"text-align: right;\">-7.715  </td><td style=\"text-align: right;\"> -7.21252 </td><td style=\"text-align: right;\">-5.41075 </td><td style=\"text-align: right;\">-5.24699 </td><td style=\"text-align: right;\">-5.27015 </td><td style=\"text-align: right;\"> 0.0100946 </td><td style=\"text-align: right;\"> 0.0379873 </td><td style=\"text-align: right;\">-0.099126  </td><td style=\"text-align: right;\"> 0.0541401 </td><td style=\"text-align: right;\"> 0.00524959</td><td style=\"text-align: right;\">-0.003047  </td><td>classical</td></tr>\n",
       "<tr><td style=\"text-align: right;\"> 454</td><td>hiphop.00080.au   </td><td style=\"text-align: right;\">     0.40366 </td><td style=\"text-align: right;\">0.0859233</td><td style=\"text-align: right;\">            3377.41</td><td style=\"text-align: right;\">             2996.52</td><td style=\"text-align: right;\">  6892.57</td><td style=\"text-align: right;\">           0.155001 </td><td style=\"text-align: right;\">0.0211172  </td><td style=\"text-align: right;\">1.51882  </td><td style=\"text-align: right;\">    0.473776</td><td style=\"text-align: right;\">     0.250792</td><td style=\"text-align: right;\">            21.3485</td><td style=\"text-align: right;\"> -63.9814</td><td style=\"text-align: right;\"> 50.7931</td><td style=\"text-align: right;\">  6.59588</td><td style=\"text-align: right;\">27.8288 </td><td style=\"text-align: right;\">  6.63758 </td><td style=\"text-align: right;\"> 0.300386</td><td style=\"text-align: right;\">  2.82064</td><td style=\"text-align: right;\"> 3.21159 </td><td style=\"text-align: right;\">  0.164085 </td><td style=\"text-align: right;\"> 0.617222</td><td style=\"text-align: right;\">  0.107249</td><td style=\"text-align: right;\"> -5.0563 </td><td style=\"text-align: right;\">  2.66754</td><td style=\"text-align: right;\">-1.63655 </td><td style=\"text-align: right;\">  3.10668 </td><td style=\"text-align: right;\"> 5.1596 </td><td style=\"text-align: right;\"> -0.829842</td><td style=\"text-align: right;\"> 4.84928 </td><td style=\"text-align: right;\"> 0.241881</td><td style=\"text-align: right;\">-4.85589 </td><td style=\"text-align: right;\"> 0.00141097</td><td style=\"text-align: right;\">-0.00305476</td><td style=\"text-align: right;\"> 0.0225095 </td><td style=\"text-align: right;\">-0.00295805</td><td style=\"text-align: right;\"> 0.00102757</td><td style=\"text-align: right;\">-0.00163802</td><td>hiphop   </td></tr>\n",
       "<tr><td style=\"text-align: right;\"> 633</td><td>metal.00085.au    </td><td style=\"text-align: right;\">     0.440988</td><td style=\"text-align: right;\">0.0859233</td><td style=\"text-align: right;\">            2646.95</td><td style=\"text-align: right;\">             2256.52</td><td style=\"text-align: right;\">  5304.85</td><td style=\"text-align: right;\">           0.157781 </td><td style=\"text-align: right;\">0.00883101 </td><td style=\"text-align: right;\">1.10243  </td><td style=\"text-align: right;\">    0.553655</td><td style=\"text-align: right;\">     0.267933</td><td style=\"text-align: right;\">            19.7303</td><td style=\"text-align: right;\"> -46.5992</td><td style=\"text-align: right;\"> 86.8184</td><td style=\"text-align: right;\">-34.7814 </td><td style=\"text-align: right;\">49.9119 </td><td style=\"text-align: right;\">-18.1896  </td><td style=\"text-align: right;\">28.7341  </td><td style=\"text-align: right;\">-23.4891 </td><td style=\"text-align: right;\">15.67    </td><td style=\"text-align: right;\"> -8.9394   </td><td style=\"text-align: right;\">10.6066  </td><td style=\"text-align: right;\">-18.1874  </td><td style=\"text-align: right;\"> 12.4517 </td><td style=\"text-align: right;\">-13.5582 </td><td style=\"text-align: right;\"> 4.67501 </td><td style=\"text-align: right;\">-11.6772  </td><td style=\"text-align: right;\"> 5.32562</td><td style=\"text-align: right;\">-13.5544  </td><td style=\"text-align: right;\"> 1.37553 </td><td style=\"text-align: right;\">-4.73257 </td><td style=\"text-align: right;\">-3.12415 </td><td style=\"text-align: right;\"> 0.0141633 </td><td style=\"text-align: right;\">-0.0117251 </td><td style=\"text-align: right;\"> 0.0417144 </td><td style=\"text-align: right;\"> 0.0751278 </td><td style=\"text-align: right;\"> 0.00357563</td><td style=\"text-align: right;\">-0.0184279 </td><td>metal    </td></tr>\n",
       "<tr><td style=\"text-align: right;\"> 105</td><td>classical.00055.au</td><td style=\"text-align: right;\">     0.186564</td><td style=\"text-align: right;\">0.0859233</td><td style=\"text-align: right;\">            1079.45</td><td style=\"text-align: right;\">             1388.56</td><td style=\"text-align: right;\">  1764.67</td><td style=\"text-align: right;\">           0.0593413</td><td style=\"text-align: right;\">0.00144742 </td><td style=\"text-align: right;\">0.0525477</td><td style=\"text-align: right;\">    0.452421</td><td style=\"text-align: right;\">     0.237858</td><td style=\"text-align: right;\">            19.4537</td><td style=\"text-align: right;\">-484.028 </td><td style=\"text-align: right;\">144.177 </td><td style=\"text-align: right;\">  1.39931</td><td style=\"text-align: right;\"> 8.10326</td><td style=\"text-align: right;\">  4.93199 </td><td style=\"text-align: right;\">-2.32256 </td><td style=\"text-align: right;\"> -2.74743</td><td style=\"text-align: right;\">-6.83703 </td><td style=\"text-align: right;\">-10.1407   </td><td style=\"text-align: right;\">-8.05754 </td><td style=\"text-align: right;\"> -7.15266 </td><td style=\"text-align: right;\">-10.5658 </td><td style=\"text-align: right;\"> -7.7894 </td><td style=\"text-align: right;\">-2.95718 </td><td style=\"text-align: right;\"> -0.261428</td><td style=\"text-align: right;\"> 4.30127</td><td style=\"text-align: right;\">  5.29661 </td><td style=\"text-align: right;\"> 0.185797</td><td style=\"text-align: right;\">-4.53012 </td><td style=\"text-align: right;\">-1.87241 </td><td style=\"text-align: right;\">-0.0393312 </td><td style=\"text-align: right;\"> 0.00179922</td><td style=\"text-align: right;\">-0.0450844 </td><td style=\"text-align: right;\">-0.03452   </td><td style=\"text-align: right;\"> 0.0142533 </td><td style=\"text-align: right;\"> 0.00425357</td><td>classical</td></tr>\n",
       "<tr><td style=\"text-align: right;\"> 856</td><td>reggae.00046.au   </td><td style=\"text-align: right;\">     0.324219</td><td style=\"text-align: right;\">0.0859233</td><td style=\"text-align: right;\">            2322.23</td><td style=\"text-align: right;\">             2592.86</td><td style=\"text-align: right;\">  5228.01</td><td style=\"text-align: right;\">           0.0809776</td><td style=\"text-align: right;\">0.00450866 </td><td style=\"text-align: right;\">0.469198 </td><td style=\"text-align: right;\">    0.454792</td><td style=\"text-align: right;\">     0.246014</td><td style=\"text-align: right;\">            22.5357</td><td style=\"text-align: right;\">-169.019 </td><td style=\"text-align: right;\"> 79.5059</td><td style=\"text-align: right;\"> 15.2463 </td><td style=\"text-align: right;\">42.7511 </td><td style=\"text-align: right;\">  7.68603 </td><td style=\"text-align: right;\">17.0319  </td><td style=\"text-align: right;\"> -5.98687</td><td style=\"text-align: right;\"> 0.538959</td><td style=\"text-align: right;\">  0.0596093</td><td style=\"text-align: right;\">-0.945051</td><td style=\"text-align: right;\">  0.838389</td><td style=\"text-align: right;\"> -1.58682</td><td style=\"text-align: right;\"> -2.89668</td><td style=\"text-align: right;\">-4.03307 </td><td style=\"text-align: right;\"> -5.77085 </td><td style=\"text-align: right;\">-2.57668</td><td style=\"text-align: right;\"> -6.51878 </td><td style=\"text-align: right;\">-6.59494 </td><td style=\"text-align: right;\">-2.84078 </td><td style=\"text-align: right;\">-1.19905 </td><td style=\"text-align: right;\"> 0.00192893</td><td style=\"text-align: right;\">-0.010033  </td><td style=\"text-align: right;\"> 0.0126645 </td><td style=\"text-align: right;\"> 0.0381806 </td><td style=\"text-align: right;\"> 0.00408315</td><td style=\"text-align: right;\"> 0.00110416</td><td>reggae   </td></tr>\n",
       "<tr><td style=\"text-align: right;\"> 695</td><td>metal.00069.au    </td><td style=\"text-align: right;\">     0.454049</td><td style=\"text-align: right;\">0.0859233</td><td style=\"text-align: right;\">            1741.1 </td><td style=\"text-align: right;\">             2098.5 </td><td style=\"text-align: right;\">  4109.89</td><td style=\"text-align: right;\">           0.0537918</td><td style=\"text-align: right;\">0.0664911  </td><td style=\"text-align: right;\">1.64424  </td><td style=\"text-align: right;\">    0.55122 </td><td style=\"text-align: right;\">     0.268866</td><td style=\"text-align: right;\">            18.5516</td><td style=\"text-align: right;\">-111.618 </td><td style=\"text-align: right;\">111.161 </td><td style=\"text-align: right;\">-10.6823 </td><td style=\"text-align: right;\">69.6945 </td><td style=\"text-align: right;\"> -4.92013 </td><td style=\"text-align: right;\">29.8446  </td><td style=\"text-align: right;\">-10.4063 </td><td style=\"text-align: right;\">21.2635  </td><td style=\"text-align: right;\"> -6.65121  </td><td style=\"text-align: right;\">20.0972  </td><td style=\"text-align: right;\"> -7.24057 </td><td style=\"text-align: right;\"> 16.2402 </td><td style=\"text-align: right;\">-10.1262 </td><td style=\"text-align: right;\"> 5.32701 </td><td style=\"text-align: right;\"> -3.5174  </td><td style=\"text-align: right;\"> 1.36937</td><td style=\"text-align: right;\"> -4.7104  </td><td style=\"text-align: right;\"> 5.64577 </td><td style=\"text-align: right;\"> 1.51043 </td><td style=\"text-align: right;\"> 1.88096 </td><td style=\"text-align: right;\"> 0.00659952</td><td style=\"text-align: right;\"> 0.0240464 </td><td style=\"text-align: right;\"> 0.0077975 </td><td style=\"text-align: right;\">-0.00743251</td><td style=\"text-align: right;\"> 0.00383803</td><td style=\"text-align: right;\">-0.00146322</td><td>metal    </td></tr>\n",
       "<tr><td style=\"text-align: right;\"> 106</td><td>classical.00039.au</td><td style=\"text-align: right;\">     0.270815</td><td style=\"text-align: right;\">0.0859233</td><td style=\"text-align: right;\">            1633.53</td><td style=\"text-align: right;\">             1735.08</td><td style=\"text-align: right;\">  3161.26</td><td style=\"text-align: right;\">           0.108959 </td><td style=\"text-align: right;\">0.000699509</td><td style=\"text-align: right;\">0.0556257</td><td style=\"text-align: right;\">    0.391045</td><td style=\"text-align: right;\">     0.22345 </td><td style=\"text-align: right;\">            22.2477</td><td style=\"text-align: right;\">-409.53  </td><td style=\"text-align: right;\">116.799 </td><td style=\"text-align: right;\">-16.1654 </td><td style=\"text-align: right;\">11.7033 </td><td style=\"text-align: right;\">  0.729538</td><td style=\"text-align: right;\"> 5.98452 </td><td style=\"text-align: right;\"> -4.2616 </td><td style=\"text-align: right;\"> 0.499137</td><td style=\"text-align: right;\">  0.435512 </td><td style=\"text-align: right;\">12.6007  </td><td style=\"text-align: right;\"> -1.10798 </td><td style=\"text-align: right;\"> -1.14716</td><td style=\"text-align: right;\">  4.97318</td><td style=\"text-align: right;\"> 1.75798 </td><td style=\"text-align: right;\"> -3.9101  </td><td style=\"text-align: right;\"> 3.506  </td><td style=\"text-align: right;\">  2.79936 </td><td style=\"text-align: right;\"> 3.10199 </td><td style=\"text-align: right;\"> 0.651257</td><td style=\"text-align: right;\">-0.245165</td><td style=\"text-align: right;\"> 0.00540373</td><td style=\"text-align: right;\">-0.0254573 </td><td style=\"text-align: right;\">-0.00111414</td><td style=\"text-align: right;\"> 0.0303647 </td><td style=\"text-align: right;\"> 0.00235381</td><td style=\"text-align: right;\"> 0.0128326 </td><td>classical</td></tr>\n",
       "</tbody>\n",
       "</table>"
      ]
     },
     "metadata": {},
     "output_type": "display_data"
    },
    {
     "data": {
      "text/plain": []
     },
     "execution_count": 10,
     "metadata": {},
     "output_type": "execute_result"
    }
   ],
   "source": [
    "df_train = h2o.import_file('Exp4_train.csv')\n",
    "df_train.head()"
   ]
  },
  {
   "cell_type": "code",
   "execution_count": 11,
   "metadata": {},
   "outputs": [
    {
     "data": {
      "text/plain": [
       "['C1',\n",
       " 'filename',\n",
       " 'chroma_stft',\n",
       " 'rmse',\n",
       " 'spectral_centroid',\n",
       " 'spectral_bandwidth',\n",
       " 'rolloff',\n",
       " 'zero_crossing_rate',\n",
       " 'flatness',\n",
       " 'poly',\n",
       " 'chroma_cqt',\n",
       " 'chroma_cens',\n",
       " 'spectral_contrast',\n",
       " 'mfcc1',\n",
       " 'mfcc2',\n",
       " 'mfcc3',\n",
       " 'mfcc4',\n",
       " 'mfcc5',\n",
       " 'mfcc6',\n",
       " 'mfcc7',\n",
       " 'mfcc8',\n",
       " 'mfcc9',\n",
       " 'mfcc10',\n",
       " 'mfcc11',\n",
       " 'mfcc12',\n",
       " 'mfcc13',\n",
       " 'mfcc14',\n",
       " 'mfcc15',\n",
       " 'mfcc16',\n",
       " 'mfcc17',\n",
       " 'mfcc18',\n",
       " 'mfcc19',\n",
       " 'mfcc20',\n",
       " 'tonnetz2',\n",
       " 'tonnetz3',\n",
       " 'tonnetz4',\n",
       " 'tonnetz5',\n",
       " 'tonnetz6',\n",
       " 'tonnetz7',\n",
       " 'label']"
      ]
     },
     "execution_count": 11,
     "metadata": {},
     "output_type": "execute_result"
    }
   ],
   "source": [
    "df_train.columns"
   ]
  },
  {
   "cell_type": "code",
   "execution_count": 12,
   "metadata": {
    "colab": {},
    "colab_type": "code",
    "id": "FccDaGIBo_LQ"
   },
   "outputs": [],
   "source": [
    "y = 'label'"
   ]
  },
  {
   "cell_type": "code",
   "execution_count": 13,
   "metadata": {},
   "outputs": [],
   "source": [
    "x = ['chroma_stft','rmse', 'spectral_centroid','spectral_bandwidth','rolloff','zero_crossing_rate','flatness','poly','chroma_cqt',\n",
    " 'chroma_cens','spectral_contrast', 'mfcc1', 'mfcc2', 'mfcc3', 'mfcc4', 'mfcc5', 'mfcc6', 'mfcc7', 'mfcc8', 'mfcc9', 'mfcc10',\n",
    " 'mfcc11', 'mfcc12', 'mfcc13', 'mfcc14', 'mfcc15', 'mfcc16', 'mfcc17', 'mfcc18', 'mfcc19', 'mfcc20', 'tonnetz2', 'tonnetz3',\n",
    " 'tonnetz4', 'tonnetz5', 'tonnetz6', 'tonnetz7']"
   ]
  },
  {
   "cell_type": "code",
   "execution_count": 14,
   "metadata": {},
   "outputs": [
    {
     "name": "stdout",
     "output_type": "stream",
     "text": [
      "AutoML progress: |████████████████████████████████████████████████████████| 100%\n",
      "Parse progress: |█████████████████████████████████████████████████████████| 100%\n"
     ]
    }
   ],
   "source": [
    "aml = H2OAutoML(max_models = 300, max_runtime_secs=3600, seed = 1)\n",
    "aml.train(x = x, y = y, training_frame = df_train)"
   ]
  },
  {
   "cell_type": "code",
   "execution_count": 15,
   "metadata": {},
   "outputs": [
    {
     "data": {
      "text/html": [
       "<table>\n",
       "<thead>\n",
       "<tr><th>model_id                                             </th><th style=\"text-align: right;\">  mean_per_class_error</th></tr>\n",
       "</thead>\n",
       "<tbody>\n",
       "<tr><td>DeepLearning_grid_0_AutoML_20190418_132151_model_22  </td><td style=\"text-align: right;\">              0.340752</td></tr>\n",
       "<tr><td>DeepLearning_grid_0_AutoML_20190418_132151_model_3   </td><td style=\"text-align: right;\">              0.343378</td></tr>\n",
       "<tr><td>DeepLearning_grid_0_AutoML_20190418_132151_model_44  </td><td style=\"text-align: right;\">              0.347146</td></tr>\n",
       "<tr><td>GBM_grid_0_AutoML_20190418_132151_model_3            </td><td style=\"text-align: right;\">              0.359945</td></tr>\n",
       "<tr><td>DeepLearning_grid_0_AutoML_20190418_132151_model_39  </td><td style=\"text-align: right;\">              0.361938</td></tr>\n",
       "<tr><td>GBM_grid_0_AutoML_20190418_132151_model_2            </td><td style=\"text-align: right;\">              0.362712</td></tr>\n",
       "<tr><td>GBM_grid_0_AutoML_20190418_132151_model_1            </td><td style=\"text-align: right;\">              0.367865</td></tr>\n",
       "<tr><td>DeepLearning_grid_0_AutoML_20190418_132151_model_56  </td><td style=\"text-align: right;\">              0.371478</td></tr>\n",
       "<tr><td>DeepLearning_grid_0_AutoML_20190418_132151_model_36  </td><td style=\"text-align: right;\">              0.371871</td></tr>\n",
       "<tr><td>DeepLearning_grid_0_AutoML_20190418_132151_model_61  </td><td style=\"text-align: right;\">              0.373374</td></tr>\n",
       "<tr><td>DeepLearning_grid_0_AutoML_20190418_132151_model_31  </td><td style=\"text-align: right;\">              0.374816</td></tr>\n",
       "<tr><td>GLM_grid_0_AutoML_20190418_132151_model_0            </td><td style=\"text-align: right;\">              0.376923</td></tr>\n",
       "<tr><td>DeepLearning_grid_0_AutoML_20190418_132151_model_58  </td><td style=\"text-align: right;\">              0.378692</td></tr>\n",
       "<tr><td>DeepLearning_grid_0_AutoML_20190418_132151_model_11  </td><td style=\"text-align: right;\">              0.381173</td></tr>\n",
       "<tr><td>GBM_grid_0_AutoML_20190418_132151_model_6            </td><td style=\"text-align: right;\">              0.383713</td></tr>\n",
       "<tr><td>DeepLearning_grid_0_AutoML_20190418_132151_model_16  </td><td style=\"text-align: right;\">              0.389094</td></tr>\n",
       "<tr><td>DeepLearning_grid_0_AutoML_20190418_132151_model_64  </td><td style=\"text-align: right;\">              0.395496</td></tr>\n",
       "<tr><td>DeepLearning_grid_0_AutoML_20190418_132151_model_60  </td><td style=\"text-align: right;\">              0.396942</td></tr>\n",
       "<tr><td>DeepLearning_grid_0_AutoML_20190418_132151_model_18  </td><td style=\"text-align: right;\">              0.397949</td></tr>\n",
       "<tr><td>DeepLearning_grid_0_AutoML_20190418_132151_model_63  </td><td style=\"text-align: right;\">              0.399006</td></tr>\n",
       "<tr><td>GBM_grid_0_AutoML_20190418_132151_model_0            </td><td style=\"text-align: right;\">              0.400286</td></tr>\n",
       "<tr><td>GBM_grid_0_AutoML_20190418_132151_model_5            </td><td style=\"text-align: right;\">              0.410299</td></tr>\n",
       "<tr><td>DeepLearning_grid_0_AutoML_20190418_132151_model_14  </td><td style=\"text-align: right;\">              0.413444</td></tr>\n",
       "<tr><td>GBM_grid_0_AutoML_20190418_132151_model_4            </td><td style=\"text-align: right;\">              0.41354 </td></tr>\n",
       "<tr><td>DeepLearning_grid_0_AutoML_20190418_132151_model_24  </td><td style=\"text-align: right;\">              0.413569</td></tr>\n",
       "<tr><td>DeepLearning_grid_0_AutoML_20190418_132151_model_30  </td><td style=\"text-align: right;\">              0.414793</td></tr>\n",
       "<tr><td>DeepLearning_grid_0_AutoML_20190418_132151_model_29  </td><td style=\"text-align: right;\">              0.42018 </td></tr>\n",
       "<tr><td>DeepLearning_grid_0_AutoML_20190418_132151_model_19  </td><td style=\"text-align: right;\">              0.420959</td></tr>\n",
       "<tr><td>DeepLearning_grid_0_AutoML_20190418_132151_model_27  </td><td style=\"text-align: right;\">              0.421875</td></tr>\n",
       "<tr><td>DeepLearning_grid_0_AutoML_20190418_132151_model_5   </td><td style=\"text-align: right;\">              0.425346</td></tr>\n",
       "<tr><td>DeepLearning_grid_0_AutoML_20190418_132151_model_37  </td><td style=\"text-align: right;\">              0.427095</td></tr>\n",
       "<tr><td>DeepLearning_grid_0_AutoML_20190418_132151_model_55  </td><td style=\"text-align: right;\">              0.430113</td></tr>\n",
       "<tr><td>DeepLearning_grid_0_AutoML_20190418_132151_model_32  </td><td style=\"text-align: right;\">              0.430739</td></tr>\n",
       "<tr><td>DeepLearning_grid_0_AutoML_20190418_132151_model_10  </td><td style=\"text-align: right;\">              0.431719</td></tr>\n",
       "<tr><td>DeepLearning_grid_0_AutoML_20190418_132151_model_47  </td><td style=\"text-align: right;\">              0.433324</td></tr>\n",
       "<tr><td>DeepLearning_grid_0_AutoML_20190418_132151_model_17  </td><td style=\"text-align: right;\">              0.434273</td></tr>\n",
       "<tr><td>XRT_0_AutoML_20190418_132151                         </td><td style=\"text-align: right;\">              0.436871</td></tr>\n",
       "<tr><td>DeepLearning_grid_0_AutoML_20190418_132151_model_41  </td><td style=\"text-align: right;\">              0.437574</td></tr>\n",
       "<tr><td>DRF_0_AutoML_20190418_132151                         </td><td style=\"text-align: right;\">              0.438804</td></tr>\n",
       "<tr><td>DeepLearning_grid_0_AutoML_20190418_132151_model_62  </td><td style=\"text-align: right;\">              0.439228</td></tr>\n",
       "<tr><td>DeepLearning_grid_0_AutoML_20190418_132151_model_43  </td><td style=\"text-align: right;\">              0.440441</td></tr>\n",
       "<tr><td>DeepLearning_grid_0_AutoML_20190418_132151_model_2   </td><td style=\"text-align: right;\">              0.442575</td></tr>\n",
       "<tr><td>DeepLearning_grid_0_AutoML_20190418_132151_model_46  </td><td style=\"text-align: right;\">              0.445675</td></tr>\n",
       "<tr><td>DeepLearning_grid_0_AutoML_20190418_132151_model_57  </td><td style=\"text-align: right;\">              0.447053</td></tr>\n",
       "<tr><td>DeepLearning_grid_0_AutoML_20190418_132151_model_23  </td><td style=\"text-align: right;\">              0.447345</td></tr>\n",
       "<tr><td>DeepLearning_grid_0_AutoML_20190418_132151_model_8   </td><td style=\"text-align: right;\">              0.448742</td></tr>\n",
       "<tr><td>DeepLearning_grid_0_AutoML_20190418_132151_model_42  </td><td style=\"text-align: right;\">              0.449882</td></tr>\n",
       "<tr><td>DeepLearning_grid_0_AutoML_20190418_132151_model_33  </td><td style=\"text-align: right;\">              0.452737</td></tr>\n",
       "<tr><td>DeepLearning_grid_0_AutoML_20190418_132151_model_9   </td><td style=\"text-align: right;\">              0.453442</td></tr>\n",
       "<tr><td>DeepLearning_grid_0_AutoML_20190418_132151_model_13  </td><td style=\"text-align: right;\">              0.45503 </td></tr>\n",
       "<tr><td>DeepLearning_grid_0_AutoML_20190418_132151_model_38  </td><td style=\"text-align: right;\">              0.455579</td></tr>\n",
       "<tr><td>DeepLearning_grid_0_AutoML_20190418_132151_model_52  </td><td style=\"text-align: right;\">              0.455775</td></tr>\n",
       "<tr><td>DeepLearning_grid_0_AutoML_20190418_132151_model_50  </td><td style=\"text-align: right;\">              0.457702</td></tr>\n",
       "<tr><td>DeepLearning_grid_0_AutoML_20190418_132151_model_59  </td><td style=\"text-align: right;\">              0.457754</td></tr>\n",
       "<tr><td>DeepLearning_grid_0_AutoML_20190418_132151_model_28  </td><td style=\"text-align: right;\">              0.460508</td></tr>\n",
       "<tr><td>DeepLearning_grid_0_AutoML_20190418_132151_model_21  </td><td style=\"text-align: right;\">              0.463227</td></tr>\n",
       "<tr><td>DeepLearning_grid_0_AutoML_20190418_132151_model_15  </td><td style=\"text-align: right;\">              0.464677</td></tr>\n",
       "<tr><td>DeepLearning_grid_0_AutoML_20190418_132151_model_53  </td><td style=\"text-align: right;\">              0.466044</td></tr>\n",
       "<tr><td>DeepLearning_grid_0_AutoML_20190418_132151_model_25  </td><td style=\"text-align: right;\">              0.467329</td></tr>\n",
       "<tr><td>DeepLearning_grid_0_AutoML_20190418_132151_model_34  </td><td style=\"text-align: right;\">              0.468733</td></tr>\n",
       "<tr><td>DeepLearning_grid_0_AutoML_20190418_132151_model_51  </td><td style=\"text-align: right;\">              0.474687</td></tr>\n",
       "<tr><td>DeepLearning_grid_0_AutoML_20190418_132151_model_45  </td><td style=\"text-align: right;\">              0.474883</td></tr>\n",
       "<tr><td>DeepLearning_grid_0_AutoML_20190418_132151_model_48  </td><td style=\"text-align: right;\">              0.476246</td></tr>\n",
       "<tr><td>DeepLearning_grid_0_AutoML_20190418_132151_model_7   </td><td style=\"text-align: right;\">              0.478275</td></tr>\n",
       "<tr><td>DeepLearning_grid_0_AutoML_20190418_132151_model_20  </td><td style=\"text-align: right;\">              0.482189</td></tr>\n",
       "<tr><td>DeepLearning_grid_0_AutoML_20190418_132151_model_0   </td><td style=\"text-align: right;\">              0.485384</td></tr>\n",
       "<tr><td>DeepLearning_grid_0_AutoML_20190418_132151_model_35  </td><td style=\"text-align: right;\">              0.488249</td></tr>\n",
       "<tr><td>DeepLearning_grid_0_AutoML_20190418_132151_model_40  </td><td style=\"text-align: right;\">              0.492317</td></tr>\n",
       "<tr><td>DeepLearning_grid_0_AutoML_20190418_132151_model_26  </td><td style=\"text-align: right;\">              0.492782</td></tr>\n",
       "<tr><td>DeepLearning_grid_0_AutoML_20190418_132151_model_12  </td><td style=\"text-align: right;\">              0.499672</td></tr>\n",
       "<tr><td>DeepLearning_grid_0_AutoML_20190418_132151_model_1   </td><td style=\"text-align: right;\">              0.501926</td></tr>\n",
       "<tr><td>DeepLearning_grid_0_AutoML_20190418_132151_model_54  </td><td style=\"text-align: right;\">              0.528247</td></tr>\n",
       "<tr><td>DeepLearning_grid_0_AutoML_20190418_132151_model_6   </td><td style=\"text-align: right;\">              0.538435</td></tr>\n",
       "<tr><td>DeepLearning_grid_0_AutoML_20190418_132151_model_4   </td><td style=\"text-align: right;\">              0.57216 </td></tr>\n",
       "<tr><td>DeepLearning_grid_0_AutoML_20190418_132151_model_49  </td><td style=\"text-align: right;\">              0.57458 </td></tr>\n",
       "<tr><td>DeepLearning_0_AutoML_20190418_132151                </td><td style=\"text-align: right;\">              0.677955</td></tr>\n",
       "<tr><td>StackedEnsemble_AllModels_0_AutoML_20190418_132151   </td><td style=\"text-align: right;\">              0.9     </td></tr>\n",
       "<tr><td>StackedEnsemble_BestOfFamily_0_AutoML_20190418_132151</td><td style=\"text-align: right;\">              0.9     </td></tr>\n",
       "</tbody>\n",
       "</table>"
      ]
     },
     "metadata": {},
     "output_type": "display_data"
    },
    {
     "data": {
      "text/plain": []
     },
     "execution_count": 15,
     "metadata": {},
     "output_type": "execute_result"
    }
   ],
   "source": [
    "lb = aml.leaderboard\n",
    "lb.head()\n",
    "lb.head(rows=lb.nrows) # Entire leaderboard"
   ]
  },
  {
   "cell_type": "markdown",
   "metadata": {},
   "source": [
    "Using the best model to make predictions. At first, we load the testing dataset as shown below"
   ]
  },
  {
   "cell_type": "code",
   "execution_count": 16,
   "metadata": {},
   "outputs": [
    {
     "name": "stdout",
     "output_type": "stream",
     "text": [
      "Parse progress: |█████████████████████████████████████████████████████████| 100%\n"
     ]
    },
    {
     "data": {
      "text/html": [
       "<table>\n",
       "<thead>\n",
       "<tr><th style=\"text-align: right;\">  C1</th><th>filename          </th><th style=\"text-align: right;\">  chroma_stft</th><th style=\"text-align: right;\">     rmse</th><th style=\"text-align: right;\">  spectral_centroid</th><th style=\"text-align: right;\">  spectral_bandwidth</th><th style=\"text-align: right;\">  rolloff</th><th style=\"text-align: right;\">  zero_crossing_rate</th><th style=\"text-align: right;\">   flatness</th><th style=\"text-align: right;\">    poly</th><th style=\"text-align: right;\">  chroma_cqt</th><th style=\"text-align: right;\">  chroma_cens</th><th style=\"text-align: right;\">  spectral_contrast</th><th style=\"text-align: right;\">    mfcc1</th><th style=\"text-align: right;\">   mfcc2</th><th style=\"text-align: right;\">    mfcc3</th><th style=\"text-align: right;\">   mfcc4</th><th style=\"text-align: right;\">     mfcc5</th><th style=\"text-align: right;\">   mfcc6</th><th style=\"text-align: right;\">     mfcc7</th><th style=\"text-align: right;\">    mfcc8</th><th style=\"text-align: right;\">    mfcc9</th><th style=\"text-align: right;\">  mfcc10</th><th style=\"text-align: right;\">    mfcc11</th><th style=\"text-align: right;\">     mfcc12</th><th style=\"text-align: right;\">    mfcc13</th><th style=\"text-align: right;\">   mfcc14</th><th style=\"text-align: right;\">   mfcc15</th><th style=\"text-align: right;\">   mfcc16</th><th style=\"text-align: right;\">   mfcc17</th><th style=\"text-align: right;\">   mfcc18</th><th style=\"text-align: right;\">    mfcc19</th><th style=\"text-align: right;\">   mfcc20</th><th style=\"text-align: right;\">   tonnetz2</th><th style=\"text-align: right;\">    tonnetz3</th><th style=\"text-align: right;\">    tonnetz4</th><th style=\"text-align: right;\">  tonnetz5</th><th style=\"text-align: right;\">    tonnetz6</th><th style=\"text-align: right;\">   tonnetz7</th><th>label    </th></tr>\n",
       "</thead>\n",
       "<tbody>\n",
       "<tr><td style=\"text-align: right;\"> 600</td><td>metal.00088.au    </td><td style=\"text-align: right;\">     0.421571</td><td style=\"text-align: right;\">0.0859233</td><td style=\"text-align: right;\">           1988.12 </td><td style=\"text-align: right;\">             1986.99</td><td style=\"text-align: right;\">  4148.19</td><td style=\"text-align: right;\">           0.0924201</td><td style=\"text-align: right;\">0.00311516 </td><td style=\"text-align: right;\">0.671956</td><td style=\"text-align: right;\">    0.551423</td><td style=\"text-align: right;\">     0.274245</td><td style=\"text-align: right;\">            18.5055</td><td style=\"text-align: right;\">-129.7   </td><td style=\"text-align: right;\">104.034 </td><td style=\"text-align: right;\">-26.9724 </td><td style=\"text-align: right;\">68.2711 </td><td style=\"text-align: right;\">  2.43536 </td><td style=\"text-align: right;\">22.6089 </td><td style=\"text-align: right;\">-12.1002  </td><td style=\"text-align: right;\">17.0547  </td><td style=\"text-align: right;\"> -5.67369</td><td style=\"text-align: right;\">13.6688 </td><td style=\"text-align: right;\"> -2.8087  </td><td style=\"text-align: right;\"> 5.37791   </td><td style=\"text-align: right;\"> -3.0042  </td><td style=\"text-align: right;\"> 2.978   </td><td style=\"text-align: right;\">-5.83692 </td><td style=\"text-align: right;\"> 3.93705 </td><td style=\"text-align: right;\">-6.00472 </td><td style=\"text-align: right;\">-1.96902 </td><td style=\"text-align: right;\">  2.38818 </td><td style=\"text-align: right;\">-3.85109 </td><td style=\"text-align: right;\">-0.00798247</td><td style=\"text-align: right;\"> 0.0259974  </td><td style=\"text-align: right;\">-0.0536655  </td><td style=\"text-align: right;\">-0.0538062</td><td style=\"text-align: right;\">-0.00366992 </td><td style=\"text-align: right;\">-0.00980213</td><td>metal    </td></tr>\n",
       "<tr><td style=\"text-align: right;\"> 742</td><td>pop.00035.au      </td><td style=\"text-align: right;\">     0.412095</td><td style=\"text-align: right;\">0.0859233</td><td style=\"text-align: right;\">           3194.11 </td><td style=\"text-align: right;\">             3052.84</td><td style=\"text-align: right;\">  6993.49</td><td style=\"text-align: right;\">           0.15938  </td><td style=\"text-align: right;\">0.0724352  </td><td style=\"text-align: right;\">2.21722 </td><td style=\"text-align: right;\">    0.570496</td><td style=\"text-align: right;\">     0.272657</td><td style=\"text-align: right;\">            17.617 </td><td style=\"text-align: right;\">  24.4908</td><td style=\"text-align: right;\"> 68.9628</td><td style=\"text-align: right;\"> -4.21128</td><td style=\"text-align: right;\">-1.02936</td><td style=\"text-align: right;\">  5.25334 </td><td style=\"text-align: right;\"> 2.98924</td><td style=\"text-align: right;\">  4.33765 </td><td style=\"text-align: right;\"> 4.28352 </td><td style=\"text-align: right;\">  6.41913</td><td style=\"text-align: right;\"> 3.62852</td><td style=\"text-align: right;\">  0.108144</td><td style=\"text-align: right;\">-0.00860536</td><td style=\"text-align: right;\">  2.06914 </td><td style=\"text-align: right;\"> 1.55278 </td><td style=\"text-align: right;\"> 4.00085 </td><td style=\"text-align: right;\"> 2.81799 </td><td style=\"text-align: right;\"> 2.20169 </td><td style=\"text-align: right;\"> 1.57758 </td><td style=\"text-align: right;\"> -0.471415</td><td style=\"text-align: right;\"> 0.527109</td><td style=\"text-align: right;\">-0.00151131</td><td style=\"text-align: right;\"> 0.0130842  </td><td style=\"text-align: right;\"> 0.0608958  </td><td style=\"text-align: right;\"> 0.032463 </td><td style=\"text-align: right;\">-0.00356488 </td><td style=\"text-align: right;\"> 0.00589647</td><td>pop      </td></tr>\n",
       "<tr><td style=\"text-align: right;\">  85</td><td>blues.00090.au    </td><td style=\"text-align: right;\">     0.377688</td><td style=\"text-align: right;\">0.0859233</td><td style=\"text-align: right;\">           1613.32 </td><td style=\"text-align: right;\">             1972.2 </td><td style=\"text-align: right;\">  3470.4 </td><td style=\"text-align: right;\">           0.0582359</td><td style=\"text-align: right;\">0.00165333 </td><td style=\"text-align: right;\">0.487589</td><td style=\"text-align: right;\">    0.560257</td><td style=\"text-align: right;\">     0.273527</td><td style=\"text-align: right;\">            20.0753</td><td style=\"text-align: right;\">-177.491 </td><td style=\"text-align: right;\">115.346 </td><td style=\"text-align: right;\">  9.96987</td><td style=\"text-align: right;\">54.0513 </td><td style=\"text-align: right;\">  7.61694 </td><td style=\"text-align: right;\">28.3143 </td><td style=\"text-align: right;\"> -9.05834 </td><td style=\"text-align: right;\">20.0553  </td><td style=\"text-align: right;\">-15.045  </td><td style=\"text-align: right;\"> 6.22408</td><td style=\"text-align: right;\"> -5.68982 </td><td style=\"text-align: right;\"> 1.38424   </td><td style=\"text-align: right;\"> -5.83724 </td><td style=\"text-align: right;\"> 5.01645 </td><td style=\"text-align: right;\">-0.748612</td><td style=\"text-align: right;\"> 5.06547 </td><td style=\"text-align: right;\">-5.08488 </td><td style=\"text-align: right;\">-2.7955  </td><td style=\"text-align: right;\">  2.43552 </td><td style=\"text-align: right;\">-5.37521 </td><td style=\"text-align: right;\">-0.00155317</td><td style=\"text-align: right;\"> 0.000479317</td><td style=\"text-align: right;\"> 0.0344797  </td><td style=\"text-align: right;\"> 0.0603581</td><td style=\"text-align: right;\"> 0.000368382</td><td style=\"text-align: right;\">-0.00248994</td><td>blues    </td></tr>\n",
       "<tr><td style=\"text-align: right;\"> 246</td><td>country.00042.au  </td><td style=\"text-align: right;\">     0.391584</td><td style=\"text-align: right;\">0.0859233</td><td style=\"text-align: right;\">           2386.77 </td><td style=\"text-align: right;\">             2715.99</td><td style=\"text-align: right;\">  5389.47</td><td style=\"text-align: right;\">           0.0870259</td><td style=\"text-align: right;\">0.00654445 </td><td style=\"text-align: right;\">1.41317 </td><td style=\"text-align: right;\">    0.490264</td><td style=\"text-align: right;\">     0.257558</td><td style=\"text-align: right;\">            22.6286</td><td style=\"text-align: right;\">-101.265 </td><td style=\"text-align: right;\"> 84.1332</td><td style=\"text-align: right;\">  7.75143</td><td style=\"text-align: right;\">30.3885 </td><td style=\"text-align: right;\"> 13.8609  </td><td style=\"text-align: right;\">11.64   </td><td style=\"text-align: right;\"> -0.106021</td><td style=\"text-align: right;\">-4.93694 </td><td style=\"text-align: right;\"> -2.37173</td><td style=\"text-align: right;\">-1.97612</td><td style=\"text-align: right;\"> -8.18816 </td><td style=\"text-align: right;\"> 2.82741   </td><td style=\"text-align: right;\">  0.548485</td><td style=\"text-align: right;\">-6.79111 </td><td style=\"text-align: right;\">-4.30182 </td><td style=\"text-align: right;\">-4.56652 </td><td style=\"text-align: right;\">-9.84085 </td><td style=\"text-align: right;\">-5.6868  </td><td style=\"text-align: right;\">-10.406   </td><td style=\"text-align: right;\">-7.51339 </td><td style=\"text-align: right;\"> 0.0259834 </td><td style=\"text-align: right;\"> 0.0160365  </td><td style=\"text-align: right;\"> 0.019897   </td><td style=\"text-align: right;\">-0.0885217</td><td style=\"text-align: right;\">-0.0142405  </td><td style=\"text-align: right;\"> 0.0016381 </td><td>country  </td></tr>\n",
       "<tr><td style=\"text-align: right;\"> 453</td><td>hiphop.00008.au   </td><td style=\"text-align: right;\">     0.453414</td><td style=\"text-align: right;\">0.0859233</td><td style=\"text-align: right;\">           3069.32 </td><td style=\"text-align: right;\">             2349.35</td><td style=\"text-align: right;\">  5752.83</td><td style=\"text-align: right;\">           0.176916 </td><td style=\"text-align: right;\">0.00305472 </td><td style=\"text-align: right;\">0.66912 </td><td style=\"text-align: right;\">    0.516743</td><td style=\"text-align: right;\">     0.262029</td><td style=\"text-align: right;\">            20.5084</td><td style=\"text-align: right;\">-111.14  </td><td style=\"text-align: right;\"> 55.1982</td><td style=\"text-align: right;\">-18.448  </td><td style=\"text-align: right;\">47.2223 </td><td style=\"text-align: right;\">-24.7885  </td><td style=\"text-align: right;\">22.5299 </td><td style=\"text-align: right;\">-21.1397  </td><td style=\"text-align: right;\">12.545   </td><td style=\"text-align: right;\">-15.8502 </td><td style=\"text-align: right;\">16.297  </td><td style=\"text-align: right;\">-12.5648  </td><td style=\"text-align: right;\"> 9.60837   </td><td style=\"text-align: right;\">-12.1286  </td><td style=\"text-align: right;\"> 4.84889 </td><td style=\"text-align: right;\">-2.21451 </td><td style=\"text-align: right;\"> 6.88236 </td><td style=\"text-align: right;\"> 0.492388</td><td style=\"text-align: right;\">13.0038  </td><td style=\"text-align: right;\">  5.95609 </td><td style=\"text-align: right;\"> 5.43959 </td><td style=\"text-align: right;\">-0.0208319 </td><td style=\"text-align: right;\"> 0.00362059 </td><td style=\"text-align: right;\"> 0.0149206  </td><td style=\"text-align: right;\">-0.0848248</td><td style=\"text-align: right;\"> 0.00825374 </td><td style=\"text-align: right;\">-0.015669  </td><td>hiphop   </td></tr>\n",
       "<tr><td style=\"text-align: right;\"> 168</td><td>classical.00013.au</td><td style=\"text-align: right;\">     0.232114</td><td style=\"text-align: right;\">0.0859233</td><td style=\"text-align: right;\">           1388.03 </td><td style=\"text-align: right;\">             1456.18</td><td style=\"text-align: right;\">  2598.75</td><td style=\"text-align: right;\">           0.0808895</td><td style=\"text-align: right;\">0.000356345</td><td style=\"text-align: right;\">0.359793</td><td style=\"text-align: right;\">    0.353091</td><td style=\"text-align: right;\">     0.209336</td><td style=\"text-align: right;\">            25.337 </td><td style=\"text-align: right;\">-343.11  </td><td style=\"text-align: right;\">140.104 </td><td style=\"text-align: right;\">-20.9152 </td><td style=\"text-align: right;\">32.3365 </td><td style=\"text-align: right;\"> -3.68888 </td><td style=\"text-align: right;\"> 2.93793</td><td style=\"text-align: right;\">-10.6727  </td><td style=\"text-align: right;\"> 0.316628</td><td style=\"text-align: right;\"> -5.78678</td><td style=\"text-align: right;\"> 7.68938</td><td style=\"text-align: right;\"> -3.67248 </td><td style=\"text-align: right;\"> 2.56207   </td><td style=\"text-align: right;\"> -3.49831 </td><td style=\"text-align: right;\">-2.24554 </td><td style=\"text-align: right;\">-0.837854</td><td style=\"text-align: right;\"> 0.887983</td><td style=\"text-align: right;\"> 0.482038</td><td style=\"text-align: right;\"> 0.947071</td><td style=\"text-align: right;\">  1.86416 </td><td style=\"text-align: right;\">-0.63787 </td><td style=\"text-align: right;\"> 0.0214171 </td><td style=\"text-align: right;\">-0.000790865</td><td style=\"text-align: right;\">-3.32e-05   </td><td style=\"text-align: right;\"> 0.112716 </td><td style=\"text-align: right;\"> 0.00836188 </td><td style=\"text-align: right;\"> 0.0235919 </td><td>classical</td></tr>\n",
       "<tr><td style=\"text-align: right;\"> 535</td><td>jazz.00035.au     </td><td style=\"text-align: right;\">     0.264579</td><td style=\"text-align: right;\">0.0859233</td><td style=\"text-align: right;\">            844.087</td><td style=\"text-align: right;\">             1104.36</td><td style=\"text-align: right;\">  1608.71</td><td style=\"text-align: right;\">           0.0377299</td><td style=\"text-align: right;\">0.00186087 </td><td style=\"text-align: right;\">0.675725</td><td style=\"text-align: right;\">    0.467573</td><td style=\"text-align: right;\">     0.264352</td><td style=\"text-align: right;\">            18.9149</td><td style=\"text-align: right;\">-261.856 </td><td style=\"text-align: right;\">182.544 </td><td style=\"text-align: right;\">-16.9002 </td><td style=\"text-align: right;\">49.8663 </td><td style=\"text-align: right;\"> -1.19448 </td><td style=\"text-align: right;\"> 6.32737</td><td style=\"text-align: right;\">  6.01699 </td><td style=\"text-align: right;\">-8.8933  </td><td style=\"text-align: right;\">-10.3065 </td><td style=\"text-align: right;\">-3.20795</td><td style=\"text-align: right;\"> -5.36257 </td><td style=\"text-align: right;\">-3.55569   </td><td style=\"text-align: right;\"> -2.89421 </td><td style=\"text-align: right;\">-7.47387 </td><td style=\"text-align: right;\">-0.538052</td><td style=\"text-align: right;\"> 1.12947 </td><td style=\"text-align: right;\">-1.98432 </td><td style=\"text-align: right;\">-5.22803 </td><td style=\"text-align: right;\"> -1.86636 </td><td style=\"text-align: right;\">-3.50074 </td><td style=\"text-align: right;\">-0.0174763 </td><td style=\"text-align: right;\"> 0.0114604  </td><td style=\"text-align: right;\"> 0.0204096  </td><td style=\"text-align: right;\">-0.0369437</td><td style=\"text-align: right;\"> 0.00918549 </td><td style=\"text-align: right;\">-0.00466842</td><td>jazz     </td></tr>\n",
       "<tr><td style=\"text-align: right;\"> 827</td><td>reggae.00007.au   </td><td style=\"text-align: right;\">     0.386022</td><td style=\"text-align: right;\">0.0859233</td><td style=\"text-align: right;\">           1754.16 </td><td style=\"text-align: right;\">             2026.13</td><td style=\"text-align: right;\">  3768.87</td><td style=\"text-align: right;\">           0.0739115</td><td style=\"text-align: right;\">0.0597985  </td><td style=\"text-align: right;\">1.68891 </td><td style=\"text-align: right;\">    0.467155</td><td style=\"text-align: right;\">     0.251718</td><td style=\"text-align: right;\">            19.5429</td><td style=\"text-align: right;\">-192.239 </td><td style=\"text-align: right;\">116.514 </td><td style=\"text-align: right;\">-10.9454 </td><td style=\"text-align: right;\">29.9024 </td><td style=\"text-align: right;\"> -0.653758</td><td style=\"text-align: right;\">21.4203 </td><td style=\"text-align: right;\">-11.9026  </td><td style=\"text-align: right;\">18.6301  </td><td style=\"text-align: right;\">-13.0808 </td><td style=\"text-align: right;\">14.4586 </td><td style=\"text-align: right;\"> -7.38602 </td><td style=\"text-align: right;\"> 4.83203   </td><td style=\"text-align: right;\"> -2.81312 </td><td style=\"text-align: right;\"> 3.11551 </td><td style=\"text-align: right;\">-1.6221  </td><td style=\"text-align: right;\">-2.3896  </td><td style=\"text-align: right;\">-6.51772 </td><td style=\"text-align: right;\">-1.40947 </td><td style=\"text-align: right;\"> -5.53795 </td><td style=\"text-align: right;\">-2.55542 </td><td style=\"text-align: right;\"> 0.0143681 </td><td style=\"text-align: right;\">-0.00445898 </td><td style=\"text-align: right;\">-0.000320919</td><td style=\"text-align: right;\"> 0.0176586</td><td style=\"text-align: right;\">-0.00343852 </td><td style=\"text-align: right;\"> 0.00974125</td><td>reggae   </td></tr>\n",
       "<tr><td style=\"text-align: right;\"> 204</td><td>country.00091.au  </td><td style=\"text-align: right;\">     0.353266</td><td style=\"text-align: right;\">0.0859233</td><td style=\"text-align: right;\">           1563.37 </td><td style=\"text-align: right;\">             1779.16</td><td style=\"text-align: right;\">  3233.9 </td><td style=\"text-align: right;\">           0.0647562</td><td style=\"text-align: right;\">0.0351508  </td><td style=\"text-align: right;\">1.12514 </td><td style=\"text-align: right;\">    0.413122</td><td style=\"text-align: right;\">     0.241086</td><td style=\"text-align: right;\">            18.5502</td><td style=\"text-align: right;\">-193.771 </td><td style=\"text-align: right;\">125.564 </td><td style=\"text-align: right;\">-20.9256 </td><td style=\"text-align: right;\">46.3516 </td><td style=\"text-align: right;\"> -2.69073 </td><td style=\"text-align: right;\">12.8336 </td><td style=\"text-align: right;\"> -6.60941 </td><td style=\"text-align: right;\">10.7362  </td><td style=\"text-align: right;\">-10.8962 </td><td style=\"text-align: right;\"> 6.12463</td><td style=\"text-align: right;\"> -9.43789 </td><td style=\"text-align: right;\"> 5.17432   </td><td style=\"text-align: right;\"> -3.65566 </td><td style=\"text-align: right;\"> 0.327166</td><td style=\"text-align: right;\">-8.02024 </td><td style=\"text-align: right;\"> 0.395742</td><td style=\"text-align: right;\">-6.52912 </td><td style=\"text-align: right;\"> 1.18383 </td><td style=\"text-align: right;\">  0.719214</td><td style=\"text-align: right;\">-5.2084  </td><td style=\"text-align: right;\"> 0.0294524 </td><td style=\"text-align: right;\">-0.0106782  </td><td style=\"text-align: right;\">-0.0479262  </td><td style=\"text-align: right;\"> 0.0648992</td><td style=\"text-align: right;\"> 0.00311105 </td><td style=\"text-align: right;\"> 0.0179152 </td><td>country  </td></tr>\n",
       "<tr><td style=\"text-align: right;\"> 929</td><td>rock.00037.au     </td><td style=\"text-align: right;\">     0.451848</td><td style=\"text-align: right;\">0.0859233</td><td style=\"text-align: right;\">           2626.99 </td><td style=\"text-align: right;\">             2442.76</td><td style=\"text-align: right;\">  5047.85</td><td style=\"text-align: right;\">           0.146319 </td><td style=\"text-align: right;\">0.00183419 </td><td style=\"text-align: right;\">0.808575</td><td style=\"text-align: right;\">    0.458057</td><td style=\"text-align: right;\">     0.242019</td><td style=\"text-align: right;\">            20.5514</td><td style=\"text-align: right;\"> -71.1372</td><td style=\"text-align: right;\"> 79.4475</td><td style=\"text-align: right;\">-20.7924 </td><td style=\"text-align: right;\">30.6585 </td><td style=\"text-align: right;\">  5.5389  </td><td style=\"text-align: right;\"> 3.69697</td><td style=\"text-align: right;\">  4.69623 </td><td style=\"text-align: right;\"> 7.27372 </td><td style=\"text-align: right;\"> -5.48595</td><td style=\"text-align: right;\"> 2.49024</td><td style=\"text-align: right;\">  0.83701 </td><td style=\"text-align: right;\">-0.584446  </td><td style=\"text-align: right;\"> -1.8936  </td><td style=\"text-align: right;\">-4.78601 </td><td style=\"text-align: right;\">-3.04349 </td><td style=\"text-align: right;\">-3.86966 </td><td style=\"text-align: right;\">-6.89932 </td><td style=\"text-align: right;\">-3.78038 </td><td style=\"text-align: right;\"> -4.80362 </td><td style=\"text-align: right;\">-4.80494 </td><td style=\"text-align: right;\"> 0.0374735 </td><td style=\"text-align: right;\">-0.0207299  </td><td style=\"text-align: right;\">-0.090524   </td><td style=\"text-align: right;\"> 0.0869865</td><td style=\"text-align: right;\"> 0.0184863  </td><td style=\"text-align: right;\"> 0.0216558 </td><td>rock     </td></tr>\n",
       "</tbody>\n",
       "</table>"
      ]
     },
     "metadata": {},
     "output_type": "display_data"
    },
    {
     "data": {
      "text/plain": []
     },
     "execution_count": 16,
     "metadata": {},
     "output_type": "execute_result"
    }
   ],
   "source": [
    "df_test = h2o.import_file('Exp4_test.csv')\n",
    "df_test.head()"
   ]
  },
  {
   "cell_type": "code",
   "execution_count": 17,
   "metadata": {},
   "outputs": [
    {
     "name": "stdout",
     "output_type": "stream",
     "text": [
      "Parse progress: |█████████████████████████████████████████████████████████| 100%\n",
      "deeplearning prediction progress: |███████████████████████████████████████| 100%\n"
     ]
    }
   ],
   "source": [
    "preds = aml.predict(df_test)"
   ]
  },
  {
   "cell_type": "code",
   "execution_count": 18,
   "metadata": {},
   "outputs": [
    {
     "data": {
      "text/html": [
       "<table>\n",
       "<thead>\n",
       "<tr><th>predict  </th><th style=\"text-align: right;\">      blues</th><th style=\"text-align: right;\">  classical</th><th style=\"text-align: right;\">    country</th><th style=\"text-align: right;\">      disco</th><th style=\"text-align: right;\">     hiphop</th><th style=\"text-align: right;\">       jazz</th><th style=\"text-align: right;\">      metal</th><th style=\"text-align: right;\">        pop</th><th style=\"text-align: right;\">     reggae</th><th style=\"text-align: right;\">       rock</th></tr>\n",
       "</thead>\n",
       "<tbody>\n",
       "<tr><td>blues    </td><td style=\"text-align: right;\">0.657329   </td><td style=\"text-align: right;\">1.07025e-08</td><td style=\"text-align: right;\">0.00184223 </td><td style=\"text-align: right;\">0.000106604</td><td style=\"text-align: right;\">0.0074217  </td><td style=\"text-align: right;\">0.000213031</td><td style=\"text-align: right;\">0.311348   </td><td style=\"text-align: right;\">6.62202e-11</td><td style=\"text-align: right;\">0.000542808</td><td style=\"text-align: right;\">0.0211971  </td></tr>\n",
       "<tr><td>pop      </td><td style=\"text-align: right;\">6.24164e-20</td><td style=\"text-align: right;\">6.93787e-17</td><td style=\"text-align: right;\">1.55131e-07</td><td style=\"text-align: right;\">2.68436e-05</td><td style=\"text-align: right;\">1.39566e-05</td><td style=\"text-align: right;\">2.37284e-09</td><td style=\"text-align: right;\">1.99125e-14</td><td style=\"text-align: right;\">0.999958   </td><td style=\"text-align: right;\">8.21562e-07</td><td style=\"text-align: right;\">5.44928e-09</td></tr>\n",
       "<tr><td>blues    </td><td style=\"text-align: right;\">0.976029   </td><td style=\"text-align: right;\">2.91196e-09</td><td style=\"text-align: right;\">0.000569035</td><td style=\"text-align: right;\">4.11215e-05</td><td style=\"text-align: right;\">0.000617866</td><td style=\"text-align: right;\">0.0124994  </td><td style=\"text-align: right;\">1.93454e-07</td><td style=\"text-align: right;\">7.29386e-13</td><td style=\"text-align: right;\">0.00962739 </td><td style=\"text-align: right;\">0.000615891</td></tr>\n",
       "<tr><td>rock     </td><td style=\"text-align: right;\">0.000356884</td><td style=\"text-align: right;\">9.19727e-07</td><td style=\"text-align: right;\">0.0293017  </td><td style=\"text-align: right;\">2.51027e-05</td><td style=\"text-align: right;\">0.0057351  </td><td style=\"text-align: right;\">3.3479e-06 </td><td style=\"text-align: right;\">2.93323e-08</td><td style=\"text-align: right;\">3.29931e-05</td><td style=\"text-align: right;\">0.000204464</td><td style=\"text-align: right;\">0.964339   </td></tr>\n",
       "<tr><td>hiphop   </td><td style=\"text-align: right;\">0.00161873 </td><td style=\"text-align: right;\">6.50187e-06</td><td style=\"text-align: right;\">0.000109158</td><td style=\"text-align: right;\">0.38933    </td><td style=\"text-align: right;\">0.601038   </td><td style=\"text-align: right;\">2.68273e-06</td><td style=\"text-align: right;\">0.00772459 </td><td style=\"text-align: right;\">1.06524e-09</td><td style=\"text-align: right;\">2.82813e-06</td><td style=\"text-align: right;\">0.000167233</td></tr>\n",
       "<tr><td>classical</td><td style=\"text-align: right;\">2.26948e-05</td><td style=\"text-align: right;\">0.996683   </td><td style=\"text-align: right;\">2.81531e-05</td><td style=\"text-align: right;\">2.75815e-12</td><td style=\"text-align: right;\">1.05294e-17</td><td style=\"text-align: right;\">0.00326104 </td><td style=\"text-align: right;\">1.19957e-23</td><td style=\"text-align: right;\">4.67357e-15</td><td style=\"text-align: right;\">4.1001e-09 </td><td style=\"text-align: right;\">5.56702e-06</td></tr>\n",
       "<tr><td>jazz     </td><td style=\"text-align: right;\">3.71255e-05</td><td style=\"text-align: right;\">0.0451006  </td><td style=\"text-align: right;\">0.00600301 </td><td style=\"text-align: right;\">2.33586e-11</td><td style=\"text-align: right;\">3.46337e-11</td><td style=\"text-align: right;\">0.948859   </td><td style=\"text-align: right;\">3.26267e-15</td><td style=\"text-align: right;\">2.87097e-15</td><td style=\"text-align: right;\">1.1181e-07 </td><td style=\"text-align: right;\">3.24607e-07</td></tr>\n",
       "<tr><td>reggae   </td><td style=\"text-align: right;\">1.01002e-05</td><td style=\"text-align: right;\">5.74712e-08</td><td style=\"text-align: right;\">0.000461752</td><td style=\"text-align: right;\">0.00079851 </td><td style=\"text-align: right;\">0.000402314</td><td style=\"text-align: right;\">1.85988e-05</td><td style=\"text-align: right;\">1.49218e-07</td><td style=\"text-align: right;\">1.2016e-05 </td><td style=\"text-align: right;\">0.986864   </td><td style=\"text-align: right;\">0.0114324  </td></tr>\n",
       "<tr><td>country  </td><td style=\"text-align: right;\">3.13485e-06</td><td style=\"text-align: right;\">2.32881e-08</td><td style=\"text-align: right;\">0.991958   </td><td style=\"text-align: right;\">4.28178e-08</td><td style=\"text-align: right;\">1.59533e-08</td><td style=\"text-align: right;\">0.000331369</td><td style=\"text-align: right;\">2.63216e-10</td><td style=\"text-align: right;\">4.45841e-08</td><td style=\"text-align: right;\">2.72291e-05</td><td style=\"text-align: right;\">0.00768064 </td></tr>\n",
       "<tr><td>rock     </td><td style=\"text-align: right;\">1.89489e-08</td><td style=\"text-align: right;\">4.93542e-10</td><td style=\"text-align: right;\">5.70243e-05</td><td style=\"text-align: right;\">2.81403e-06</td><td style=\"text-align: right;\">5.65012e-08</td><td style=\"text-align: right;\">1.20244e-10</td><td style=\"text-align: right;\">2.95754e-08</td><td style=\"text-align: right;\">3.9925e-09 </td><td style=\"text-align: right;\">4.77323e-07</td><td style=\"text-align: right;\">0.99994    </td></tr>\n",
       "</tbody>\n",
       "</table>"
      ]
     },
     "metadata": {},
     "output_type": "display_data"
    },
    {
     "data": {
      "text/plain": []
     },
     "execution_count": 18,
     "metadata": {},
     "output_type": "execute_result"
    }
   ],
   "source": [
    "preds"
   ]
  },
  {
   "cell_type": "code",
   "execution_count": null,
   "metadata": {},
   "outputs": [],
   "source": []
  },
  {
   "cell_type": "code",
   "execution_count": null,
   "metadata": {},
   "outputs": [],
   "source": []
  }
 ],
 "metadata": {
  "colab": {
   "collapsed_sections": [],
   "name": "Autosklearn",
   "provenance": [],
   "version": "0.3.2"
  },
  "kernelspec": {
   "display_name": "Python 3",
   "language": "python",
   "name": "python3"
  },
  "language_info": {
   "codemirror_mode": {
    "name": "ipython",
    "version": 3
   },
   "file_extension": ".py",
   "mimetype": "text/x-python",
   "name": "python",
   "nbconvert_exporter": "python",
   "pygments_lexer": "ipython3",
   "version": "3.6.8"
  }
 },
 "nbformat": 4,
 "nbformat_minor": 1
}
