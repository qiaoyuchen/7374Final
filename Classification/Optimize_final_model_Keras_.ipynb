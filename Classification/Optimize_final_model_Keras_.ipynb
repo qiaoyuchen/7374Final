{
  "nbformat": 4,
  "nbformat_minor": 0,
  "metadata": {
    "colab": {
      "name": "Optimize final model-Keras .ipynb",
      "version": "0.3.2",
      "provenance": [],
      "collapsed_sections": []
    },
    "kernelspec": {
      "name": "python3",
      "display_name": "Python 3"
    }
  },
  "cells": [
    {
      "metadata": {
        "id": "9ozZSWxeAzcV",
        "colab_type": "code",
        "colab": {}
      },
      "cell_type": "code",
      "source": [
        "from sklearn.metrics import classification_report\n",
        "from sklearn.metrics import confusion_matrix\n",
        "from sklearn.metrics import accuracy_score\n",
        "\n",
        "import pandas as pd\n",
        "from sklearn.utils import shuffle\n",
        "\n",
        "\n",
        "from sklearn.model_selection import train_test_split\n",
        "from sklearn.preprocessing import LabelEncoder, StandardScaler\n",
        "\n",
        "import keras\n",
        "from keras import models\n",
        "from keras import layers\n",
        "\n",
        "from keras.models import Sequential\n",
        "from keras.layers.recurrent import LSTM\n",
        "from keras.layers import Dense\n",
        "from keras.optimizers import Adam\n",
        "import numpy as np\n",
        "\n",
        "import numpy\n",
        "\n",
        "import timeit\n",
        "from keras.layers import Input, Flatten\n",
        "from keras.layers import Dropout\n",
        "from keras.wrappers.scikit_learn import KerasClassifier\n",
        "from sklearn.model_selection import GridSearchCV"
      ],
      "execution_count": 0,
      "outputs": []
    },
    {
      "metadata": {
        "id": "YB2DB-QMBMjA",
        "colab_type": "code",
        "colab": {}
      },
      "cell_type": "code",
      "source": [
        "from google.colab import files\n",
        "uploaded = files.upload()"
      ],
      "execution_count": 0,
      "outputs": []
    },
    {
      "metadata": {
        "id": "zwO69UxsBPx6",
        "colab_type": "code",
        "colab": {}
      },
      "cell_type": "code",
      "source": [
        "data = pd.read_csv('songs.csv')\n",
        "data = data.drop(['filename'],axis = 1)\n",
        "data = shuffle(data)"
      ],
      "execution_count": 0,
      "outputs": []
    },
    {
      "metadata": {
        "id": "5tUxt7wkBhsR",
        "colab_type": "code",
        "colab": {}
      },
      "cell_type": "code",
      "source": [
        "genre_list = data.iloc[:, -1]\n",
        "encoder = LabelEncoder()\n",
        "y = encoder.fit_transform(genre_list)"
      ],
      "execution_count": 0,
      "outputs": []
    },
    {
      "metadata": {
        "id": "bVrWIVb8Bmjp",
        "colab_type": "code",
        "colab": {}
      },
      "cell_type": "code",
      "source": [
        "scaler = StandardScaler()\n",
        "X = scaler.fit_transform(np.array(data.iloc[:, :-1], dtype = float))"
      ],
      "execution_count": 0,
      "outputs": []
    },
    {
      "metadata": {
        "id": "nw53P_z3BpCn",
        "colab_type": "code",
        "colab": {}
      },
      "cell_type": "code",
      "source": [
        "X_train, X_test, Y_train, Y_test = train_test_split(X, y, test_size=0.2)"
      ],
      "execution_count": 0,
      "outputs": []
    },
    {
      "metadata": {
        "id": "zTSxa12dGFYg",
        "colab_type": "code",
        "outputId": "b4cdbcd9-4576-46f9-818b-1c37cc0bf3f5",
        "colab": {
          "base_uri": "https://localhost:8080/",
          "height": 35
        }
      },
      "cell_type": "code",
      "source": [
        "X_train.shape"
      ],
      "execution_count": 0,
      "outputs": [
        {
          "output_type": "execute_result",
          "data": {
            "text/plain": [
              "(800, 37)"
            ]
          },
          "metadata": {
            "tags": []
          },
          "execution_count": 21
        }
      ]
    },
    {
      "metadata": {
        "id": "R_JFSAMuGIX1",
        "colab_type": "code",
        "outputId": "3761ac6f-feac-4bf0-adb1-ea3f21ab12f9",
        "colab": {
          "base_uri": "https://localhost:8080/",
          "height": 35
        }
      },
      "cell_type": "code",
      "source": [
        "Y_train.shape"
      ],
      "execution_count": 0,
      "outputs": [
        {
          "output_type": "execute_result",
          "data": {
            "text/plain": [
              "(800,)"
            ]
          },
          "metadata": {
            "tags": []
          },
          "execution_count": 22
        }
      ]
    },
    {
      "metadata": {
        "id": "oeuc0cRvBr-T",
        "colab_type": "code",
        "outputId": "d9ba1aea-375b-4bca-a004-9e5477fcbae5",
        "colab": {
          "base_uri": "https://localhost:8080/",
          "height": 467
        }
      },
      "cell_type": "code",
      "source": [
        "\n",
        "\n",
        "\n",
        "model = Sequential()\n",
        "model.add(layers.Dense(256, activation='relu', input_shape=(X_train.shape[1],)))\n",
        "model.add(Dropout(0.5))\n",
        "model.add(layers.Dense(128, activation='relu'))\n",
        "model.add(Dropout(0.5))\n",
        "#model.add(Flatten())\n",
        "model.add(Dense(128, activation='relu'))\n",
        "model.add(Dropout(0.5))\n",
        "model.add(layers.Dense(64, activation='relu'))\n",
        "model.add(Dropout(0.5))\n",
        "model.add(layers.Dense(10, activation='softmax'))\n",
        "\n",
        "model.compile(loss='sparse_categorical_crossentropy', optimizer = 'rmsprop', metrics=['accuracy'])\n",
        "\n",
        "model.summary()"
      ],
      "execution_count": 0,
      "outputs": [
        {
          "output_type": "stream",
          "text": [
            "_________________________________________________________________\n",
            "Layer (type)                 Output Shape              Param #   \n",
            "=================================================================\n",
            "dense_6 (Dense)              (None, 256)               9728      \n",
            "_________________________________________________________________\n",
            "dropout_5 (Dropout)          (None, 256)               0         \n",
            "_________________________________________________________________\n",
            "dense_7 (Dense)              (None, 128)               32896     \n",
            "_________________________________________________________________\n",
            "dropout_6 (Dropout)          (None, 128)               0         \n",
            "_________________________________________________________________\n",
            "dense_8 (Dense)              (None, 128)               16512     \n",
            "_________________________________________________________________\n",
            "dropout_7 (Dropout)          (None, 128)               0         \n",
            "_________________________________________________________________\n",
            "dense_9 (Dense)              (None, 64)                8256      \n",
            "_________________________________________________________________\n",
            "dropout_8 (Dropout)          (None, 64)                0         \n",
            "_________________________________________________________________\n",
            "dense_10 (Dense)             (None, 10)                650       \n",
            "=================================================================\n",
            "Total params: 68,042\n",
            "Trainable params: 68,042\n",
            "Non-trainable params: 0\n",
            "_________________________________________________________________\n"
          ],
          "name": "stdout"
        }
      ]
    },
    {
      "metadata": {
        "id": "J7VaLalFFaUR",
        "colab_type": "code",
        "outputId": "f02610c2-dd7e-4438-fd65-ccfa8a39b8b2",
        "colab": {
          "base_uri": "https://localhost:8080/",
          "height": 1835
        }
      },
      "cell_type": "code",
      "source": [
        "history = model.fit(X_train,\n",
        "                    Y_train,\n",
        "                    epochs=50,\n",
        "                    batch_size=20,\n",
        "                   validation_split=0.1)"
      ],
      "execution_count": 0,
      "outputs": [
        {
          "output_type": "stream",
          "text": [
            "Train on 720 samples, validate on 80 samples\n",
            "Epoch 1/50\n",
            "720/720 [==============================] - 0s 598us/step - loss: 2.4851 - acc: 0.1069 - val_loss: 2.2135 - val_acc: 0.3125\n",
            "Epoch 2/50\n",
            "720/720 [==============================] - 0s 123us/step - loss: 2.2888 - acc: 0.1431 - val_loss: 2.1064 - val_acc: 0.4250\n",
            "Epoch 3/50\n",
            "720/720 [==============================] - 0s 122us/step - loss: 2.1499 - acc: 0.2014 - val_loss: 1.9544 - val_acc: 0.3875\n",
            "Epoch 4/50\n",
            "720/720 [==============================] - 0s 117us/step - loss: 2.0880 - acc: 0.2347 - val_loss: 1.8265 - val_acc: 0.3625\n",
            "Epoch 5/50\n",
            "720/720 [==============================] - 0s 120us/step - loss: 1.9895 - acc: 0.2444 - val_loss: 1.7087 - val_acc: 0.3500\n",
            "Epoch 6/50\n",
            "720/720 [==============================] - 0s 116us/step - loss: 1.9128 - acc: 0.2972 - val_loss: 1.6316 - val_acc: 0.3750\n",
            "Epoch 7/50\n",
            "720/720 [==============================] - 0s 119us/step - loss: 1.8806 - acc: 0.3083 - val_loss: 1.5747 - val_acc: 0.4000\n",
            "Epoch 8/50\n",
            "720/720 [==============================] - 0s 120us/step - loss: 1.8250 - acc: 0.3292 - val_loss: 1.4713 - val_acc: 0.4250\n",
            "Epoch 9/50\n",
            "720/720 [==============================] - 0s 135us/step - loss: 1.7474 - acc: 0.3472 - val_loss: 1.4679 - val_acc: 0.5000\n",
            "Epoch 10/50\n",
            "720/720 [==============================] - 0s 133us/step - loss: 1.7124 - acc: 0.3514 - val_loss: 1.4232 - val_acc: 0.5000\n",
            "Epoch 11/50\n",
            "720/720 [==============================] - 0s 136us/step - loss: 1.7193 - acc: 0.3597 - val_loss: 1.4406 - val_acc: 0.5250\n",
            "Epoch 12/50\n",
            "720/720 [==============================] - 0s 143us/step - loss: 1.6311 - acc: 0.3722 - val_loss: 1.3701 - val_acc: 0.5375\n",
            "Epoch 13/50\n",
            "720/720 [==============================] - 0s 136us/step - loss: 1.5607 - acc: 0.4167 - val_loss: 1.3426 - val_acc: 0.5625\n",
            "Epoch 14/50\n",
            "720/720 [==============================] - 0s 141us/step - loss: 1.5397 - acc: 0.4236 - val_loss: 1.3247 - val_acc: 0.6000\n",
            "Epoch 15/50\n",
            "720/720 [==============================] - 0s 137us/step - loss: 1.5370 - acc: 0.4292 - val_loss: 1.2923 - val_acc: 0.5125\n",
            "Epoch 16/50\n",
            "720/720 [==============================] - 0s 144us/step - loss: 1.4997 - acc: 0.4264 - val_loss: 1.2989 - val_acc: 0.5500\n",
            "Epoch 17/50\n",
            "720/720 [==============================] - 0s 143us/step - loss: 1.4693 - acc: 0.4514 - val_loss: 1.2809 - val_acc: 0.5500\n",
            "Epoch 18/50\n",
            "720/720 [==============================] - 0s 135us/step - loss: 1.4825 - acc: 0.4458 - val_loss: 1.2817 - val_acc: 0.5625\n",
            "Epoch 19/50\n",
            "720/720 [==============================] - 0s 135us/step - loss: 1.4635 - acc: 0.4639 - val_loss: 1.2580 - val_acc: 0.5625\n",
            "Epoch 20/50\n",
            "720/720 [==============================] - 0s 143us/step - loss: 1.3989 - acc: 0.5014 - val_loss: 1.2374 - val_acc: 0.5875\n",
            "Epoch 21/50\n",
            "720/720 [==============================] - 0s 134us/step - loss: 1.3600 - acc: 0.5236 - val_loss: 1.2316 - val_acc: 0.6250\n",
            "Epoch 22/50\n",
            "720/720 [==============================] - 0s 133us/step - loss: 1.3503 - acc: 0.5194 - val_loss: 1.2569 - val_acc: 0.6125\n",
            "Epoch 23/50\n",
            "720/720 [==============================] - 0s 143us/step - loss: 1.3829 - acc: 0.4875 - val_loss: 1.2015 - val_acc: 0.6000\n",
            "Epoch 24/50\n",
            "720/720 [==============================] - 0s 146us/step - loss: 1.2526 - acc: 0.5347 - val_loss: 1.2275 - val_acc: 0.5750\n",
            "Epoch 25/50\n",
            "720/720 [==============================] - 0s 133us/step - loss: 1.2814 - acc: 0.5236 - val_loss: 1.2110 - val_acc: 0.5875\n",
            "Epoch 26/50\n",
            "720/720 [==============================] - 0s 132us/step - loss: 1.2542 - acc: 0.5528 - val_loss: 1.1940 - val_acc: 0.5875\n",
            "Epoch 27/50\n",
            "720/720 [==============================] - 0s 140us/step - loss: 1.2510 - acc: 0.5542 - val_loss: 1.2057 - val_acc: 0.5875\n",
            "Epoch 28/50\n",
            "720/720 [==============================] - 0s 140us/step - loss: 1.2415 - acc: 0.5500 - val_loss: 1.1945 - val_acc: 0.6000\n",
            "Epoch 29/50\n",
            "720/720 [==============================] - 0s 134us/step - loss: 1.1862 - acc: 0.5875 - val_loss: 1.2375 - val_acc: 0.5875\n",
            "Epoch 30/50\n",
            "720/720 [==============================] - 0s 135us/step - loss: 1.1732 - acc: 0.5861 - val_loss: 1.2336 - val_acc: 0.6125\n",
            "Epoch 31/50\n",
            "720/720 [==============================] - 0s 138us/step - loss: 1.1694 - acc: 0.5792 - val_loss: 1.2509 - val_acc: 0.6375\n",
            "Epoch 32/50\n",
            "720/720 [==============================] - 0s 135us/step - loss: 1.1691 - acc: 0.5819 - val_loss: 1.2006 - val_acc: 0.6125\n",
            "Epoch 33/50\n",
            "720/720 [==============================] - 0s 140us/step - loss: 1.1347 - acc: 0.6292 - val_loss: 1.1896 - val_acc: 0.6500\n",
            "Epoch 34/50\n",
            "720/720 [==============================] - 0s 138us/step - loss: 1.1049 - acc: 0.6028 - val_loss: 1.2112 - val_acc: 0.6625\n",
            "Epoch 35/50\n",
            "720/720 [==============================] - 0s 139us/step - loss: 1.1020 - acc: 0.6056 - val_loss: 1.2326 - val_acc: 0.6250\n",
            "Epoch 36/50\n",
            "720/720 [==============================] - 0s 136us/step - loss: 1.1060 - acc: 0.6250 - val_loss: 1.2198 - val_acc: 0.6250\n",
            "Epoch 37/50\n",
            "720/720 [==============================] - 0s 141us/step - loss: 1.0112 - acc: 0.6444 - val_loss: 1.1958 - val_acc: 0.6125\n",
            "Epoch 38/50\n",
            "720/720 [==============================] - 0s 139us/step - loss: 1.0426 - acc: 0.6167 - val_loss: 1.1703 - val_acc: 0.6750\n",
            "Epoch 39/50\n",
            "720/720 [==============================] - 0s 141us/step - loss: 1.0098 - acc: 0.6417 - val_loss: 1.2334 - val_acc: 0.6625\n",
            "Epoch 40/50\n",
            "720/720 [==============================] - 0s 139us/step - loss: 1.0110 - acc: 0.6500 - val_loss: 1.1324 - val_acc: 0.6750\n",
            "Epoch 41/50\n",
            "720/720 [==============================] - 0s 138us/step - loss: 1.0468 - acc: 0.6556 - val_loss: 1.1694 - val_acc: 0.6125\n",
            "Epoch 42/50\n",
            "720/720 [==============================] - 0s 136us/step - loss: 1.0646 - acc: 0.6472 - val_loss: 1.1526 - val_acc: 0.6375\n",
            "Epoch 43/50\n",
            "720/720 [==============================] - 0s 137us/step - loss: 0.9766 - acc: 0.6750 - val_loss: 1.1744 - val_acc: 0.6125\n",
            "Epoch 44/50\n",
            "720/720 [==============================] - 0s 142us/step - loss: 0.9830 - acc: 0.6792 - val_loss: 1.2218 - val_acc: 0.6125\n",
            "Epoch 45/50\n",
            "720/720 [==============================] - 0s 135us/step - loss: 0.9598 - acc: 0.6750 - val_loss: 1.2413 - val_acc: 0.6500\n",
            "Epoch 46/50\n",
            "720/720 [==============================] - 0s 148us/step - loss: 1.0136 - acc: 0.6694 - val_loss: 1.2252 - val_acc: 0.6250\n",
            "Epoch 47/50\n",
            "720/720 [==============================] - 0s 138us/step - loss: 0.9509 - acc: 0.6750 - val_loss: 1.1991 - val_acc: 0.6500\n",
            "Epoch 48/50\n",
            "720/720 [==============================] - 0s 133us/step - loss: 0.9485 - acc: 0.6972 - val_loss: 1.2182 - val_acc: 0.6250\n",
            "Epoch 49/50\n",
            "720/720 [==============================] - 0s 129us/step - loss: 0.8602 - acc: 0.6903 - val_loss: 1.2448 - val_acc: 0.6125\n",
            "Epoch 50/50\n",
            "720/720 [==============================] - 0s 142us/step - loss: 0.8647 - acc: 0.6944 - val_loss: 1.2937 - val_acc: 0.6625\n"
          ],
          "name": "stdout"
        }
      ]
    },
    {
      "metadata": {
        "id": "msgOaLQbHmYX",
        "colab_type": "code",
        "outputId": "26ae2600-7370-4311-9659-d351c9ffab2d",
        "colab": {
          "base_uri": "https://localhost:8080/",
          "height": 53
        }
      },
      "cell_type": "code",
      "source": [
        "test_loss, test_acc = model.evaluate(X_test,Y_test)\n",
        "print('test_acc: ',test_acc)"
      ],
      "execution_count": 0,
      "outputs": [
        {
          "output_type": "stream",
          "text": [
            "200/200 [==============================] - 0s 81us/step\n",
            "test_acc:  0.615\n"
          ],
          "name": "stdout"
        }
      ]
    },
    {
      "metadata": {
        "id": "fHEM_yQpcJFL",
        "colab_type": "code",
        "colab": {}
      },
      "cell_type": "code",
      "source": [
        "from matplotlib import pyplot"
      ],
      "execution_count": 0,
      "outputs": []
    },
    {
      "metadata": {
        "id": "THZ2NsVXHueT",
        "colab_type": "code",
        "outputId": "3b122f14-a697-4f38-8b54-d6b0288e19e7",
        "colab": {
          "base_uri": "https://localhost:8080/",
          "height": 295
        }
      },
      "cell_type": "code",
      "source": [
        "pyplot.plot(history.history['loss'])\n",
        "pyplot.plot(history.history['val_loss'])\n",
        "pyplot.title('model loss')\n",
        "pyplot.ylabel('loss')\n",
        "pyplot.xlabel('epoch')\n",
        "pyplot.legend(['train', 'validation'], loc='upper left')\n",
        "pyplot.show()"
      ],
      "execution_count": 0,
      "outputs": [
        {
          "output_type": "display_data",
          "data": {
            "image/png": "[encoded data removed]",
            "text/plain": [
              "<Figure size 432x288 with 1 Axes>"
            ]
          },
          "metadata": {
            "tags": []
          }
        }
      ]
    },
    {
      "metadata": {
        "id": "S3mFrEaGa-kG",
        "colab_type": "code",
        "outputId": "4b07e6b2-9bf8-434f-daae-1139ae74ec74",
        "colab": {
          "base_uri": "https://localhost:8080/",
          "height": 295
        }
      },
      "cell_type": "code",
      "source": [
        "pyplot.plot(history.history['acc'])\n",
        "pyplot.plot(history.history['val_acc'])\n",
        "pyplot.title('model accuracy')\n",
        "pyplot.ylabel('accuracy')\n",
        "pyplot.xlabel('epoch')\n",
        "pyplot.legend(['train', 'test'], loc='upper left')\n",
        "pyplot.show()"
      ],
      "execution_count": 0,
      "outputs": [
        {
          "output_type": "display_data",
          "data": {
            "image/png": "[encoded data removed]",
            "text/plain": [
              "<Figure size 432x288 with 1 Axes>"
            ]
          },
          "metadata": {
            "tags": []
          }
        }
      ]
    },
    {
      "metadata": {
        "id": "o4_ez5J2aV7w",
        "colab_type": "code",
        "colab": {}
      },
      "cell_type": "code",
      "source": [
        "import pickle\n",
        "\n",
        "pickle.dump(model, open(\"model-keras2.pkl\",\"wb\"))\n",
        "files.download('model-keras2.pkl')"
      ],
      "execution_count": 0,
      "outputs": []
    }
  ]
}