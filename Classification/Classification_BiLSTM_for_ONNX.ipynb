{
  "nbformat": 4,
  "nbformat_minor": 0,
  "metadata": {
    "colab": {
      "name": "Classification_BiLSTM-for-ONNX.ipynb",
      "version": "0.3.2",
      "provenance": [],
      "collapsed_sections": []
    },
    "kernelspec": {
      "name": "python3",
      "display_name": "Python 3"
    }
  },
  "cells": [
    {
      "metadata": {
        "id": "ykuXie7UuXRS",
        "colab_type": "code",
        "outputId": "6ccc36db-b17a-4dd9-f554-3b77256e85c5",
        "colab": {
          "base_uri": "https://localhost:8080/",
          "height": 35
        }
      },
      "cell_type": "code",
      "source": [
        "import pandas as pd\n",
        "import numpy as np\n",
        "import matplotlib.pyplot as plt\n",
        "\n",
        "import csv\n",
        "import os\n",
        "\n",
        "from sklearn.model_selection import train_test_split\n",
        "from sklearn.preprocessing import LabelEncoder, StandardScaler\n",
        "\n",
        "import keras\n",
        "from keras import models\n",
        "from keras import layers\n",
        "\n",
        "from keras.models import Sequential\n",
        "from keras.layers.recurrent import LSTM\n",
        "from keras.layers import Dense, Bidirectional, Dropout, Flatten\n",
        "from keras.optimizers import Adam\n",
        "from keras.layers import TimeDistributed\n",
        "\n",
        "\n",
        "import timeit\n",
        "from sklearn.utils import shuffle"
      ],
      "execution_count": 0,
      "outputs": [
        {
          "output_type": "stream",
          "text": [
            "Using TensorFlow backend.\n"
          ],
          "name": "stderr"
        }
      ]
    },
    {
      "metadata": {
        "id": "svZYq_RZu1iL",
        "colab_type": "code",
        "colab": {}
      },
      "cell_type": "code",
      "source": [
        "from google.colab import files\n",
        "#files.upload() "
      ],
      "execution_count": 0,
      "outputs": []
    },
    {
      "metadata": {
        "id": "t8S3aDAUvlTi",
        "colab_type": "code",
        "outputId": "63d4df96-9a72-47e8-c356-01ecd190e9bf",
        "colab": {
          "base_uri": "https://localhost:8080/",
          "height": 539
        }
      },
      "cell_type": "code",
      "source": [
        "ls"
      ],
      "execution_count": 0,
      "outputs": [
        {
          "output_type": "stream",
          "text": [
            " blues.00006.au\n",
            " blues.00007.au\n",
            " blues.00008.au\n",
            " classical.00000.au\n",
            " country.00000.au\n",
            " country.00007.au\n",
            "'Derek_Clegg_-_10_-_A_Strong_Will_Is_Needed (1).mp3'\n",
            " Derek_Clegg_-_10_-_A_Strong_Will_Is_Needed.mp3\n",
            " disco.00000.au\n",
            " disco.00002.au\n",
            " hiphop.00000.au\n",
            " hiphop.00001.au\n",
            " hiphop.00002.au\n",
            " hiphop.00004.au\n",
            " model_bilstm.onnx\n",
            " model-bilstm.pkl\n",
            " model-BiLSTM.pkl\n",
            " model_keras2.onnx\n",
            " model-keras2.pkl\n",
            " model_keras.onnx\n",
            " model-keras.pkl\n",
            " model_lstm.onnx\n",
            " model-lstm.pkl\n",
            " \u001b[0m\u001b[01;34msample_data\u001b[0m/\n",
            " songname.png\n",
            "'songs (1).csv'\n",
            " songs.csv\n",
            "'You_get_the_Blues_ID_1201 (1).mp3'\n",
            " You_get_the_Blues_ID_1201.mp3\n"
          ],
          "name": "stdout"
        }
      ]
    },
    {
      "metadata": {
        "id": "pPgfmyIAEhWy",
        "colab_type": "code",
        "outputId": "3e6beeff-99a0-4e07-c434-94343f79d999",
        "colab": {
          "base_uri": "https://localhost:8080/",
          "height": 253
        }
      },
      "cell_type": "code",
      "source": [
        "data = pd.read_csv('songs.csv')\n",
        "data = data.drop(['filename'],axis = 1)\n",
        "data.head()"
      ],
      "execution_count": 0,
      "outputs": [
        {
          "output_type": "execute_result",
          "data": {
            "text/html": [
              "<div>\n",
              "<style scoped>\n",
              "    .dataframe tbody tr th:only-of-type {\n",
              "        vertical-align: middle;\n",
              "    }\n",
              "\n",
              "    .dataframe tbody tr th {\n",
              "        vertical-align: top;\n",
              "    }\n",
              "\n",
              "    .dataframe thead th {\n",
              "        text-align: right;\n",
              "    }\n",
              "</style>\n",
              "<table border=\"1\" class=\"dataframe\">\n",
              "  <thead>\n",
              "    <tr style=\"text-align: right;\">\n",
              "      <th></th>\n",
              "      <th>chroma_stft</th>\n",
              "      <th>rmse</th>\n",
              "      <th>spectral_centroid</th>\n",
              "      <th>spectral_bandwidth</th>\n",
              "      <th>rolloff</th>\n",
              "      <th>zero_crossing_rate</th>\n",
              "      <th>flatness</th>\n",
              "      <th>poly</th>\n",
              "      <th>chroma_cqt</th>\n",
              "      <th>chroma_cens</th>\n",
              "      <th>...</th>\n",
              "      <th>mfcc18</th>\n",
              "      <th>mfcc19</th>\n",
              "      <th>mfcc20</th>\n",
              "      <th>tonnetz1</th>\n",
              "      <th>tonnetz2</th>\n",
              "      <th>tonnetz3</th>\n",
              "      <th>tonnetz4</th>\n",
              "      <th>tonnetz5</th>\n",
              "      <th>tonnetz6</th>\n",
              "      <th>label</th>\n",
              "    </tr>\n",
              "  </thead>\n",
              "  <tbody>\n",
              "    <tr>\n",
              "      <th>0</th>\n",
              "      <td>0.257259</td>\n",
              "      <td>0.09198</td>\n",
              "      <td>1195.411640</td>\n",
              "      <td>1481.284259</td>\n",
              "      <td>2234.878153</td>\n",
              "      <td>0.058871</td>\n",
              "      <td>0.017725</td>\n",
              "      <td>1.086251</td>\n",
              "      <td>0.555419</td>\n",
              "      <td>0.268175</td>\n",
              "      <td>...</td>\n",
              "      <td>-1.337586</td>\n",
              "      <td>-3.719717</td>\n",
              "      <td>-4.353154</td>\n",
              "      <td>0.020575</td>\n",
              "      <td>0.016943</td>\n",
              "      <td>0.088439</td>\n",
              "      <td>-0.026695</td>\n",
              "      <td>0.012183</td>\n",
              "      <td>-0.005494</td>\n",
              "      <td>blues</td>\n",
              "    </tr>\n",
              "    <tr>\n",
              "      <th>1</th>\n",
              "      <td>0.412501</td>\n",
              "      <td>0.09198</td>\n",
              "      <td>2171.221742</td>\n",
              "      <td>1954.383785</td>\n",
              "      <td>4237.132712</td>\n",
              "      <td>0.132802</td>\n",
              "      <td>0.000642</td>\n",
              "      <td>0.594293</td>\n",
              "      <td>0.513369</td>\n",
              "      <td>0.267898</td>\n",
              "      <td>...</td>\n",
              "      <td>-0.271427</td>\n",
              "      <td>-3.696092</td>\n",
              "      <td>-0.504041</td>\n",
              "      <td>-0.002745</td>\n",
              "      <td>0.008571</td>\n",
              "      <td>-0.042509</td>\n",
              "      <td>0.057754</td>\n",
              "      <td>0.005468</td>\n",
              "      <td>0.017238</td>\n",
              "      <td>blues</td>\n",
              "    </tr>\n",
              "    <tr>\n",
              "      <th>2</th>\n",
              "      <td>0.379428</td>\n",
              "      <td>0.09198</td>\n",
              "      <td>2148.786199</td>\n",
              "      <td>2204.574064</td>\n",
              "      <td>4673.663406</td>\n",
              "      <td>0.098812</td>\n",
              "      <td>0.005946</td>\n",
              "      <td>1.750953</td>\n",
              "      <td>0.594625</td>\n",
              "      <td>0.274696</td>\n",
              "      <td>...</td>\n",
              "      <td>0.464257</td>\n",
              "      <td>-1.909089</td>\n",
              "      <td>-3.128308</td>\n",
              "      <td>-0.010565</td>\n",
              "      <td>0.000952</td>\n",
              "      <td>0.003099</td>\n",
              "      <td>0.026811</td>\n",
              "      <td>-0.004230</td>\n",
              "      <td>0.006860</td>\n",
              "      <td>blues</td>\n",
              "    </tr>\n",
              "    <tr>\n",
              "      <th>3</th>\n",
              "      <td>0.340983</td>\n",
              "      <td>0.09198</td>\n",
              "      <td>1529.835316</td>\n",
              "      <td>2038.617579</td>\n",
              "      <td>3548.820207</td>\n",
              "      <td>0.056044</td>\n",
              "      <td>0.005735</td>\n",
              "      <td>1.223702</td>\n",
              "      <td>0.509443</td>\n",
              "      <td>0.267173</td>\n",
              "      <td>...</td>\n",
              "      <td>0.293875</td>\n",
              "      <td>-0.287431</td>\n",
              "      <td>0.531573</td>\n",
              "      <td>-0.020591</td>\n",
              "      <td>0.000802</td>\n",
              "      <td>0.031767</td>\n",
              "      <td>-0.016651</td>\n",
              "      <td>0.005038</td>\n",
              "      <td>0.005216</td>\n",
              "      <td>blues</td>\n",
              "    </tr>\n",
              "    <tr>\n",
              "      <th>4</th>\n",
              "      <td>0.356588</td>\n",
              "      <td>0.09198</td>\n",
              "      <td>2068.371125</td>\n",
              "      <td>2033.930047</td>\n",
              "      <td>4231.499413</td>\n",
              "      <td>0.104372</td>\n",
              "      <td>0.002294</td>\n",
              "      <td>0.675315</td>\n",
              "      <td>0.503215</td>\n",
              "      <td>0.261366</td>\n",
              "      <td>...</td>\n",
              "      <td>0.194597</td>\n",
              "      <td>0.842872</td>\n",
              "      <td>-3.416576</td>\n",
              "      <td>0.007437</td>\n",
              "      <td>0.018288</td>\n",
              "      <td>0.046516</td>\n",
              "      <td>0.011819</td>\n",
              "      <td>0.007859</td>\n",
              "      <td>-0.007299</td>\n",
              "      <td>blues</td>\n",
              "    </tr>\n",
              "  </tbody>\n",
              "</table>\n",
              "<p>5 rows × 38 columns</p>\n",
              "</div>"
            ],
            "text/plain": [
              "   chroma_stft     rmse  spectral_centroid  spectral_bandwidth      rolloff  \\\n",
              "0     0.257259  0.09198        1195.411640         1481.284259  2234.878153   \n",
              "1     0.412501  0.09198        2171.221742         1954.383785  4237.132712   \n",
              "2     0.379428  0.09198        2148.786199         2204.574064  4673.663406   \n",
              "3     0.340983  0.09198        1529.835316         2038.617579  3548.820207   \n",
              "4     0.356588  0.09198        2068.371125         2033.930047  4231.499413   \n",
              "\n",
              "   zero_crossing_rate  flatness      poly  chroma_cqt  chroma_cens  ...  \\\n",
              "0            0.058871  0.017725  1.086251    0.555419     0.268175  ...   \n",
              "1            0.132802  0.000642  0.594293    0.513369     0.267898  ...   \n",
              "2            0.098812  0.005946  1.750953    0.594625     0.274696  ...   \n",
              "3            0.056044  0.005735  1.223702    0.509443     0.267173  ...   \n",
              "4            0.104372  0.002294  0.675315    0.503215     0.261366  ...   \n",
              "\n",
              "     mfcc18    mfcc19    mfcc20  tonnetz1  tonnetz2  tonnetz3  tonnetz4  \\\n",
              "0 -1.337586 -3.719717 -4.353154  0.020575  0.016943  0.088439 -0.026695   \n",
              "1 -0.271427 -3.696092 -0.504041 -0.002745  0.008571 -0.042509  0.057754   \n",
              "2  0.464257 -1.909089 -3.128308 -0.010565  0.000952  0.003099  0.026811   \n",
              "3  0.293875 -0.287431  0.531573 -0.020591  0.000802  0.031767 -0.016651   \n",
              "4  0.194597  0.842872 -3.416576  0.007437  0.018288  0.046516  0.011819   \n",
              "\n",
              "   tonnetz5  tonnetz6  label  \n",
              "0  0.012183 -0.005494  blues  \n",
              "1  0.005468  0.017238  blues  \n",
              "2 -0.004230  0.006860  blues  \n",
              "3  0.005038  0.005216  blues  \n",
              "4  0.007859 -0.007299  blues  \n",
              "\n",
              "[5 rows x 38 columns]"
            ]
          },
          "metadata": {
            "tags": []
          },
          "execution_count": 4
        }
      ]
    },
    {
      "metadata": {
        "id": "cK3x_44inSYQ",
        "colab_type": "code",
        "colab": {}
      },
      "cell_type": "code",
      "source": [
        "data = shuffle(data)"
      ],
      "execution_count": 0,
      "outputs": []
    },
    {
      "metadata": {
        "id": "VIrH-si2GLOh",
        "colab_type": "code",
        "colab": {}
      },
      "cell_type": "code",
      "source": [
        "genre_list = data.iloc[:, -1]\n",
        "encoder = LabelEncoder()\n",
        "y = encoder.fit_transform(genre_list)"
      ],
      "execution_count": 0,
      "outputs": []
    },
    {
      "metadata": {
        "id": "m5Dh4nleGMwo",
        "colab_type": "code",
        "colab": {}
      },
      "cell_type": "code",
      "source": [
        "scaler = StandardScaler()\n",
        "X = scaler.fit_transform(np.array(data.iloc[:, :-1], dtype = float))"
      ],
      "execution_count": 0,
      "outputs": []
    },
    {
      "metadata": {
        "id": "tLnZ8UCPGRlZ",
        "colab_type": "code",
        "colab": {}
      },
      "cell_type": "code",
      "source": [
        "X_train, X_test, y_train, y_test = train_test_split(X, y, test_size=0.1)"
      ],
      "execution_count": 0,
      "outputs": []
    },
    {
      "metadata": {
        "id": "qKpISoRsHI15",
        "colab_type": "code",
        "outputId": "7e59f640-4b09-4655-897c-b8d6d5442dd4",
        "colab": {
          "base_uri": "https://localhost:8080/",
          "height": 35
        }
      },
      "cell_type": "code",
      "source": [
        "X_train.shape"
      ],
      "execution_count": 0,
      "outputs": [
        {
          "output_type": "execute_result",
          "data": {
            "text/plain": [
              "(900, 37)"
            ]
          },
          "metadata": {
            "tags": []
          },
          "execution_count": 9
        }
      ]
    },
    {
      "metadata": {
        "id": "HwFutxW_EoAi",
        "colab_type": "code",
        "colab": {}
      },
      "cell_type": "code",
      "source": [
        "\n",
        "x_train = X_train.reshape((900, 1, 37))"
      ],
      "execution_count": 0,
      "outputs": []
    },
    {
      "metadata": {
        "id": "2vW3cZdwHGfx",
        "colab_type": "code",
        "outputId": "b65b6a20-bb18-447a-b905-1af8cefe3a03",
        "colab": {
          "base_uri": "https://localhost:8080/",
          "height": 35
        }
      },
      "cell_type": "code",
      "source": [
        "x_train.shape"
      ],
      "execution_count": 0,
      "outputs": [
        {
          "output_type": "execute_result",
          "data": {
            "text/plain": [
              "(900, 1, 37)"
            ]
          },
          "metadata": {
            "tags": []
          },
          "execution_count": 11
        }
      ]
    },
    {
      "metadata": {
        "id": "P2S8ADjPHLV5",
        "colab_type": "code",
        "outputId": "90da0969-4ee9-4699-beb3-e2023ca3e755",
        "colab": {
          "base_uri": "https://localhost:8080/",
          "height": 35
        }
      },
      "cell_type": "code",
      "source": [
        "y_train.shape"
      ],
      "execution_count": 0,
      "outputs": [
        {
          "output_type": "execute_result",
          "data": {
            "text/plain": [
              "(900,)"
            ]
          },
          "metadata": {
            "tags": []
          },
          "execution_count": 12
        }
      ]
    },
    {
      "metadata": {
        "id": "_pHRHNA-G2fw",
        "colab_type": "code",
        "colab": {}
      },
      "cell_type": "code",
      "source": [
        "ytrain = y_train.reshape((900, 1, ))"
      ],
      "execution_count": 0,
      "outputs": []
    },
    {
      "metadata": {
        "id": "CnCAJ_BvHjPR",
        "colab_type": "code",
        "outputId": "ba27003c-1c33-4ac2-d2b3-e22b3a01a393",
        "colab": {
          "base_uri": "https://localhost:8080/",
          "height": 35
        }
      },
      "cell_type": "code",
      "source": [
        "ytrain.shape"
      ],
      "execution_count": 0,
      "outputs": [
        {
          "output_type": "execute_result",
          "data": {
            "text/plain": [
              "(900, 1)"
            ]
          },
          "metadata": {
            "tags": []
          },
          "execution_count": 14
        }
      ]
    },
    {
      "metadata": {
        "id": "7YcHRIDswPBK",
        "colab_type": "code",
        "colab": {}
      },
      "cell_type": "code",
      "source": [
        "#prevent overfitting: https://stats.stackexchange.com/questions/204745/preventing-overfitting-of-lstm-on-small-dataset\n",
        "#https://www.researchgate.net/post/In_neural_networks_model_which_number_of_hidden_units_to_select\n",
        "#https://pdfs.semanticscholar.org/064f/1e85984b207c1eb3c53ac8b68037089b7a0b.pdf\n",
        "model = Sequential()\n",
        "model.add(Bidirectional(LSTM(512, input_shape=(1,37), return_sequences=True)))\n",
        "model.add(Dropout(0.5))\n",
        "model.add(TimeDistributed(Dense(128, activation='sigmoid')))\n",
        "model.add(Dropout(0.5))\n",
        "model.add(LSTM(128, return_sequences=False))\n",
        "#model.add(Flatten())\n",
        "#model.add(Dropout(0.5))\n",
        "model.add(layers.Dense(32, activation='sigmoid'))\n",
        "model.add(Dropout(0.5))\n",
        "\n",
        "\n",
        "model.add(Dense(10, activation='softmax'))\n",
        "model.compile(loss='sparse_categorical_crossentropy', optimizer='adam', metrics=['acc'])\n",
        "#model.summary()\n"
      ],
      "execution_count": 0,
      "outputs": []
    },
    {
      "metadata": {
        "id": "Z5lqkrqtBw08",
        "colab_type": "code",
        "outputId": "12bb6078-dd5f-4d71-b4cf-69763c22dced",
        "colab": {
          "base_uri": "https://localhost:8080/",
          "height": 755
        }
      },
      "cell_type": "code",
      "source": [
        "\n",
        "history = model.fit(x_train, ytrain,\n",
        "                    epochs=20,\n",
        "                    batch_size=16,\n",
        "                    validation_split=0.1)"
      ],
      "execution_count": 0,
      "outputs": [
        {
          "output_type": "stream",
          "text": [
            "Train on 810 samples, validate on 90 samples\n",
            "Epoch 1/20\n",
            "810/810 [==============================] - 8s 9ms/step - loss: 2.4852 - acc: 0.0951 - val_loss: 2.2745 - val_acc: 0.1333\n",
            "Epoch 2/20\n",
            "810/810 [==============================] - 4s 5ms/step - loss: 2.2462 - acc: 0.1543 - val_loss: 2.0860 - val_acc: 0.2444\n",
            "Epoch 3/20\n",
            "810/810 [==============================] - 4s 5ms/step - loss: 2.0640 - acc: 0.2160 - val_loss: 1.9066 - val_acc: 0.3222\n",
            "Epoch 4/20\n",
            "810/810 [==============================] - 4s 5ms/step - loss: 1.9565 - acc: 0.2753 - val_loss: 1.7595 - val_acc: 0.3889\n",
            "Epoch 5/20\n",
            "810/810 [==============================] - 4s 5ms/step - loss: 1.8433 - acc: 0.3136 - val_loss: 1.6204 - val_acc: 0.4222\n",
            "Epoch 6/20\n",
            "810/810 [==============================] - 4s 5ms/step - loss: 1.7704 - acc: 0.3642 - val_loss: 1.5517 - val_acc: 0.4333\n",
            "Epoch 7/20\n",
            "810/810 [==============================] - 4s 5ms/step - loss: 1.7117 - acc: 0.3926 - val_loss: 1.4712 - val_acc: 0.4889\n",
            "Epoch 8/20\n",
            "810/810 [==============================] - 4s 5ms/step - loss: 1.6434 - acc: 0.4173 - val_loss: 1.4206 - val_acc: 0.4778\n",
            "Epoch 9/20\n",
            "810/810 [==============================] - 4s 5ms/step - loss: 1.5597 - acc: 0.4481 - val_loss: 1.3529 - val_acc: 0.5222\n",
            "Epoch 10/20\n",
            "810/810 [==============================] - 4s 5ms/step - loss: 1.5277 - acc: 0.4556 - val_loss: 1.3027 - val_acc: 0.5444\n",
            "Epoch 11/20\n",
            "810/810 [==============================] - 4s 5ms/step - loss: 1.4557 - acc: 0.4963 - val_loss: 1.2675 - val_acc: 0.5667\n",
            "Epoch 12/20\n",
            "810/810 [==============================] - 4s 5ms/step - loss: 1.4261 - acc: 0.4790 - val_loss: 1.2599 - val_acc: 0.5333\n",
            "Epoch 13/20\n",
            "810/810 [==============================] - 4s 5ms/step - loss: 1.3830 - acc: 0.5136 - val_loss: 1.2335 - val_acc: 0.5556\n",
            "Epoch 14/20\n",
            "810/810 [==============================] - 4s 5ms/step - loss: 1.3395 - acc: 0.5247 - val_loss: 1.2025 - val_acc: 0.5667\n",
            "Epoch 15/20\n",
            "810/810 [==============================] - 4s 5ms/step - loss: 1.3284 - acc: 0.5420 - val_loss: 1.1373 - val_acc: 0.6222\n",
            "Epoch 16/20\n",
            "810/810 [==============================] - 4s 5ms/step - loss: 1.2750 - acc: 0.5704 - val_loss: 1.0984 - val_acc: 0.6222\n",
            "Epoch 17/20\n",
            "810/810 [==============================] - 4s 5ms/step - loss: 1.2390 - acc: 0.5827 - val_loss: 1.0723 - val_acc: 0.6333\n",
            "Epoch 18/20\n",
            "810/810 [==============================] - 4s 5ms/step - loss: 1.2193 - acc: 0.5877 - val_loss: 1.0607 - val_acc: 0.6556\n",
            "Epoch 19/20\n",
            "810/810 [==============================] - 4s 5ms/step - loss: 1.1703 - acc: 0.6062 - val_loss: 1.0945 - val_acc: 0.6111\n",
            "Epoch 20/20\n",
            "810/810 [==============================] - 4s 5ms/step - loss: 1.1300 - acc: 0.6333 - val_loss: 1.0653 - val_acc: 0.6556\n"
          ],
          "name": "stdout"
        }
      ]
    },
    {
      "metadata": {
        "id": "WLLBKYTSJNwf",
        "colab_type": "code",
        "colab": {}
      },
      "cell_type": "code",
      "source": [
        "x_test = X_test.reshape((100,1,37))"
      ],
      "execution_count": 0,
      "outputs": []
    },
    {
      "metadata": {
        "id": "Zju3_7jsJUgP",
        "colab_type": "code",
        "colab": {}
      },
      "cell_type": "code",
      "source": [
        "ytest = y_test.reshape((100,1))"
      ],
      "execution_count": 0,
      "outputs": []
    },
    {
      "metadata": {
        "id": "hgzFlG97JAfY",
        "colab_type": "code",
        "outputId": "cfddaf92-9ea3-417d-ba62-bac653ca2cbb",
        "colab": {
          "base_uri": "https://localhost:8080/",
          "height": 53
        }
      },
      "cell_type": "code",
      "source": [
        "test_loss, test_acc = model.evaluate(x_test,ytest)\n",
        "print('test_acc: ',test_acc)"
      ],
      "execution_count": 0,
      "outputs": [
        {
          "output_type": "stream",
          "text": [
            "100/100 [==============================] - 0s 496us/step\n",
            "test_acc:  0.7\n"
          ],
          "name": "stdout"
        }
      ]
    },
    {
      "metadata": {
        "id": "MWW4fwcuPuxy",
        "colab_type": "code",
        "colab": {}
      },
      "cell_type": "code",
      "source": [
        "from matplotlib import pyplot"
      ],
      "execution_count": 0,
      "outputs": []
    },
    {
      "metadata": {
        "id": "MaGV1WJaJ39e",
        "colab_type": "code",
        "outputId": "b55ea24c-f655-4095-88a9-4040ceb4132a",
        "colab": {
          "base_uri": "https://localhost:8080/",
          "height": 295
        }
      },
      "cell_type": "code",
      "source": [
        "pyplot.plot(history.history['loss'])\n",
        "pyplot.plot(history.history['val_loss'])\n",
        "pyplot.title('model loss')\n",
        "pyplot.ylabel('loss')\n",
        "pyplot.xlabel('epoch')\n",
        "pyplot.legend(['train', 'validation'], loc='upper left')\n",
        "pyplot.show()"
      ],
      "execution_count": 0,
      "outputs": [
        {
          "output_type": "display_data",
          "data": {
            "image/png": "[encoded data removed]",
            "text/plain": [
              "<Figure size 432x288 with 1 Axes>"
            ]
          },
          "metadata": {
            "tags": []
          }
        }
      ]
    },
    {
      "metadata": {
        "id": "IR5BDIf8N20z",
        "colab_type": "code",
        "outputId": "8e33518f-6511-444a-d889-c0d44760d925",
        "colab": {
          "base_uri": "https://localhost:8080/",
          "height": 295
        }
      },
      "cell_type": "code",
      "source": [
        "pyplot.plot(history.history['acc'])\n",
        "pyplot.plot(history.history['val_acc'])\n",
        "pyplot.title('model accuracy')\n",
        "pyplot.ylabel('accuracy')\n",
        "pyplot.xlabel('epoch')\n",
        "pyplot.legend(['train', 'test'], loc='upper left')\n",
        "pyplot.show()"
      ],
      "execution_count": 0,
      "outputs": [
        {
          "output_type": "display_data",
          "data": {
            "image/png": "[encoded data removed]",
            "text/plain": [
              "<Figure size 432x288 with 1 Axes>"
            ]
          },
          "metadata": {
            "tags": []
          }
        }
      ]
    },
    {
      "metadata": {
        "id": "zTkF8Eg8biVL",
        "colab_type": "code",
        "colab": {}
      },
      "cell_type": "code",
      "source": [
        "import pickle\n",
        "\n",
        "#serializing our model to a file called model.pkl\n",
        "pickle.dump(model, open(\"model-bilstm.pkl\",\"wb\"))\n"
      ],
      "execution_count": 0,
      "outputs": []
    },
    {
      "metadata": {
        "id": "IApgDfPAU7Yc",
        "colab_type": "code",
        "colab": {}
      },
      "cell_type": "code",
      "source": [
        "ls"
      ],
      "execution_count": 0,
      "outputs": []
    },
    {
      "metadata": {
        "id": "PnAR83xvVFSy",
        "colab_type": "code",
        "colab": {}
      },
      "cell_type": "code",
      "source": [
        "files.download('model-bilstm.pkl')"
      ],
      "execution_count": 0,
      "outputs": []
    },
    {
      "metadata": {
        "id": "3RL5HeH4_P43",
        "colab_type": "text"
      },
      "cell_type": "markdown",
      "source": [
        "Export as ONNX model"
      ]
    },
    {
      "metadata": {
        "id": "MCKX8twN-3rj",
        "colab_type": "code",
        "colab": {}
      },
      "cell_type": "code",
      "source": [
        "!pip install onnx"
      ],
      "execution_count": 0,
      "outputs": []
    },
    {
      "metadata": {
        "id": "4IeY1xYO-8BQ",
        "colab_type": "code",
        "colab": {}
      },
      "cell_type": "code",
      "source": [
        "!pip install onnxmltools"
      ],
      "execution_count": 0,
      "outputs": []
    },
    {
      "metadata": {
        "id": "yMlhwAMr_AZS",
        "colab_type": "code",
        "colab": {}
      },
      "cell_type": "code",
      "source": [
        "import onnxmltools\n",
        "from keras.models import load_model"
      ],
      "execution_count": 0,
      "outputs": []
    },
    {
      "metadata": {
        "id": "227-btmq_Dwj",
        "colab_type": "code",
        "colab": {}
      },
      "cell_type": "code",
      "source": [
        "onnx_model = onnxmltools.convert_keras(model)"
      ],
      "execution_count": 0,
      "outputs": []
    },
    {
      "metadata": {
        "id": "r8pe3JuR_JV0",
        "colab_type": "code",
        "colab": {}
      },
      "cell_type": "code",
      "source": [
        "output_onnx_model = 'model_bilstm4onnx.onnx'\n",
        "onnxmltools.utils.save_model(onnx_model, output_onnx_model)"
      ],
      "execution_count": 0,
      "outputs": []
    },
    {
      "metadata": {
        "id": "Q12D91VJ_Lvk",
        "colab_type": "code",
        "colab": {}
      },
      "cell_type": "code",
      "source": [
        "files.download('model_bilstm4onnx.onnx')"
      ],
      "execution_count": 0,
      "outputs": []
    }
  ]
}