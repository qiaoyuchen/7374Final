{
  "nbformat": 4,
  "nbformat_minor": 0,
  "metadata": {
    "colab": {
      "name": "Classification-LSTM.ipynb",
      "version": "0.3.2",
      "provenance": [],
      "collapsed_sections": []
    },
    "kernelspec": {
      "name": "python3",
      "display_name": "Python 3"
    }
  },
  "cells": [
    {
      "metadata": {
        "id": "ykuXie7UuXRS",
        "colab_type": "code",
        "colab": {}
      },
      "cell_type": "code",
      "source": [
        "import pandas as pd\n",
        "import numpy as np\n",
        "import matplotlib.pyplot as plt\n",
        "\n",
        "import csv\n",
        "import os\n",
        "\n",
        "from sklearn.model_selection import train_test_split\n",
        "from sklearn.preprocessing import LabelEncoder, StandardScaler\n",
        "\n",
        "import keras\n",
        "from keras import models\n",
        "from keras import layers\n",
        "\n",
        "from keras.models import Sequential\n",
        "from keras.layers.recurrent import LSTM\n",
        "from keras.layers import Dense, Dropout\n",
        "from keras.optimizers import Adam\n",
        "\n",
        "import timeit\n",
        "from sklearn.utils import shuffle"
      ],
      "execution_count": 0,
      "outputs": []
    },
    {
      "metadata": {
        "id": "svZYq_RZu1iL",
        "colab_type": "code",
        "colab": {}
      },
      "cell_type": "code",
      "source": [
        "from google.colab import files\n",
        "#files.upload() "
      ],
      "execution_count": 0,
      "outputs": []
    },
    {
      "metadata": {
        "id": "t8S3aDAUvlTi",
        "colab_type": "code",
        "outputId": "d6c368a5-a511-4bab-c2ab-c377e6c5e706",
        "colab": {
          "base_uri": "https://localhost:8080/",
          "height": 35
        }
      },
      "cell_type": "code",
      "source": [
        "ls"
      ],
      "execution_count": 0,
      "outputs": [
        {
          "output_type": "stream",
          "text": [
            " \u001b[0m\u001b[01;34msample_data\u001b[0m/  'songs (1).csv'   songs.csv\n"
          ],
          "name": "stdout"
        }
      ]
    },
    {
      "metadata": {
        "id": "pPgfmyIAEhWy",
        "colab_type": "code",
        "outputId": "5d191aa2-c663-4367-b323-404ca9730ab3",
        "colab": {
          "base_uri": "https://localhost:8080/",
          "height": 253
        }
      },
      "cell_type": "code",
      "source": [
        "data = pd.read_csv('songs.csv')\n",
        "data = data.drop(['filename'],axis = 1)\n",
        "data.head()"
      ],
      "execution_count": 0,
      "outputs": [
        {
          "output_type": "execute_result",
          "data": {
            "text/html": [
              "<div>\n",
              "<style scoped>\n",
              "    .dataframe tbody tr th:only-of-type {\n",
              "        vertical-align: middle;\n",
              "    }\n",
              "\n",
              "    .dataframe tbody tr th {\n",
              "        vertical-align: top;\n",
              "    }\n",
              "\n",
              "    .dataframe thead th {\n",
              "        text-align: right;\n",
              "    }\n",
              "</style>\n",
              "<table border=\"1\" class=\"dataframe\">\n",
              "  <thead>\n",
              "    <tr style=\"text-align: right;\">\n",
              "      <th></th>\n",
              "      <th>chroma_stft</th>\n",
              "      <th>rmse</th>\n",
              "      <th>spectral_centroid</th>\n",
              "      <th>spectral_bandwidth</th>\n",
              "      <th>rolloff</th>\n",
              "      <th>zero_crossing_rate</th>\n",
              "      <th>flatness</th>\n",
              "      <th>poly</th>\n",
              "      <th>chroma_cqt</th>\n",
              "      <th>chroma_cens</th>\n",
              "      <th>...</th>\n",
              "      <th>mfcc18</th>\n",
              "      <th>mfcc19</th>\n",
              "      <th>mfcc20</th>\n",
              "      <th>tonnetz1</th>\n",
              "      <th>tonnetz2</th>\n",
              "      <th>tonnetz3</th>\n",
              "      <th>tonnetz4</th>\n",
              "      <th>tonnetz5</th>\n",
              "      <th>tonnetz6</th>\n",
              "      <th>label</th>\n",
              "    </tr>\n",
              "  </thead>\n",
              "  <tbody>\n",
              "    <tr>\n",
              "      <th>0</th>\n",
              "      <td>0.257259</td>\n",
              "      <td>0.09198</td>\n",
              "      <td>1195.411640</td>\n",
              "      <td>1481.284259</td>\n",
              "      <td>2234.878153</td>\n",
              "      <td>0.058871</td>\n",
              "      <td>0.017725</td>\n",
              "      <td>1.086251</td>\n",
              "      <td>0.555419</td>\n",
              "      <td>0.268175</td>\n",
              "      <td>...</td>\n",
              "      <td>-1.337586</td>\n",
              "      <td>-3.719717</td>\n",
              "      <td>-4.353154</td>\n",
              "      <td>0.020575</td>\n",
              "      <td>0.016943</td>\n",
              "      <td>0.088439</td>\n",
              "      <td>-0.026695</td>\n",
              "      <td>0.012183</td>\n",
              "      <td>-0.005494</td>\n",
              "      <td>blues</td>\n",
              "    </tr>\n",
              "    <tr>\n",
              "      <th>1</th>\n",
              "      <td>0.412501</td>\n",
              "      <td>0.09198</td>\n",
              "      <td>2171.221742</td>\n",
              "      <td>1954.383785</td>\n",
              "      <td>4237.132712</td>\n",
              "      <td>0.132802</td>\n",
              "      <td>0.000642</td>\n",
              "      <td>0.594293</td>\n",
              "      <td>0.513369</td>\n",
              "      <td>0.267898</td>\n",
              "      <td>...</td>\n",
              "      <td>-0.271427</td>\n",
              "      <td>-3.696092</td>\n",
              "      <td>-0.504041</td>\n",
              "      <td>-0.002745</td>\n",
              "      <td>0.008571</td>\n",
              "      <td>-0.042509</td>\n",
              "      <td>0.057754</td>\n",
              "      <td>0.005468</td>\n",
              "      <td>0.017238</td>\n",
              "      <td>blues</td>\n",
              "    </tr>\n",
              "    <tr>\n",
              "      <th>2</th>\n",
              "      <td>0.379428</td>\n",
              "      <td>0.09198</td>\n",
              "      <td>2148.786199</td>\n",
              "      <td>2204.574064</td>\n",
              "      <td>4673.663406</td>\n",
              "      <td>0.098812</td>\n",
              "      <td>0.005946</td>\n",
              "      <td>1.750953</td>\n",
              "      <td>0.594625</td>\n",
              "      <td>0.274696</td>\n",
              "      <td>...</td>\n",
              "      <td>0.464257</td>\n",
              "      <td>-1.909089</td>\n",
              "      <td>-3.128308</td>\n",
              "      <td>-0.010565</td>\n",
              "      <td>0.000952</td>\n",
              "      <td>0.003099</td>\n",
              "      <td>0.026811</td>\n",
              "      <td>-0.004230</td>\n",
              "      <td>0.006860</td>\n",
              "      <td>blues</td>\n",
              "    </tr>\n",
              "    <tr>\n",
              "      <th>3</th>\n",
              "      <td>0.340983</td>\n",
              "      <td>0.09198</td>\n",
              "      <td>1529.835316</td>\n",
              "      <td>2038.617579</td>\n",
              "      <td>3548.820207</td>\n",
              "      <td>0.056044</td>\n",
              "      <td>0.005735</td>\n",
              "      <td>1.223702</td>\n",
              "      <td>0.509443</td>\n",
              "      <td>0.267173</td>\n",
              "      <td>...</td>\n",
              "      <td>0.293875</td>\n",
              "      <td>-0.287431</td>\n",
              "      <td>0.531573</td>\n",
              "      <td>-0.020591</td>\n",
              "      <td>0.000802</td>\n",
              "      <td>0.031767</td>\n",
              "      <td>-0.016651</td>\n",
              "      <td>0.005038</td>\n",
              "      <td>0.005216</td>\n",
              "      <td>blues</td>\n",
              "    </tr>\n",
              "    <tr>\n",
              "      <th>4</th>\n",
              "      <td>0.356588</td>\n",
              "      <td>0.09198</td>\n",
              "      <td>2068.371125</td>\n",
              "      <td>2033.930047</td>\n",
              "      <td>4231.499413</td>\n",
              "      <td>0.104372</td>\n",
              "      <td>0.002294</td>\n",
              "      <td>0.675315</td>\n",
              "      <td>0.503215</td>\n",
              "      <td>0.261366</td>\n",
              "      <td>...</td>\n",
              "      <td>0.194597</td>\n",
              "      <td>0.842872</td>\n",
              "      <td>-3.416576</td>\n",
              "      <td>0.007437</td>\n",
              "      <td>0.018288</td>\n",
              "      <td>0.046516</td>\n",
              "      <td>0.011819</td>\n",
              "      <td>0.007859</td>\n",
              "      <td>-0.007299</td>\n",
              "      <td>blues</td>\n",
              "    </tr>\n",
              "  </tbody>\n",
              "</table>\n",
              "<p>5 rows × 38 columns</p>\n",
              "</div>"
            ],
            "text/plain": [
              "   chroma_stft     rmse  spectral_centroid  spectral_bandwidth      rolloff  \\\n",
              "0     0.257259  0.09198        1195.411640         1481.284259  2234.878153   \n",
              "1     0.412501  0.09198        2171.221742         1954.383785  4237.132712   \n",
              "2     0.379428  0.09198        2148.786199         2204.574064  4673.663406   \n",
              "3     0.340983  0.09198        1529.835316         2038.617579  3548.820207   \n",
              "4     0.356588  0.09198        2068.371125         2033.930047  4231.499413   \n",
              "\n",
              "   zero_crossing_rate  flatness      poly  chroma_cqt  chroma_cens  ...  \\\n",
              "0            0.058871  0.017725  1.086251    0.555419     0.268175  ...   \n",
              "1            0.132802  0.000642  0.594293    0.513369     0.267898  ...   \n",
              "2            0.098812  0.005946  1.750953    0.594625     0.274696  ...   \n",
              "3            0.056044  0.005735  1.223702    0.509443     0.267173  ...   \n",
              "4            0.104372  0.002294  0.675315    0.503215     0.261366  ...   \n",
              "\n",
              "     mfcc18    mfcc19    mfcc20  tonnetz1  tonnetz2  tonnetz3  tonnetz4  \\\n",
              "0 -1.337586 -3.719717 -4.353154  0.020575  0.016943  0.088439 -0.026695   \n",
              "1 -0.271427 -3.696092 -0.504041 -0.002745  0.008571 -0.042509  0.057754   \n",
              "2  0.464257 -1.909089 -3.128308 -0.010565  0.000952  0.003099  0.026811   \n",
              "3  0.293875 -0.287431  0.531573 -0.020591  0.000802  0.031767 -0.016651   \n",
              "4  0.194597  0.842872 -3.416576  0.007437  0.018288  0.046516  0.011819   \n",
              "\n",
              "   tonnetz5  tonnetz6  label  \n",
              "0  0.012183 -0.005494  blues  \n",
              "1  0.005468  0.017238  blues  \n",
              "2 -0.004230  0.006860  blues  \n",
              "3  0.005038  0.005216  blues  \n",
              "4  0.007859 -0.007299  blues  \n",
              "\n",
              "[5 rows x 38 columns]"
            ]
          },
          "metadata": {
            "tags": []
          },
          "execution_count": 2
        }
      ]
    },
    {
      "metadata": {
        "id": "cK3x_44inSYQ",
        "colab_type": "code",
        "colab": {}
      },
      "cell_type": "code",
      "source": [
        "data = shuffle(data)"
      ],
      "execution_count": 0,
      "outputs": []
    },
    {
      "metadata": {
        "id": "VIrH-si2GLOh",
        "colab_type": "code",
        "colab": {}
      },
      "cell_type": "code",
      "source": [
        "genre_list = data.iloc[:, -1]\n",
        "encoder = LabelEncoder()\n",
        "y = encoder.fit_transform(genre_list)"
      ],
      "execution_count": 0,
      "outputs": []
    },
    {
      "metadata": {
        "id": "m5Dh4nleGMwo",
        "colab_type": "code",
        "colab": {}
      },
      "cell_type": "code",
      "source": [
        "scaler = StandardScaler()\n",
        "X = scaler.fit_transform(np.array(data.iloc[:, :-1], dtype = float))"
      ],
      "execution_count": 0,
      "outputs": []
    },
    {
      "metadata": {
        "id": "tLnZ8UCPGRlZ",
        "colab_type": "code",
        "colab": {}
      },
      "cell_type": "code",
      "source": [
        "X_train, X_test, y_train, y_test = train_test_split(X, y, test_size=0.1)"
      ],
      "execution_count": 0,
      "outputs": []
    },
    {
      "metadata": {
        "id": "qKpISoRsHI15",
        "colab_type": "code",
        "outputId": "382b10d0-d418-466e-be72-bcac98a4aadc",
        "colab": {
          "base_uri": "https://localhost:8080/",
          "height": 35
        }
      },
      "cell_type": "code",
      "source": [
        "X_train.shape"
      ],
      "execution_count": 0,
      "outputs": [
        {
          "output_type": "execute_result",
          "data": {
            "text/plain": [
              "(900, 37)"
            ]
          },
          "metadata": {
            "tags": []
          },
          "execution_count": 7
        }
      ]
    },
    {
      "metadata": {
        "id": "HwFutxW_EoAi",
        "colab_type": "code",
        "colab": {}
      },
      "cell_type": "code",
      "source": [
        "\n",
        "x_train = X_train.reshape((900, 1, 37))"
      ],
      "execution_count": 0,
      "outputs": []
    },
    {
      "metadata": {
        "id": "2vW3cZdwHGfx",
        "colab_type": "code",
        "outputId": "c863d6ed-9bf5-418d-fa9a-5dafc11d2245",
        "colab": {
          "base_uri": "https://localhost:8080/",
          "height": 35
        }
      },
      "cell_type": "code",
      "source": [
        "x_train.shape"
      ],
      "execution_count": 0,
      "outputs": [
        {
          "output_type": "execute_result",
          "data": {
            "text/plain": [
              "(900, 1, 37)"
            ]
          },
          "metadata": {
            "tags": []
          },
          "execution_count": 9
        }
      ]
    },
    {
      "metadata": {
        "id": "P2S8ADjPHLV5",
        "colab_type": "code",
        "outputId": "25ad0206-f6b7-48f4-bf4d-a51b73c8855e",
        "colab": {
          "base_uri": "https://localhost:8080/",
          "height": 35
        }
      },
      "cell_type": "code",
      "source": [
        "y_train.shape"
      ],
      "execution_count": 0,
      "outputs": [
        {
          "output_type": "execute_result",
          "data": {
            "text/plain": [
              "(900,)"
            ]
          },
          "metadata": {
            "tags": []
          },
          "execution_count": 10
        }
      ]
    },
    {
      "metadata": {
        "id": "_pHRHNA-G2fw",
        "colab_type": "code",
        "colab": {}
      },
      "cell_type": "code",
      "source": [
        "ytrain = y_train.reshape((900, 1, ))"
      ],
      "execution_count": 0,
      "outputs": []
    },
    {
      "metadata": {
        "id": "CnCAJ_BvHjPR",
        "colab_type": "code",
        "outputId": "08224664-6550-4e3b-8c3b-caf1f9001ed5",
        "colab": {
          "base_uri": "https://localhost:8080/",
          "height": 35
        }
      },
      "cell_type": "code",
      "source": [
        "ytrain.shape"
      ],
      "execution_count": 0,
      "outputs": [
        {
          "output_type": "execute_result",
          "data": {
            "text/plain": [
              "(900, 1)"
            ]
          },
          "metadata": {
            "tags": []
          },
          "execution_count": 12
        }
      ]
    },
    {
      "metadata": {
        "id": "7YcHRIDswPBK",
        "colab_type": "code",
        "colab": {}
      },
      "cell_type": "code",
      "source": [
        "#prevent overfitting: https://stats.stackexchange.com/questions/204745/preventing-overfitting-of-lstm-on-small-dataset\n",
        "#https://www.researchgate.net/post/In_neural_networks_model_which_number_of_hidden_units_to_select\n",
        "#https://pdfs.semanticscholar.org/064f/1e85984b207c1eb3c53ac8b68037089b7a0b.pdf\n",
        "\n",
        "model = Sequential()\n",
        "\n",
        "model.add(LSTM(units=256,  dropout=0.2, recurrent_dropout=0.1,return_sequences=True,input_shape=(1,37),activation='relu',use_bias=True))#,recurrent_activation='hard_sigmoid'\n",
        "model.add(Dropout(0.5))\n",
        "model.add(LSTM(units=128, dropout=0.2, recurrent_dropout=0.1, return_sequences=False, activation='relu'))\n",
        "model.add(Dropout(0.5))\n",
        "model.add(layers.Dense(64, activation='tanh'))\n",
        "model.add(Dropout(0.5))\n",
        "\n",
        "\n",
        "#model.add(layers.Dense(32, activation='relu'))\n",
        "#model.add(layers.Dense(13, activation='relu'))\n",
        "\n",
        "#model.add(Dense(16, activation='sigmoid'))\n",
        "\n",
        "\n",
        "model.add(layers.Dense(units = 10, activation='softmax'))\n"
      ],
      "execution_count": 0,
      "outputs": []
    },
    {
      "metadata": {
        "id": "Y12XNJpZBqjc",
        "colab_type": "code",
        "outputId": "f4a4856d-6f72-4d0e-c6e9-8f50e90cb886",
        "colab": {
          "base_uri": "https://localhost:8080/",
          "height": 395
        }
      },
      "cell_type": "code",
      "source": [
        "model.compile(optimizer='RMSProp', loss='sparse_categorical_crossentropy', metrics=['acc'])\n",
        "model.summary()"
      ],
      "execution_count": 0,
      "outputs": [
        {
          "output_type": "stream",
          "text": [
            "_________________________________________________________________\n",
            "Layer (type)                 Output Shape              Param #   \n",
            "=================================================================\n",
            "lstm_41 (LSTM)               (None, 1, 256)            301056    \n",
            "_________________________________________________________________\n",
            "dropout_48 (Dropout)         (None, 1, 256)            0         \n",
            "_________________________________________________________________\n",
            "lstm_42 (LSTM)               (None, 128)               197120    \n",
            "_________________________________________________________________\n",
            "dropout_49 (Dropout)         (None, 128)               0         \n",
            "_________________________________________________________________\n",
            "dense_41 (Dense)             (None, 64)                8256      \n",
            "_________________________________________________________________\n",
            "dropout_50 (Dropout)         (None, 64)                0         \n",
            "_________________________________________________________________\n",
            "dense_42 (Dense)             (None, 10)                650       \n",
            "=================================================================\n",
            "Total params: 507,082\n",
            "Trainable params: 507,082\n",
            "Non-trainable params: 0\n",
            "_________________________________________________________________\n"
          ],
          "name": "stdout"
        }
      ]
    },
    {
      "metadata": {
        "id": "Z5lqkrqtBw08",
        "colab_type": "code",
        "outputId": "13c9c4fe-7a0e-4811-84e9-026b0bcea3fb",
        "colab": {
          "base_uri": "https://localhost:8080/",
          "height": 1475
        }
      },
      "cell_type": "code",
      "source": [
        "\n",
        "history = model.fit(x_train, ytrain,\n",
        "                    epochs=40,\n",
        "                    batch_size=32,\n",
        "                    validation_split=0.1)"
      ],
      "execution_count": 0,
      "outputs": [
        {
          "output_type": "stream",
          "text": [
            "Train on 810 samples, validate on 90 samples\n",
            "Epoch 1/40\n",
            "810/810 [==============================] - 10s 13ms/step - loss: 2.2785 - acc: 0.1605 - val_loss: 2.2452 - val_acc: 0.2778\n",
            "Epoch 2/40\n",
            "810/810 [==============================] - 1s 861us/step - loss: 2.1150 - acc: 0.3025 - val_loss: 2.0249 - val_acc: 0.2333\n",
            "Epoch 3/40\n",
            "810/810 [==============================] - 1s 840us/step - loss: 1.8806 - acc: 0.3383 - val_loss: 1.8719 - val_acc: 0.2556\n",
            "Epoch 4/40\n",
            "810/810 [==============================] - 1s 845us/step - loss: 1.7662 - acc: 0.3556 - val_loss: 1.7664 - val_acc: 0.2889\n",
            "Epoch 5/40\n",
            "810/810 [==============================] - 1s 860us/step - loss: 1.6677 - acc: 0.3852 - val_loss: 1.6871 - val_acc: 0.3222\n",
            "Epoch 6/40\n",
            "810/810 [==============================] - 1s 863us/step - loss: 1.6158 - acc: 0.4123 - val_loss: 1.6221 - val_acc: 0.3444\n",
            "Epoch 7/40\n",
            "810/810 [==============================] - 1s 855us/step - loss: 1.5552 - acc: 0.4247 - val_loss: 1.5813 - val_acc: 0.3667\n",
            "Epoch 8/40\n",
            "810/810 [==============================] - 1s 854us/step - loss: 1.5168 - acc: 0.4506 - val_loss: 1.5334 - val_acc: 0.3889\n",
            "Epoch 9/40\n",
            "810/810 [==============================] - 1s 851us/step - loss: 1.4663 - acc: 0.4605 - val_loss: 1.4875 - val_acc: 0.3444\n",
            "Epoch 10/40\n",
            "810/810 [==============================] - 1s 903us/step - loss: 1.4736 - acc: 0.4556 - val_loss: 1.4728 - val_acc: 0.4111\n",
            "Epoch 11/40\n",
            "810/810 [==============================] - 1s 850us/step - loss: 1.3989 - acc: 0.5012 - val_loss: 1.4379 - val_acc: 0.3778\n",
            "Epoch 12/40\n",
            "810/810 [==============================] - 1s 858us/step - loss: 1.3957 - acc: 0.4778 - val_loss: 1.4240 - val_acc: 0.4000\n",
            "Epoch 13/40\n",
            "810/810 [==============================] - 1s 869us/step - loss: 1.3522 - acc: 0.5099 - val_loss: 1.3953 - val_acc: 0.4222\n",
            "Epoch 14/40\n",
            "810/810 [==============================] - 1s 873us/step - loss: 1.3085 - acc: 0.5037 - val_loss: 1.3823 - val_acc: 0.4222\n",
            "Epoch 15/40\n",
            "810/810 [==============================] - 1s 866us/step - loss: 1.3034 - acc: 0.5247 - val_loss: 1.3768 - val_acc: 0.4111\n",
            "Epoch 16/40\n",
            "810/810 [==============================] - 1s 860us/step - loss: 1.2806 - acc: 0.5420 - val_loss: 1.3512 - val_acc: 0.4111\n",
            "Epoch 17/40\n",
            "810/810 [==============================] - 1s 853us/step - loss: 1.2497 - acc: 0.5383 - val_loss: 1.3262 - val_acc: 0.4444\n",
            "Epoch 18/40\n",
            "810/810 [==============================] - 1s 837us/step - loss: 1.2343 - acc: 0.5494 - val_loss: 1.3250 - val_acc: 0.4556\n",
            "Epoch 19/40\n",
            "810/810 [==============================] - 1s 858us/step - loss: 1.2148 - acc: 0.5556 - val_loss: 1.3470 - val_acc: 0.4444\n",
            "Epoch 20/40\n",
            "810/810 [==============================] - 1s 859us/step - loss: 1.2222 - acc: 0.5543 - val_loss: 1.2893 - val_acc: 0.4444\n",
            "Epoch 21/40\n",
            "810/810 [==============================] - 1s 853us/step - loss: 1.2302 - acc: 0.5469 - val_loss: 1.3433 - val_acc: 0.4444\n",
            "Epoch 22/40\n",
            "810/810 [==============================] - 1s 863us/step - loss: 1.1982 - acc: 0.5519 - val_loss: 1.3060 - val_acc: 0.4444\n",
            "Epoch 23/40\n",
            "810/810 [==============================] - 1s 861us/step - loss: 1.1512 - acc: 0.5864 - val_loss: 1.2971 - val_acc: 0.4667\n",
            "Epoch 24/40\n",
            "810/810 [==============================] - 1s 849us/step - loss: 1.1479 - acc: 0.5938 - val_loss: 1.3005 - val_acc: 0.4778\n",
            "Epoch 25/40\n",
            "810/810 [==============================] - 1s 927us/step - loss: 1.1536 - acc: 0.5914 - val_loss: 1.2934 - val_acc: 0.4778\n",
            "Epoch 26/40\n",
            "810/810 [==============================] - 1s 856us/step - loss: 1.1512 - acc: 0.5778 - val_loss: 1.2636 - val_acc: 0.5111\n",
            "Epoch 27/40\n",
            "810/810 [==============================] - 1s 851us/step - loss: 1.0883 - acc: 0.6025 - val_loss: 1.2529 - val_acc: 0.4778\n",
            "Epoch 28/40\n",
            "810/810 [==============================] - 1s 847us/step - loss: 1.0874 - acc: 0.6000 - val_loss: 1.2295 - val_acc: 0.4778\n",
            "Epoch 29/40\n",
            "810/810 [==============================] - 1s 848us/step - loss: 1.0907 - acc: 0.5975 - val_loss: 1.2300 - val_acc: 0.5222\n",
            "Epoch 30/40\n",
            "810/810 [==============================] - 1s 868us/step - loss: 1.1103 - acc: 0.5914 - val_loss: 1.2427 - val_acc: 0.5111\n",
            "Epoch 31/40\n",
            "810/810 [==============================] - 1s 874us/step - loss: 1.1010 - acc: 0.6049 - val_loss: 1.2384 - val_acc: 0.5000\n",
            "Epoch 32/40\n",
            "810/810 [==============================] - 1s 867us/step - loss: 1.0712 - acc: 0.6235 - val_loss: 1.2188 - val_acc: 0.5444\n",
            "Epoch 33/40\n",
            "810/810 [==============================] - 1s 839us/step - loss: 1.0834 - acc: 0.6037 - val_loss: 1.2166 - val_acc: 0.5111\n",
            "Epoch 34/40\n",
            "810/810 [==============================] - 1s 836us/step - loss: 1.0468 - acc: 0.6185 - val_loss: 1.1997 - val_acc: 0.5111\n",
            "Epoch 35/40\n",
            "810/810 [==============================] - 1s 862us/step - loss: 1.0756 - acc: 0.6272 - val_loss: 1.1921 - val_acc: 0.5333\n",
            "Epoch 36/40\n",
            "810/810 [==============================] - 1s 834us/step - loss: 1.0342 - acc: 0.6432 - val_loss: 1.2039 - val_acc: 0.5111\n",
            "Epoch 37/40\n",
            "810/810 [==============================] - 1s 850us/step - loss: 1.0775 - acc: 0.6062 - val_loss: 1.1785 - val_acc: 0.5333\n",
            "Epoch 38/40\n",
            "810/810 [==============================] - 1s 841us/step - loss: 1.0348 - acc: 0.6432 - val_loss: 1.1910 - val_acc: 0.5444\n",
            "Epoch 39/40\n",
            "810/810 [==============================] - 1s 827us/step - loss: 1.0352 - acc: 0.6284 - val_loss: 1.2238 - val_acc: 0.5111\n",
            "Epoch 40/40\n",
            "810/810 [==============================] - 1s 911us/step - loss: 1.0309 - acc: 0.6309 - val_loss: 1.1817 - val_acc: 0.5222\n"
          ],
          "name": "stdout"
        }
      ]
    },
    {
      "metadata": {
        "id": "WLLBKYTSJNwf",
        "colab_type": "code",
        "colab": {}
      },
      "cell_type": "code",
      "source": [
        "x_test = X_test.reshape((100,1,37))"
      ],
      "execution_count": 0,
      "outputs": []
    },
    {
      "metadata": {
        "id": "Zju3_7jsJUgP",
        "colab_type": "code",
        "colab": {}
      },
      "cell_type": "code",
      "source": [
        "ytest = y_test.reshape((100,1))"
      ],
      "execution_count": 0,
      "outputs": []
    },
    {
      "metadata": {
        "id": "hgzFlG97JAfY",
        "colab_type": "code",
        "outputId": "8075f4b6-6f08-4fac-d45a-132f9444a3d1",
        "colab": {
          "base_uri": "https://localhost:8080/",
          "height": 53
        }
      },
      "cell_type": "code",
      "source": [
        "test_loss, test_acc = model.evaluate(x_test,ytest)\n",
        "print('test_acc: ',test_acc)"
      ],
      "execution_count": 0,
      "outputs": [
        {
          "output_type": "stream",
          "text": [
            "100/100 [==============================] - 0s 205us/step\n",
            "test_acc:  0.66\n"
          ],
          "name": "stdout"
        }
      ]
    },
    {
      "metadata": {
        "id": "MWW4fwcuPuxy",
        "colab_type": "code",
        "colab": {}
      },
      "cell_type": "code",
      "source": [
        "from matplotlib import pyplot"
      ],
      "execution_count": 0,
      "outputs": []
    },
    {
      "metadata": {
        "id": "MaGV1WJaJ39e",
        "colab_type": "code",
        "outputId": "ac8dcc5e-58f2-4bd2-c483-17b62aba8ffc",
        "colab": {
          "base_uri": "https://localhost:8080/",
          "height": 295
        }
      },
      "cell_type": "code",
      "source": [
        "pyplot.plot(history.history['loss'])\n",
        "pyplot.plot(history.history['val_loss'])\n",
        "pyplot.title('model loss')\n",
        "pyplot.ylabel('loss')\n",
        "pyplot.xlabel('epoch')\n",
        "pyplot.legend(['train', 'validation'], loc='upper left')\n",
        "pyplot.show()"
      ],
      "execution_count": 0,
      "outputs": [
        {
          "output_type": "display_data",
          "data": {
            "image/png": "[encoded data removed]",
            "text/plain": [
              "<Figure size 432x288 with 1 Axes>"
            ]
          },
          "metadata": {
            "tags": []
          }
        }
      ]
    },
    {
      "metadata": {
        "id": "IR5BDIf8N20z",
        "colab_type": "code",
        "outputId": "b5def24e-2ecf-4084-f98b-c0fdf712782e",
        "colab": {
          "base_uri": "https://localhost:8080/",
          "height": 295
        }
      },
      "cell_type": "code",
      "source": [
        "plt.plot(history.history['acc'])\n",
        "plt.plot(history.history['val_acc'])\n",
        "plt.title('model accuracy')\n",
        "plt.ylabel('accuracy')\n",
        "plt.xlabel('epoch')\n",
        "plt.legend(['train', 'test'], loc='upper left')\n",
        "plt.show()"
      ],
      "execution_count": 0,
      "outputs": [
        {
          "output_type": "display_data",
          "data": {
            "image/png": "[encoded data removed]",
            "text/plain": [
              "<Figure size 432x288 with 1 Axes>"
            ]
          },
          "metadata": {
            "tags": []
          }
        }
      ]
    },
    {
      "metadata": {
        "id": "zTkF8Eg8biVL",
        "colab_type": "code",
        "colab": {}
      },
      "cell_type": "code",
      "source": [
        " import pickle\n",
        "\n",
        "pickle.dump(model, open(\"model-lstm.pkl\",\"wb\"))\n",
        "files.download('model-lstm.pkl')"
      ],
      "execution_count": 0,
      "outputs": []
    },
    {
      "metadata": {
        "id": "1Iy0WzBsA14A",
        "colab_type": "text"
      },
      "cell_type": "markdown",
      "source": [
        "Export as ONNX model"
      ]
    },
    {
      "metadata": {
        "id": "HyZWWJ0tAxOy",
        "colab_type": "code",
        "colab": {}
      },
      "cell_type": "code",
      "source": [
        "!pip install onnx"
      ],
      "execution_count": 0,
      "outputs": []
    },
    {
      "metadata": {
        "id": "h_l6lO34A1Xw",
        "colab_type": "code",
        "colab": {}
      },
      "cell_type": "code",
      "source": [
        "!python -c \"import onnx\""
      ],
      "execution_count": 0,
      "outputs": []
    },
    {
      "metadata": {
        "id": "UelJOFvLA8UM",
        "colab_type": "code",
        "colab": {}
      },
      "cell_type": "code",
      "source": [
        "!pip install onnxmltools"
      ],
      "execution_count": 0,
      "outputs": []
    },
    {
      "metadata": {
        "id": "WpEH_xkNA_4_",
        "colab_type": "code",
        "colab": {}
      },
      "cell_type": "code",
      "source": [
        "import onnxmltools\n",
        "from keras.models import load_model"
      ],
      "execution_count": 0,
      "outputs": []
    },
    {
      "metadata": {
        "id": "VK_872GABClg",
        "colab_type": "code",
        "colab": {}
      },
      "cell_type": "code",
      "source": [
        "onnx_model = onnxmltools.convert_keras(model)"
      ],
      "execution_count": 0,
      "outputs": []
    },
    {
      "metadata": {
        "id": "STc4V2JWBKQO",
        "colab_type": "code",
        "colab": {}
      },
      "cell_type": "code",
      "source": [
        "output_onnx_model = 'model_lstm.onnx'\n",
        "onnxmltools.utils.save_model(onnx_model, output_onnx_model)"
      ],
      "execution_count": 0,
      "outputs": []
    },
    {
      "metadata": {
        "id": "75SATVoWBQEa",
        "colab_type": "code",
        "colab": {}
      },
      "cell_type": "code",
      "source": [
        "files.download('model_lstm.onnx')"
      ],
      "execution_count": 0,
      "outputs": []
    }
  ]
}