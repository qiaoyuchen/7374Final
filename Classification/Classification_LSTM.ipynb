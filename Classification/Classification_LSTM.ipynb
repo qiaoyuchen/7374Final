{
  "nbformat": 4,
  "nbformat_minor": 0,
  "metadata": {
    "colab": {
      "name": "Classification-LSTM.ipynb",
      "version": "0.3.2",
      "provenance": [],
      "collapsed_sections": []
    },
    "kernelspec": {
      "name": "python3",
      "display_name": "Python 3"
    }
  },
  "cells": [
    {
      "metadata": {
        "id": "ykuXie7UuXRS",
        "colab_type": "code",
        "outputId": "418bc40b-2404-4b9f-b79a-48bb6d890b4d",
        "colab": {
          "base_uri": "https://localhost:8080/",
          "height": 35
        }
      },
      "cell_type": "code",
      "source": [
        "import pandas as pd\n",
        "import numpy as np\n",
        "import matplotlib.pyplot as plt\n",
        "\n",
        "import csv\n",
        "import os\n",
        "\n",
        "from sklearn.model_selection import train_test_split\n",
        "from sklearn.preprocessing import LabelEncoder, StandardScaler\n",
        "\n",
        "import keras\n",
        "from keras import models\n",
        "from keras import layers\n",
        "\n",
        "from keras.models import Sequential\n",
        "from keras.layers.recurrent import LSTM\n",
        "from keras.layers import Dense\n",
        "from keras.optimizers import Adam\n",
        "\n",
        "import timeit\n",
        "from sklearn.utils import shuffle"
      ],
      "execution_count": 1,
      "outputs": [
        {
          "output_type": "stream",
          "text": [
            "Using TensorFlow backend.\n"
          ],
          "name": "stderr"
        }
      ]
    },
    {
      "metadata": {
        "id": "svZYq_RZu1iL",
        "colab_type": "code",
        "colab": {}
      },
      "cell_type": "code",
      "source": [
        "from google.colab import files\n",
        "#files.upload() "
      ],
      "execution_count": 0,
      "outputs": []
    },
    {
      "metadata": {
        "id": "t8S3aDAUvlTi",
        "colab_type": "code",
        "outputId": "d1a1fa2c-fe24-45ee-fc6f-1e80e45907bb",
        "colab": {
          "base_uri": "https://localhost:8080/",
          "height": 35
        }
      },
      "cell_type": "code",
      "source": [
        "ls"
      ],
      "execution_count": 3,
      "outputs": [
        {
          "output_type": "stream",
          "text": [
            " \u001b[0m\u001b[01;34msample_data\u001b[0m/  'songs (1).csv'  'songs (2).csv'   songs.csv\n"
          ],
          "name": "stdout"
        }
      ]
    },
    {
      "metadata": {
        "id": "pPgfmyIAEhWy",
        "colab_type": "code",
        "outputId": "2ec39425-b2fd-4841-85eb-3a5e4f99beb4",
        "colab": {
          "base_uri": "https://localhost:8080/",
          "height": 253
        }
      },
      "cell_type": "code",
      "source": [
        "data = pd.read_csv('songs.csv')\n",
        "data = data.drop(['filename'],axis = 1)\n",
        "data.head()"
      ],
      "execution_count": 4,
      "outputs": [
        {
          "output_type": "execute_result",
          "data": {
            "text/html": [
              "<div>\n",
              "<style scoped>\n",
              "    .dataframe tbody tr th:only-of-type {\n",
              "        vertical-align: middle;\n",
              "    }\n",
              "\n",
              "    .dataframe tbody tr th {\n",
              "        vertical-align: top;\n",
              "    }\n",
              "\n",
              "    .dataframe thead th {\n",
              "        text-align: right;\n",
              "    }\n",
              "</style>\n",
              "<table border=\"1\" class=\"dataframe\">\n",
              "  <thead>\n",
              "    <tr style=\"text-align: right;\">\n",
              "      <th></th>\n",
              "      <th>chroma_stft</th>\n",
              "      <th>rmse</th>\n",
              "      <th>spectral_centroid</th>\n",
              "      <th>spectral_bandwidth</th>\n",
              "      <th>rolloff</th>\n",
              "      <th>zero_crossing_rate</th>\n",
              "      <th>flatness</th>\n",
              "      <th>poly</th>\n",
              "      <th>chroma_cqt</th>\n",
              "      <th>chroma_cens</th>\n",
              "      <th>...</th>\n",
              "      <th>mfcc18</th>\n",
              "      <th>mfcc19</th>\n",
              "      <th>mfcc20</th>\n",
              "      <th>tonnetz1</th>\n",
              "      <th>tonnetz2</th>\n",
              "      <th>tonnetz3</th>\n",
              "      <th>tonnetz4</th>\n",
              "      <th>tonnetz5</th>\n",
              "      <th>tonnetz6</th>\n",
              "      <th>label</th>\n",
              "    </tr>\n",
              "  </thead>\n",
              "  <tbody>\n",
              "    <tr>\n",
              "      <th>0</th>\n",
              "      <td>0.257259</td>\n",
              "      <td>0.09198</td>\n",
              "      <td>1195.411640</td>\n",
              "      <td>1481.284259</td>\n",
              "      <td>2234.878153</td>\n",
              "      <td>0.058871</td>\n",
              "      <td>0.017725</td>\n",
              "      <td>1.086251</td>\n",
              "      <td>0.555419</td>\n",
              "      <td>0.268175</td>\n",
              "      <td>...</td>\n",
              "      <td>-1.337586</td>\n",
              "      <td>-3.719717</td>\n",
              "      <td>-4.353154</td>\n",
              "      <td>0.020575</td>\n",
              "      <td>0.016943</td>\n",
              "      <td>0.088439</td>\n",
              "      <td>-0.026695</td>\n",
              "      <td>0.012183</td>\n",
              "      <td>-0.005494</td>\n",
              "      <td>blues</td>\n",
              "    </tr>\n",
              "    <tr>\n",
              "      <th>1</th>\n",
              "      <td>0.412501</td>\n",
              "      <td>0.09198</td>\n",
              "      <td>2171.221742</td>\n",
              "      <td>1954.383785</td>\n",
              "      <td>4237.132712</td>\n",
              "      <td>0.132802</td>\n",
              "      <td>0.000642</td>\n",
              "      <td>0.594293</td>\n",
              "      <td>0.513369</td>\n",
              "      <td>0.267898</td>\n",
              "      <td>...</td>\n",
              "      <td>-0.271427</td>\n",
              "      <td>-3.696092</td>\n",
              "      <td>-0.504041</td>\n",
              "      <td>-0.002745</td>\n",
              "      <td>0.008571</td>\n",
              "      <td>-0.042509</td>\n",
              "      <td>0.057754</td>\n",
              "      <td>0.005468</td>\n",
              "      <td>0.017238</td>\n",
              "      <td>blues</td>\n",
              "    </tr>\n",
              "    <tr>\n",
              "      <th>2</th>\n",
              "      <td>0.379428</td>\n",
              "      <td>0.09198</td>\n",
              "      <td>2148.786199</td>\n",
              "      <td>2204.574064</td>\n",
              "      <td>4673.663406</td>\n",
              "      <td>0.098812</td>\n",
              "      <td>0.005946</td>\n",
              "      <td>1.750953</td>\n",
              "      <td>0.594625</td>\n",
              "      <td>0.274696</td>\n",
              "      <td>...</td>\n",
              "      <td>0.464257</td>\n",
              "      <td>-1.909089</td>\n",
              "      <td>-3.128308</td>\n",
              "      <td>-0.010565</td>\n",
              "      <td>0.000952</td>\n",
              "      <td>0.003099</td>\n",
              "      <td>0.026811</td>\n",
              "      <td>-0.004230</td>\n",
              "      <td>0.006860</td>\n",
              "      <td>blues</td>\n",
              "    </tr>\n",
              "    <tr>\n",
              "      <th>3</th>\n",
              "      <td>0.340983</td>\n",
              "      <td>0.09198</td>\n",
              "      <td>1529.835316</td>\n",
              "      <td>2038.617579</td>\n",
              "      <td>3548.820207</td>\n",
              "      <td>0.056044</td>\n",
              "      <td>0.005735</td>\n",
              "      <td>1.223702</td>\n",
              "      <td>0.509443</td>\n",
              "      <td>0.267173</td>\n",
              "      <td>...</td>\n",
              "      <td>0.293875</td>\n",
              "      <td>-0.287431</td>\n",
              "      <td>0.531573</td>\n",
              "      <td>-0.020591</td>\n",
              "      <td>0.000802</td>\n",
              "      <td>0.031767</td>\n",
              "      <td>-0.016651</td>\n",
              "      <td>0.005038</td>\n",
              "      <td>0.005216</td>\n",
              "      <td>blues</td>\n",
              "    </tr>\n",
              "    <tr>\n",
              "      <th>4</th>\n",
              "      <td>0.356588</td>\n",
              "      <td>0.09198</td>\n",
              "      <td>2068.371125</td>\n",
              "      <td>2033.930047</td>\n",
              "      <td>4231.499413</td>\n",
              "      <td>0.104372</td>\n",
              "      <td>0.002294</td>\n",
              "      <td>0.675315</td>\n",
              "      <td>0.503215</td>\n",
              "      <td>0.261366</td>\n",
              "      <td>...</td>\n",
              "      <td>0.194597</td>\n",
              "      <td>0.842872</td>\n",
              "      <td>-3.416576</td>\n",
              "      <td>0.007437</td>\n",
              "      <td>0.018288</td>\n",
              "      <td>0.046516</td>\n",
              "      <td>0.011819</td>\n",
              "      <td>0.007859</td>\n",
              "      <td>-0.007299</td>\n",
              "      <td>blues</td>\n",
              "    </tr>\n",
              "  </tbody>\n",
              "</table>\n",
              "<p>5 rows × 38 columns</p>\n",
              "</div>"
            ],
            "text/plain": [
              "   chroma_stft     rmse  spectral_centroid  spectral_bandwidth      rolloff  \\\n",
              "0     0.257259  0.09198        1195.411640         1481.284259  2234.878153   \n",
              "1     0.412501  0.09198        2171.221742         1954.383785  4237.132712   \n",
              "2     0.379428  0.09198        2148.786199         2204.574064  4673.663406   \n",
              "3     0.340983  0.09198        1529.835316         2038.617579  3548.820207   \n",
              "4     0.356588  0.09198        2068.371125         2033.930047  4231.499413   \n",
              "\n",
              "   zero_crossing_rate  flatness      poly  chroma_cqt  chroma_cens  ...    \\\n",
              "0            0.058871  0.017725  1.086251    0.555419     0.268175  ...     \n",
              "1            0.132802  0.000642  0.594293    0.513369     0.267898  ...     \n",
              "2            0.098812  0.005946  1.750953    0.594625     0.274696  ...     \n",
              "3            0.056044  0.005735  1.223702    0.509443     0.267173  ...     \n",
              "4            0.104372  0.002294  0.675315    0.503215     0.261366  ...     \n",
              "\n",
              "     mfcc18    mfcc19    mfcc20  tonnetz1  tonnetz2  tonnetz3  tonnetz4  \\\n",
              "0 -1.337586 -3.719717 -4.353154  0.020575  0.016943  0.088439 -0.026695   \n",
              "1 -0.271427 -3.696092 -0.504041 -0.002745  0.008571 -0.042509  0.057754   \n",
              "2  0.464257 -1.909089 -3.128308 -0.010565  0.000952  0.003099  0.026811   \n",
              "3  0.293875 -0.287431  0.531573 -0.020591  0.000802  0.031767 -0.016651   \n",
              "4  0.194597  0.842872 -3.416576  0.007437  0.018288  0.046516  0.011819   \n",
              "\n",
              "   tonnetz5  tonnetz6  label  \n",
              "0  0.012183 -0.005494  blues  \n",
              "1  0.005468  0.017238  blues  \n",
              "2 -0.004230  0.006860  blues  \n",
              "3  0.005038  0.005216  blues  \n",
              "4  0.007859 -0.007299  blues  \n",
              "\n",
              "[5 rows x 38 columns]"
            ]
          },
          "metadata": {
            "tags": []
          },
          "execution_count": 4
        }
      ]
    },
    {
      "metadata": {
        "id": "cK3x_44inSYQ",
        "colab_type": "code",
        "colab": {}
      },
      "cell_type": "code",
      "source": [
        "data = shuffle(data)"
      ],
      "execution_count": 0,
      "outputs": []
    },
    {
      "metadata": {
        "id": "VIrH-si2GLOh",
        "colab_type": "code",
        "colab": {}
      },
      "cell_type": "code",
      "source": [
        "genre_list = data.iloc[:, -1]\n",
        "encoder = LabelEncoder()\n",
        "y = encoder.fit_transform(genre_list)"
      ],
      "execution_count": 0,
      "outputs": []
    },
    {
      "metadata": {
        "id": "m5Dh4nleGMwo",
        "colab_type": "code",
        "colab": {}
      },
      "cell_type": "code",
      "source": [
        "scaler = StandardScaler()\n",
        "X = scaler.fit_transform(np.array(data.iloc[:, :-1], dtype = float))"
      ],
      "execution_count": 0,
      "outputs": []
    },
    {
      "metadata": {
        "id": "tLnZ8UCPGRlZ",
        "colab_type": "code",
        "colab": {}
      },
      "cell_type": "code",
      "source": [
        "X_train, X_test, y_train, y_test = train_test_split(X, y, test_size=0.1)"
      ],
      "execution_count": 0,
      "outputs": []
    },
    {
      "metadata": {
        "id": "qKpISoRsHI15",
        "colab_type": "code",
        "outputId": "1ea80d0d-8f82-4b17-9287-6dac1d766bda",
        "colab": {
          "base_uri": "https://localhost:8080/",
          "height": 35
        }
      },
      "cell_type": "code",
      "source": [
        "X_train.shape"
      ],
      "execution_count": 9,
      "outputs": [
        {
          "output_type": "execute_result",
          "data": {
            "text/plain": [
              "(900, 37)"
            ]
          },
          "metadata": {
            "tags": []
          },
          "execution_count": 9
        }
      ]
    },
    {
      "metadata": {
        "id": "HwFutxW_EoAi",
        "colab_type": "code",
        "colab": {}
      },
      "cell_type": "code",
      "source": [
        "\n",
        "x_train = X_train.reshape((900, 1, 37))"
      ],
      "execution_count": 0,
      "outputs": []
    },
    {
      "metadata": {
        "id": "2vW3cZdwHGfx",
        "colab_type": "code",
        "outputId": "99701f66-b3eb-4408-8b0e-73e1921582e3",
        "colab": {
          "base_uri": "https://localhost:8080/",
          "height": 35
        }
      },
      "cell_type": "code",
      "source": [
        "x_train.shape"
      ],
      "execution_count": 11,
      "outputs": [
        {
          "output_type": "execute_result",
          "data": {
            "text/plain": [
              "(900, 1, 37)"
            ]
          },
          "metadata": {
            "tags": []
          },
          "execution_count": 11
        }
      ]
    },
    {
      "metadata": {
        "id": "P2S8ADjPHLV5",
        "colab_type": "code",
        "outputId": "cb5579f6-a533-4e2b-ff2a-17be792b3ff0",
        "colab": {
          "base_uri": "https://localhost:8080/",
          "height": 35
        }
      },
      "cell_type": "code",
      "source": [
        "y_train.shape"
      ],
      "execution_count": 12,
      "outputs": [
        {
          "output_type": "execute_result",
          "data": {
            "text/plain": [
              "(900,)"
            ]
          },
          "metadata": {
            "tags": []
          },
          "execution_count": 12
        }
      ]
    },
    {
      "metadata": {
        "id": "_pHRHNA-G2fw",
        "colab_type": "code",
        "colab": {}
      },
      "cell_type": "code",
      "source": [
        "ytrain = y_train.reshape((900, 1, ))"
      ],
      "execution_count": 0,
      "outputs": []
    },
    {
      "metadata": {
        "id": "CnCAJ_BvHjPR",
        "colab_type": "code",
        "outputId": "6c56e8e5-ab8c-44f3-d11f-30f8cba6fd2a",
        "colab": {
          "base_uri": "https://localhost:8080/",
          "height": 35
        }
      },
      "cell_type": "code",
      "source": [
        "ytrain.shape"
      ],
      "execution_count": 14,
      "outputs": [
        {
          "output_type": "execute_result",
          "data": {
            "text/plain": [
              "(900, 1)"
            ]
          },
          "metadata": {
            "tags": []
          },
          "execution_count": 14
        }
      ]
    },
    {
      "metadata": {
        "id": "7YcHRIDswPBK",
        "colab_type": "code",
        "outputId": "40610443-e786-4da2-e988-71b0d6d1fbdc",
        "colab": {
          "base_uri": "https://localhost:8080/",
          "height": 145
        }
      },
      "cell_type": "code",
      "source": [
        "#prevent overfitting: https://stats.stackexchange.com/questions/204745/preventing-overfitting-of-lstm-on-small-dataset\n",
        "#https://www.researchgate.net/post/In_neural_networks_model_which_number_of_hidden_units_to_select\n",
        "#https://pdfs.semanticscholar.org/064f/1e85984b207c1eb3c53ac8b68037089b7a0b.pdf\n",
        "\n",
        "model = Sequential()\n",
        "\n",
        "model.add(LSTM(units=32, dropout=0.2, recurrent_dropout=0.1, return_sequences=True,input_shape=(1,37)))\n",
        "\n",
        "model.add(LSTM(units=16, dropout=0.2, recurrent_dropout=0.1, return_sequences=False))\n",
        "\n",
        "#model.add(layers.Dense(32, activation='relu'))\n",
        "#model.add(layers.Dense(13, activation='relu'))\n",
        "\n",
        "#model.add(Dense(16, activation='sigmoid'))\n",
        "\n",
        "model.add(layers.Dense(units = 10, activation='softmax'))\n"
      ],
      "execution_count": 15,
      "outputs": [
        {
          "output_type": "stream",
          "text": [
            "WARNING:tensorflow:From /usr/local/lib/python3.6/dist-packages/tensorflow/python/framework/op_def_library.py:263: colocate_with (from tensorflow.python.framework.ops) is deprecated and will be removed in a future version.\n",
            "Instructions for updating:\n",
            "Colocations handled automatically by placer.\n",
            "WARNING:tensorflow:From /usr/local/lib/python3.6/dist-packages/keras/backend/tensorflow_backend.py:3445: calling dropout (from tensorflow.python.ops.nn_ops) with keep_prob is deprecated and will be removed in a future version.\n",
            "Instructions for updating:\n",
            "Please use `rate` instead of `keep_prob`. Rate should be set to `rate = 1 - keep_prob`.\n"
          ],
          "name": "stdout"
        }
      ]
    },
    {
      "metadata": {
        "id": "Y12XNJpZBqjc",
        "colab_type": "code",
        "outputId": "a36a6768-c6d9-4e02-c8e0-f82dc6483f4c",
        "colab": {
          "base_uri": "https://localhost:8080/",
          "height": 251
        }
      },
      "cell_type": "code",
      "source": [
        "model.compile(optimizer='RMSProp', loss='sparse_categorical_crossentropy', metrics=['acc'])\n",
        "model.summary()"
      ],
      "execution_count": 16,
      "outputs": [
        {
          "output_type": "stream",
          "text": [
            "_________________________________________________________________\n",
            "Layer (type)                 Output Shape              Param #   \n",
            "=================================================================\n",
            "lstm_1 (LSTM)                (None, 1, 32)             8960      \n",
            "_________________________________________________________________\n",
            "lstm_2 (LSTM)                (None, 16)                3136      \n",
            "_________________________________________________________________\n",
            "dense_1 (Dense)              (None, 10)                170       \n",
            "=================================================================\n",
            "Total params: 12,266\n",
            "Trainable params: 12,266\n",
            "Non-trainable params: 0\n",
            "_________________________________________________________________\n"
          ],
          "name": "stdout"
        }
      ]
    },
    {
      "metadata": {
        "id": "Z5lqkrqtBw08",
        "colab_type": "code",
        "outputId": "a893cb4c-9d7b-4e1c-a205-8f5a1cd15993",
        "colab": {
          "base_uri": "https://localhost:8080/",
          "height": 1189
        }
      },
      "cell_type": "code",
      "source": [
        "\n",
        "history = model.fit(x_train, ytrain,\n",
        "                    epochs=30,\n",
        "                    batch_size=15,\n",
        "                    validation_split=0.1)"
      ],
      "execution_count": 17,
      "outputs": [
        {
          "output_type": "stream",
          "text": [
            "WARNING:tensorflow:From /usr/local/lib/python3.6/dist-packages/tensorflow/python/ops/math_ops.py:3066: to_int32 (from tensorflow.python.ops.math_ops) is deprecated and will be removed in a future version.\n",
            "Instructions for updating:\n",
            "Use tf.cast instead.\n",
            "Train on 810 samples, validate on 90 samples\n",
            "Epoch 1/30\n",
            "810/810 [==============================] - 2s 2ms/step - loss: 2.2718 - acc: 0.2407 - val_loss: 2.2377 - val_acc: 0.2889\n",
            "Epoch 2/30\n",
            "810/810 [==============================] - 0s 266us/step - loss: 2.1973 - acc: 0.3086 - val_loss: 2.1568 - val_acc: 0.2889\n",
            "Epoch 3/30\n",
            "810/810 [==============================] - 0s 258us/step - loss: 2.1066 - acc: 0.3272 - val_loss: 2.0751 - val_acc: 0.2889\n",
            "Epoch 4/30\n",
            "810/810 [==============================] - 0s 255us/step - loss: 2.0205 - acc: 0.3259 - val_loss: 2.0018 - val_acc: 0.3111\n",
            "Epoch 5/30\n",
            "810/810 [==============================] - 0s 258us/step - loss: 1.9352 - acc: 0.3358 - val_loss: 1.9364 - val_acc: 0.3000\n",
            "Epoch 6/30\n",
            "810/810 [==============================] - 0s 264us/step - loss: 1.8515 - acc: 0.3420 - val_loss: 1.8715 - val_acc: 0.3111\n",
            "Epoch 7/30\n",
            "810/810 [==============================] - 0s 263us/step - loss: 1.7731 - acc: 0.3753 - val_loss: 1.8088 - val_acc: 0.3111\n",
            "Epoch 8/30\n",
            "810/810 [==============================] - 0s 259us/step - loss: 1.6827 - acc: 0.3951 - val_loss: 1.7514 - val_acc: 0.3333\n",
            "Epoch 9/30\n",
            "810/810 [==============================] - 0s 259us/step - loss: 1.6233 - acc: 0.4235 - val_loss: 1.6981 - val_acc: 0.3889\n",
            "Epoch 10/30\n",
            "810/810 [==============================] - 0s 261us/step - loss: 1.5614 - acc: 0.4469 - val_loss: 1.6438 - val_acc: 0.3889\n",
            "Epoch 11/30\n",
            "810/810 [==============================] - 0s 262us/step - loss: 1.5151 - acc: 0.4741 - val_loss: 1.5906 - val_acc: 0.4111\n",
            "Epoch 12/30\n",
            "810/810 [==============================] - 0s 271us/step - loss: 1.4744 - acc: 0.4667 - val_loss: 1.5551 - val_acc: 0.4444\n",
            "Epoch 13/30\n",
            "810/810 [==============================] - 0s 263us/step - loss: 1.4278 - acc: 0.5086 - val_loss: 1.5183 - val_acc: 0.4556\n",
            "Epoch 14/30\n",
            "810/810 [==============================] - 0s 263us/step - loss: 1.3572 - acc: 0.5222 - val_loss: 1.4733 - val_acc: 0.4667\n",
            "Epoch 15/30\n",
            "810/810 [==============================] - 0s 268us/step - loss: 1.3487 - acc: 0.5407 - val_loss: 1.4472 - val_acc: 0.4667\n",
            "Epoch 16/30\n",
            "810/810 [==============================] - 0s 269us/step - loss: 1.3111 - acc: 0.5432 - val_loss: 1.4144 - val_acc: 0.4778\n",
            "Epoch 17/30\n",
            "810/810 [==============================] - 0s 261us/step - loss: 1.2879 - acc: 0.5444 - val_loss: 1.3783 - val_acc: 0.4889\n",
            "Epoch 18/30\n",
            "810/810 [==============================] - 0s 283us/step - loss: 1.2523 - acc: 0.5605 - val_loss: 1.3551 - val_acc: 0.4778\n",
            "Epoch 19/30\n",
            "810/810 [==============================] - 0s 258us/step - loss: 1.2264 - acc: 0.5667 - val_loss: 1.3239 - val_acc: 0.5222\n",
            "Epoch 20/30\n",
            "810/810 [==============================] - 0s 280us/step - loss: 1.1982 - acc: 0.5790 - val_loss: 1.3300 - val_acc: 0.5000\n",
            "Epoch 21/30\n",
            "810/810 [==============================] - 0s 268us/step - loss: 1.1810 - acc: 0.5938 - val_loss: 1.2970 - val_acc: 0.5111\n",
            "Epoch 22/30\n",
            "810/810 [==============================] - 0s 260us/step - loss: 1.1892 - acc: 0.5877 - val_loss: 1.2802 - val_acc: 0.5333\n",
            "Epoch 23/30\n",
            "810/810 [==============================] - 0s 256us/step - loss: 1.1542 - acc: 0.6111 - val_loss: 1.2696 - val_acc: 0.5444\n",
            "Epoch 24/30\n",
            "810/810 [==============================] - 0s 258us/step - loss: 1.1282 - acc: 0.6037 - val_loss: 1.2658 - val_acc: 0.5444\n",
            "Epoch 25/30\n",
            "810/810 [==============================] - 0s 264us/step - loss: 1.1283 - acc: 0.6086 - val_loss: 1.2401 - val_acc: 0.5778\n",
            "Epoch 26/30\n",
            "810/810 [==============================] - 0s 267us/step - loss: 1.1133 - acc: 0.5975 - val_loss: 1.2393 - val_acc: 0.5667\n",
            "Epoch 27/30\n",
            "810/810 [==============================] - 0s 264us/step - loss: 1.1126 - acc: 0.6247 - val_loss: 1.2259 - val_acc: 0.5667\n",
            "Epoch 28/30\n",
            "810/810 [==============================] - 0s 263us/step - loss: 1.0758 - acc: 0.6012 - val_loss: 1.2192 - val_acc: 0.5889\n",
            "Epoch 29/30\n",
            "810/810 [==============================] - 0s 269us/step - loss: 1.0742 - acc: 0.6099 - val_loss: 1.2012 - val_acc: 0.5778\n",
            "Epoch 30/30\n",
            "810/810 [==============================] - 0s 265us/step - loss: 1.0567 - acc: 0.6235 - val_loss: 1.1813 - val_acc: 0.5667\n"
          ],
          "name": "stdout"
        }
      ]
    },
    {
      "metadata": {
        "id": "WLLBKYTSJNwf",
        "colab_type": "code",
        "colab": {}
      },
      "cell_type": "code",
      "source": [
        "x_test = X_test.reshape((100,1,37))"
      ],
      "execution_count": 0,
      "outputs": []
    },
    {
      "metadata": {
        "id": "Zju3_7jsJUgP",
        "colab_type": "code",
        "colab": {}
      },
      "cell_type": "code",
      "source": [
        "ytest = y_test.reshape((100,1))"
      ],
      "execution_count": 0,
      "outputs": []
    },
    {
      "metadata": {
        "id": "hgzFlG97JAfY",
        "colab_type": "code",
        "outputId": "58291cb2-9775-4fce-8006-97fc53e94009",
        "colab": {
          "base_uri": "https://localhost:8080/",
          "height": 53
        }
      },
      "cell_type": "code",
      "source": [
        "test_loss, test_acc = model.evaluate(x_test,ytest)\n",
        "print('test_acc: ',test_acc)"
      ],
      "execution_count": 20,
      "outputs": [
        {
          "output_type": "stream",
          "text": [
            "100/100 [==============================] - 0s 100us/step\n",
            "test_acc:  0.67\n"
          ],
          "name": "stdout"
        }
      ]
    },
    {
      "metadata": {
        "id": "MWW4fwcuPuxy",
        "colab_type": "code",
        "colab": {}
      },
      "cell_type": "code",
      "source": [
        "from matplotlib import pyplot"
      ],
      "execution_count": 0,
      "outputs": []
    },
    {
      "metadata": {
        "id": "MaGV1WJaJ39e",
        "colab_type": "code",
        "outputId": "131fb9dd-1c25-40f7-c53b-07c4f11f6b80",
        "colab": {
          "base_uri": "https://localhost:8080/",
          "height": 295
        }
      },
      "cell_type": "code",
      "source": [
        "pyplot.plot(history.history['loss'])\n",
        "pyplot.plot(history.history['val_loss'])\n",
        "pyplot.title('model loss')\n",
        "pyplot.ylabel('loss')\n",
        "pyplot.xlabel('epoch')\n",
        "pyplot.legend(['train', 'validation'], loc='upper left')\n",
        "pyplot.show()"
      ],
      "execution_count": 22,
      "outputs": [
        {
          "output_type": "display_data",
          "data": {
            "image/png": "[encoded data removed]",
            "text/plain": [
              "<Figure size 432x288 with 1 Axes>"
            ]
          },
          "metadata": {
            "tags": []
          }
        }
      ]
    },
    {
      "metadata": {
        "id": "IR5BDIf8N20z",
        "colab_type": "code",
        "outputId": "290649e1-4800-4ab4-ec87-00a31915957e",
        "colab": {
          "base_uri": "https://localhost:8080/",
          "height": 295
        }
      },
      "cell_type": "code",
      "source": [
        "plt.plot(history.history['acc'])\n",
        "plt.plot(history.history['val_acc'])\n",
        "plt.title('model accuracy')\n",
        "plt.ylabel('accuracy')\n",
        "plt.xlabel('epoch')\n",
        "plt.legend(['train', 'test'], loc='upper left')\n",
        "plt.show()"
      ],
      "execution_count": 23,
      "outputs": [
        {
          "output_type": "display_data",
          "data": {
            "image/png": "[encoded data removed]",
            "text/plain": [
              "<Figure size 432x288 with 1 Axes>"
            ]
          },
          "metadata": {
            "tags": []
          }
        }
      ]
    }
  ]
}