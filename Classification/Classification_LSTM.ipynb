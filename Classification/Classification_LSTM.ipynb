{
  "nbformat": 4,
  "nbformat_minor": 0,
  "metadata": {
    "colab": {
      "name": "Classification-LSTM.ipynb",
      "version": "0.3.2",
      "provenance": [],
      "collapsed_sections": []
    },
    "kernelspec": {
      "name": "python3",
      "display_name": "Python 3"
    }
  },
  "cells": [
    {
      "metadata": {
        "id": "ykuXie7UuXRS",
        "colab_type": "code",
        "outputId": "a7e6a4ad-9ff0-498f-bc16-ad10f4066027",
        "colab": {
          "base_uri": "https://localhost:8080/",
          "height": 35
        }
      },
      "cell_type": "code",
      "source": [
        "import pandas as pd\n",
        "import numpy as np\n",
        "import matplotlib.pyplot as plt\n",
        "\n",
        "import csv\n",
        "import os\n",
        "\n",
        "from sklearn.model_selection import train_test_split\n",
        "from sklearn.preprocessing import LabelEncoder, StandardScaler\n",
        "\n",
        "import keras\n",
        "from keras import models\n",
        "from keras import layers\n",
        "\n",
        "from keras.models import Sequential\n",
        "from keras.layers.recurrent import LSTM\n",
        "from keras.layers import Dense\n",
        "from keras.optimizers import Adam\n",
        "\n",
        "import timeit"
      ],
      "execution_count": 0,
      "outputs": [
        {
          "output_type": "stream",
          "text": [
            "Using TensorFlow backend.\n"
          ],
          "name": "stderr"
        }
      ]
    },
    {
      "metadata": {
        "id": "svZYq_RZu1iL",
        "colab_type": "code",
        "colab": {}
      },
      "cell_type": "code",
      "source": [
        "from google.colab import files\n",
        "#files.upload() "
      ],
      "execution_count": 0,
      "outputs": []
    },
    {
      "metadata": {
        "id": "t8S3aDAUvlTi",
        "colab_type": "code",
        "outputId": "6a8667b2-769c-47a4-88d3-7e2968e1da51",
        "colab": {
          "base_uri": "https://localhost:8080/",
          "height": 35
        }
      },
      "cell_type": "code",
      "source": [
        "ls"
      ],
      "execution_count": 0,
      "outputs": [
        {
          "output_type": "stream",
          "text": [
            " \u001b[0m\u001b[01;34msample_data\u001b[0m/  'songs (1).csv'   songs.csv\n"
          ],
          "name": "stdout"
        }
      ]
    },
    {
      "metadata": {
        "id": "pPgfmyIAEhWy",
        "colab_type": "code",
        "outputId": "a1c3d5cd-747c-4881-dc92-124b990b1808",
        "colab": {
          "base_uri": "https://localhost:8080/",
          "height": 253
        }
      },
      "cell_type": "code",
      "source": [
        "data = pd.read_csv('songs.csv')\n",
        "data = data.drop(['filename'],axis = 1)\n",
        "data.head()"
      ],
      "execution_count": 0,
      "outputs": [
        {
          "output_type": "execute_result",
          "data": {
            "text/html": [
              "<div>\n",
              "<style scoped>\n",
              "    .dataframe tbody tr th:only-of-type {\n",
              "        vertical-align: middle;\n",
              "    }\n",
              "\n",
              "    .dataframe tbody tr th {\n",
              "        vertical-align: top;\n",
              "    }\n",
              "\n",
              "    .dataframe thead th {\n",
              "        text-align: right;\n",
              "    }\n",
              "</style>\n",
              "<table border=\"1\" class=\"dataframe\">\n",
              "  <thead>\n",
              "    <tr style=\"text-align: right;\">\n",
              "      <th></th>\n",
              "      <th>chroma_stft</th>\n",
              "      <th>rmse</th>\n",
              "      <th>spectral_centroid</th>\n",
              "      <th>spectral_bandwidth</th>\n",
              "      <th>rolloff</th>\n",
              "      <th>zero_crossing_rate</th>\n",
              "      <th>flatness</th>\n",
              "      <th>poly</th>\n",
              "      <th>chroma_cqt</th>\n",
              "      <th>chroma_cens</th>\n",
              "      <th>...</th>\n",
              "      <th>mfcc18</th>\n",
              "      <th>mfcc19</th>\n",
              "      <th>mfcc20</th>\n",
              "      <th>tonnetz1</th>\n",
              "      <th>tonnetz2</th>\n",
              "      <th>tonnetz3</th>\n",
              "      <th>tonnetz4</th>\n",
              "      <th>tonnetz5</th>\n",
              "      <th>tonnetz6</th>\n",
              "      <th>label</th>\n",
              "    </tr>\n",
              "  </thead>\n",
              "  <tbody>\n",
              "    <tr>\n",
              "      <th>0</th>\n",
              "      <td>0.257259</td>\n",
              "      <td>0.09198</td>\n",
              "      <td>1195.411640</td>\n",
              "      <td>1481.284259</td>\n",
              "      <td>2234.878153</td>\n",
              "      <td>0.058871</td>\n",
              "      <td>0.017725</td>\n",
              "      <td>1.086251</td>\n",
              "      <td>0.555419</td>\n",
              "      <td>0.268175</td>\n",
              "      <td>...</td>\n",
              "      <td>-1.337586</td>\n",
              "      <td>-3.719717</td>\n",
              "      <td>-4.353154</td>\n",
              "      <td>0.020575</td>\n",
              "      <td>0.016943</td>\n",
              "      <td>0.088439</td>\n",
              "      <td>-0.026695</td>\n",
              "      <td>0.012183</td>\n",
              "      <td>-0.005494</td>\n",
              "      <td>blues</td>\n",
              "    </tr>\n",
              "    <tr>\n",
              "      <th>1</th>\n",
              "      <td>0.412501</td>\n",
              "      <td>0.09198</td>\n",
              "      <td>2171.221742</td>\n",
              "      <td>1954.383785</td>\n",
              "      <td>4237.132712</td>\n",
              "      <td>0.132802</td>\n",
              "      <td>0.000642</td>\n",
              "      <td>0.594293</td>\n",
              "      <td>0.513369</td>\n",
              "      <td>0.267898</td>\n",
              "      <td>...</td>\n",
              "      <td>-0.271427</td>\n",
              "      <td>-3.696092</td>\n",
              "      <td>-0.504041</td>\n",
              "      <td>-0.002745</td>\n",
              "      <td>0.008571</td>\n",
              "      <td>-0.042509</td>\n",
              "      <td>0.057754</td>\n",
              "      <td>0.005468</td>\n",
              "      <td>0.017238</td>\n",
              "      <td>blues</td>\n",
              "    </tr>\n",
              "    <tr>\n",
              "      <th>2</th>\n",
              "      <td>0.379428</td>\n",
              "      <td>0.09198</td>\n",
              "      <td>2148.786199</td>\n",
              "      <td>2204.574064</td>\n",
              "      <td>4673.663406</td>\n",
              "      <td>0.098812</td>\n",
              "      <td>0.005946</td>\n",
              "      <td>1.750953</td>\n",
              "      <td>0.594625</td>\n",
              "      <td>0.274696</td>\n",
              "      <td>...</td>\n",
              "      <td>0.464257</td>\n",
              "      <td>-1.909089</td>\n",
              "      <td>-3.128308</td>\n",
              "      <td>-0.010565</td>\n",
              "      <td>0.000952</td>\n",
              "      <td>0.003099</td>\n",
              "      <td>0.026811</td>\n",
              "      <td>-0.004230</td>\n",
              "      <td>0.006860</td>\n",
              "      <td>blues</td>\n",
              "    </tr>\n",
              "    <tr>\n",
              "      <th>3</th>\n",
              "      <td>0.340983</td>\n",
              "      <td>0.09198</td>\n",
              "      <td>1529.835316</td>\n",
              "      <td>2038.617579</td>\n",
              "      <td>3548.820207</td>\n",
              "      <td>0.056044</td>\n",
              "      <td>0.005735</td>\n",
              "      <td>1.223702</td>\n",
              "      <td>0.509443</td>\n",
              "      <td>0.267173</td>\n",
              "      <td>...</td>\n",
              "      <td>0.293875</td>\n",
              "      <td>-0.287431</td>\n",
              "      <td>0.531573</td>\n",
              "      <td>-0.020591</td>\n",
              "      <td>0.000802</td>\n",
              "      <td>0.031767</td>\n",
              "      <td>-0.016651</td>\n",
              "      <td>0.005038</td>\n",
              "      <td>0.005216</td>\n",
              "      <td>blues</td>\n",
              "    </tr>\n",
              "    <tr>\n",
              "      <th>4</th>\n",
              "      <td>0.356588</td>\n",
              "      <td>0.09198</td>\n",
              "      <td>2068.371125</td>\n",
              "      <td>2033.930047</td>\n",
              "      <td>4231.499413</td>\n",
              "      <td>0.104372</td>\n",
              "      <td>0.002294</td>\n",
              "      <td>0.675315</td>\n",
              "      <td>0.503215</td>\n",
              "      <td>0.261366</td>\n",
              "      <td>...</td>\n",
              "      <td>0.194597</td>\n",
              "      <td>0.842872</td>\n",
              "      <td>-3.416576</td>\n",
              "      <td>0.007437</td>\n",
              "      <td>0.018288</td>\n",
              "      <td>0.046516</td>\n",
              "      <td>0.011819</td>\n",
              "      <td>0.007859</td>\n",
              "      <td>-0.007299</td>\n",
              "      <td>blues</td>\n",
              "    </tr>\n",
              "  </tbody>\n",
              "</table>\n",
              "<p>5 rows × 38 columns</p>\n",
              "</div>"
            ],
            "text/plain": [
              "   chroma_stft     rmse  spectral_centroid  spectral_bandwidth      rolloff  \\\n",
              "0     0.257259  0.09198        1195.411640         1481.284259  2234.878153   \n",
              "1     0.412501  0.09198        2171.221742         1954.383785  4237.132712   \n",
              "2     0.379428  0.09198        2148.786199         2204.574064  4673.663406   \n",
              "3     0.340983  0.09198        1529.835316         2038.617579  3548.820207   \n",
              "4     0.356588  0.09198        2068.371125         2033.930047  4231.499413   \n",
              "\n",
              "   zero_crossing_rate  flatness      poly  chroma_cqt  chroma_cens  ...    \\\n",
              "0            0.058871  0.017725  1.086251    0.555419     0.268175  ...     \n",
              "1            0.132802  0.000642  0.594293    0.513369     0.267898  ...     \n",
              "2            0.098812  0.005946  1.750953    0.594625     0.274696  ...     \n",
              "3            0.056044  0.005735  1.223702    0.509443     0.267173  ...     \n",
              "4            0.104372  0.002294  0.675315    0.503215     0.261366  ...     \n",
              "\n",
              "     mfcc18    mfcc19    mfcc20  tonnetz1  tonnetz2  tonnetz3  tonnetz4  \\\n",
              "0 -1.337586 -3.719717 -4.353154  0.020575  0.016943  0.088439 -0.026695   \n",
              "1 -0.271427 -3.696092 -0.504041 -0.002745  0.008571 -0.042509  0.057754   \n",
              "2  0.464257 -1.909089 -3.128308 -0.010565  0.000952  0.003099  0.026811   \n",
              "3  0.293875 -0.287431  0.531573 -0.020591  0.000802  0.031767 -0.016651   \n",
              "4  0.194597  0.842872 -3.416576  0.007437  0.018288  0.046516  0.011819   \n",
              "\n",
              "   tonnetz5  tonnetz6  label  \n",
              "0  0.012183 -0.005494  blues  \n",
              "1  0.005468  0.017238  blues  \n",
              "2 -0.004230  0.006860  blues  \n",
              "3  0.005038  0.005216  blues  \n",
              "4  0.007859 -0.007299  blues  \n",
              "\n",
              "[5 rows x 38 columns]"
            ]
          },
          "metadata": {
            "tags": []
          },
          "execution_count": 4
        }
      ]
    },
    {
      "metadata": {
        "id": "VIrH-si2GLOh",
        "colab_type": "code",
        "colab": {}
      },
      "cell_type": "code",
      "source": [
        "genre_list = data.iloc[:, -1]\n",
        "encoder = LabelEncoder()\n",
        "y = encoder.fit_transform(genre_list)"
      ],
      "execution_count": 0,
      "outputs": []
    },
    {
      "metadata": {
        "id": "m5Dh4nleGMwo",
        "colab_type": "code",
        "colab": {}
      },
      "cell_type": "code",
      "source": [
        "scaler = StandardScaler()\n",
        "X = scaler.fit_transform(np.array(data.iloc[:, :-1], dtype = float))"
      ],
      "execution_count": 0,
      "outputs": []
    },
    {
      "metadata": {
        "id": "tLnZ8UCPGRlZ",
        "colab_type": "code",
        "colab": {}
      },
      "cell_type": "code",
      "source": [
        "X_train, X_test, y_train, y_test = train_test_split(X, y, test_size=0.1)"
      ],
      "execution_count": 0,
      "outputs": []
    },
    {
      "metadata": {
        "id": "qKpISoRsHI15",
        "colab_type": "code",
        "outputId": "1b7e8f74-cc84-45b8-ccac-5f5909ca1fda",
        "colab": {
          "base_uri": "https://localhost:8080/",
          "height": 35
        }
      },
      "cell_type": "code",
      "source": [
        "X_train.shape"
      ],
      "execution_count": 0,
      "outputs": [
        {
          "output_type": "execute_result",
          "data": {
            "text/plain": [
              "(900, 37)"
            ]
          },
          "metadata": {
            "tags": []
          },
          "execution_count": 8
        }
      ]
    },
    {
      "metadata": {
        "id": "HwFutxW_EoAi",
        "colab_type": "code",
        "colab": {}
      },
      "cell_type": "code",
      "source": [
        "\n",
        "x_train = X_train.reshape((900, 1, 37))"
      ],
      "execution_count": 0,
      "outputs": []
    },
    {
      "metadata": {
        "id": "2vW3cZdwHGfx",
        "colab_type": "code",
        "outputId": "7c216751-57e5-45e3-fc4c-2bea58e0d9de",
        "colab": {
          "base_uri": "https://localhost:8080/",
          "height": 35
        }
      },
      "cell_type": "code",
      "source": [
        "x_train.shape"
      ],
      "execution_count": 0,
      "outputs": [
        {
          "output_type": "execute_result",
          "data": {
            "text/plain": [
              "(900, 1, 37)"
            ]
          },
          "metadata": {
            "tags": []
          },
          "execution_count": 10
        }
      ]
    },
    {
      "metadata": {
        "id": "P2S8ADjPHLV5",
        "colab_type": "code",
        "outputId": "d63478e7-23d8-47b0-8cd6-1c68f7d0a24a",
        "colab": {
          "base_uri": "https://localhost:8080/",
          "height": 35
        }
      },
      "cell_type": "code",
      "source": [
        "y_train.shape"
      ],
      "execution_count": 0,
      "outputs": [
        {
          "output_type": "execute_result",
          "data": {
            "text/plain": [
              "(900,)"
            ]
          },
          "metadata": {
            "tags": []
          },
          "execution_count": 11
        }
      ]
    },
    {
      "metadata": {
        "id": "_pHRHNA-G2fw",
        "colab_type": "code",
        "colab": {}
      },
      "cell_type": "code",
      "source": [
        "ytrain = y_train.reshape((900, 1, ))"
      ],
      "execution_count": 0,
      "outputs": []
    },
    {
      "metadata": {
        "id": "CnCAJ_BvHjPR",
        "colab_type": "code",
        "outputId": "716edc7e-a88d-4a70-af02-ae592b081431",
        "colab": {
          "base_uri": "https://localhost:8080/",
          "height": 35
        }
      },
      "cell_type": "code",
      "source": [
        "ytrain.shape"
      ],
      "execution_count": 0,
      "outputs": [
        {
          "output_type": "execute_result",
          "data": {
            "text/plain": [
              "(900, 1)"
            ]
          },
          "metadata": {
            "tags": []
          },
          "execution_count": 13
        }
      ]
    },
    {
      "metadata": {
        "id": "7YcHRIDswPBK",
        "colab_type": "code",
        "outputId": "7266f6e0-524b-40f9-f735-e43f325b284e",
        "colab": {
          "base_uri": "https://localhost:8080/",
          "height": 145
        }
      },
      "cell_type": "code",
      "source": [
        "#prevent overfitting: https://stats.stackexchange.com/questions/204745/preventing-overfitting-of-lstm-on-small-dataset\n",
        "#https://www.researchgate.net/post/In_neural_networks_model_which_number_of_hidden_units_to_select\n",
        "#https://pdfs.semanticscholar.org/064f/1e85984b207c1eb3c53ac8b68037089b7a0b.pdf\n",
        "\n",
        "model = Sequential()\n",
        "\n",
        "model.add(LSTM(units=32, dropout=0.3, recurrent_dropout=0.1, return_sequences=True,input_shape=(1,37)))\n",
        "\n",
        "model.add(LSTM(units=16, dropout=0.3, recurrent_dropout=0.1, return_sequences=False))\n",
        "\n",
        "#model.add(layers.Dense(32, activation='relu'))\n",
        "#model.add(layers.Dense(13, activation='relu'))\n",
        "\n",
        "#model.add(Dense(16, activation='sigmoid'))\n",
        "\n",
        "model.add(layers.Dense(units = 10, activation='softmax'))\n"
      ],
      "execution_count": 0,
      "outputs": [
        {
          "output_type": "stream",
          "text": [
            "WARNING:tensorflow:From /usr/local/lib/python3.6/dist-packages/tensorflow/python/framework/op_def_library.py:263: colocate_with (from tensorflow.python.framework.ops) is deprecated and will be removed in a future version.\n",
            "Instructions for updating:\n",
            "Colocations handled automatically by placer.\n",
            "WARNING:tensorflow:From /usr/local/lib/python3.6/dist-packages/keras/backend/tensorflow_backend.py:3445: calling dropout (from tensorflow.python.ops.nn_ops) with keep_prob is deprecated and will be removed in a future version.\n",
            "Instructions for updating:\n",
            "Please use `rate` instead of `keep_prob`. Rate should be set to `rate = 1 - keep_prob`.\n"
          ],
          "name": "stdout"
        }
      ]
    },
    {
      "metadata": {
        "id": "Y12XNJpZBqjc",
        "colab_type": "code",
        "outputId": "85c12c26-49fa-4301-8187-c5dcd3cd585e",
        "colab": {
          "base_uri": "https://localhost:8080/",
          "height": 251
        }
      },
      "cell_type": "code",
      "source": [
        "model.compile(optimizer='rmsprop', loss='sparse_categorical_crossentropy', metrics=['acc'])\n",
        "model.summary()"
      ],
      "execution_count": 0,
      "outputs": [
        {
          "output_type": "stream",
          "text": [
            "_________________________________________________________________\n",
            "Layer (type)                 Output Shape              Param #   \n",
            "=================================================================\n",
            "lstm_1 (LSTM)                (None, 1, 32)             8960      \n",
            "_________________________________________________________________\n",
            "lstm_2 (LSTM)                (None, 16)                3136      \n",
            "_________________________________________________________________\n",
            "dense_1 (Dense)              (None, 10)                170       \n",
            "=================================================================\n",
            "Total params: 12,266\n",
            "Trainable params: 12,266\n",
            "Non-trainable params: 0\n",
            "_________________________________________________________________\n"
          ],
          "name": "stdout"
        }
      ]
    },
    {
      "metadata": {
        "id": "Z5lqkrqtBw08",
        "colab_type": "code",
        "outputId": "bd94a86d-07a4-43c4-d4fa-e10cbdf3f494",
        "colab": {
          "base_uri": "https://localhost:8080/",
          "height": 3709
        }
      },
      "cell_type": "code",
      "source": [
        "\n",
        "history = model.fit(x_train, ytrain,\n",
        "                    epochs=100,\n",
        "                    batch_size=4,\n",
        "                    validation_split=0.1)"
      ],
      "execution_count": 0,
      "outputs": [
        {
          "output_type": "stream",
          "text": [
            "WARNING:tensorflow:From /usr/local/lib/python3.6/dist-packages/tensorflow/python/ops/math_ops.py:3066: to_int32 (from tensorflow.python.ops.math_ops) is deprecated and will be removed in a future version.\n",
            "Instructions for updating:\n",
            "Use tf.cast instead.\n",
            "Train on 810 samples, validate on 90 samples\n",
            "Epoch 1/100\n",
            "810/810 [==============================] - 2s 3ms/step - loss: 2.2421 - acc: 0.2481 - val_loss: 2.1435 - val_acc: 0.3778\n",
            "Epoch 2/100\n",
            "810/810 [==============================] - 1s 927us/step - loss: 2.0567 - acc: 0.3222 - val_loss: 1.9146 - val_acc: 0.3444\n",
            "Epoch 3/100\n",
            "810/810 [==============================] - 1s 948us/step - loss: 1.8637 - acc: 0.3321 - val_loss: 1.7378 - val_acc: 0.3556\n",
            "Epoch 4/100\n",
            "810/810 [==============================] - 1s 973us/step - loss: 1.7246 - acc: 0.3556 - val_loss: 1.6210 - val_acc: 0.3778\n",
            "Epoch 5/100\n",
            "810/810 [==============================] - 1s 960us/step - loss: 1.6340 - acc: 0.3889 - val_loss: 1.5409 - val_acc: 0.4222\n",
            "Epoch 6/100\n",
            "810/810 [==============================] - 1s 973us/step - loss: 1.5678 - acc: 0.4222 - val_loss: 1.4629 - val_acc: 0.4444\n",
            "Epoch 7/100\n",
            "810/810 [==============================] - 1s 950us/step - loss: 1.5065 - acc: 0.4481 - val_loss: 1.3927 - val_acc: 0.5333\n",
            "Epoch 8/100\n",
            "810/810 [==============================] - 1s 964us/step - loss: 1.4494 - acc: 0.4802 - val_loss: 1.3754 - val_acc: 0.5111\n",
            "Epoch 9/100\n",
            "810/810 [==============================] - 1s 989us/step - loss: 1.4137 - acc: 0.4864 - val_loss: 1.3087 - val_acc: 0.5111\n",
            "Epoch 10/100\n",
            "810/810 [==============================] - 1s 953us/step - loss: 1.3824 - acc: 0.4926 - val_loss: 1.2741 - val_acc: 0.5111\n",
            "Epoch 11/100\n",
            "810/810 [==============================] - 1s 973us/step - loss: 1.3300 - acc: 0.5062 - val_loss: 1.2453 - val_acc: 0.5000\n",
            "Epoch 12/100\n",
            "810/810 [==============================] - 1s 951us/step - loss: 1.2922 - acc: 0.5383 - val_loss: 1.1909 - val_acc: 0.5222\n",
            "Epoch 13/100\n",
            "810/810 [==============================] - 1s 954us/step - loss: 1.2850 - acc: 0.5593 - val_loss: 1.1583 - val_acc: 0.5222\n",
            "Epoch 14/100\n",
            "810/810 [==============================] - 1s 960us/step - loss: 1.2610 - acc: 0.5519 - val_loss: 1.1375 - val_acc: 0.5778\n",
            "Epoch 15/100\n",
            "810/810 [==============================] - 1s 1ms/step - loss: 1.2543 - acc: 0.5667 - val_loss: 1.1490 - val_acc: 0.5556\n",
            "Epoch 16/100\n",
            "810/810 [==============================] - 1s 962us/step - loss: 1.2141 - acc: 0.5531 - val_loss: 1.0919 - val_acc: 0.5889\n",
            "Epoch 17/100\n",
            "810/810 [==============================] - 1s 967us/step - loss: 1.2192 - acc: 0.5642 - val_loss: 1.0563 - val_acc: 0.6111\n",
            "Epoch 18/100\n",
            "810/810 [==============================] - 1s 955us/step - loss: 1.1842 - acc: 0.5630 - val_loss: 1.0725 - val_acc: 0.5667\n",
            "Epoch 19/100\n",
            "810/810 [==============================] - 1s 949us/step - loss: 1.1885 - acc: 0.5852 - val_loss: 1.0393 - val_acc: 0.5889\n",
            "Epoch 20/100\n",
            "810/810 [==============================] - 1s 958us/step - loss: 1.1382 - acc: 0.5926 - val_loss: 1.0293 - val_acc: 0.6111\n",
            "Epoch 21/100\n",
            "810/810 [==============================] - 1s 960us/step - loss: 1.1455 - acc: 0.5938 - val_loss: 0.9995 - val_acc: 0.6000\n",
            "Epoch 22/100\n",
            "810/810 [==============================] - 1s 952us/step - loss: 1.1589 - acc: 0.5877 - val_loss: 0.9978 - val_acc: 0.6000\n",
            "Epoch 23/100\n",
            "810/810 [==============================] - 1s 968us/step - loss: 1.1227 - acc: 0.5827 - val_loss: 1.0472 - val_acc: 0.5778\n",
            "Epoch 24/100\n",
            "810/810 [==============================] - 1s 955us/step - loss: 1.1384 - acc: 0.5840 - val_loss: 1.0063 - val_acc: 0.6000\n",
            "Epoch 25/100\n",
            "810/810 [==============================] - 1s 945us/step - loss: 1.1225 - acc: 0.5951 - val_loss: 1.0080 - val_acc: 0.5667\n",
            "Epoch 26/100\n",
            "810/810 [==============================] - 1s 954us/step - loss: 1.1292 - acc: 0.5877 - val_loss: 0.9713 - val_acc: 0.6222\n",
            "Epoch 27/100\n",
            "810/810 [==============================] - 1s 979us/step - loss: 1.0536 - acc: 0.6333 - val_loss: 0.9729 - val_acc: 0.6111\n",
            "Epoch 28/100\n",
            "810/810 [==============================] - 1s 953us/step - loss: 1.0940 - acc: 0.6123 - val_loss: 0.9962 - val_acc: 0.5778\n",
            "Epoch 29/100\n",
            "810/810 [==============================] - 1s 1ms/step - loss: 1.0555 - acc: 0.6086 - val_loss: 0.9648 - val_acc: 0.6111\n",
            "Epoch 30/100\n",
            "810/810 [==============================] - 1s 1ms/step - loss: 1.0572 - acc: 0.6074 - val_loss: 0.9617 - val_acc: 0.6111\n",
            "Epoch 31/100\n",
            "810/810 [==============================] - 1s 961us/step - loss: 1.0547 - acc: 0.6272 - val_loss: 0.9352 - val_acc: 0.6000\n",
            "Epoch 32/100\n",
            "810/810 [==============================] - 1s 921us/step - loss: 1.0522 - acc: 0.6309 - val_loss: 0.9484 - val_acc: 0.6222\n",
            "Epoch 33/100\n",
            "810/810 [==============================] - 1s 940us/step - loss: 1.0564 - acc: 0.6222 - val_loss: 0.9035 - val_acc: 0.6222\n",
            "Epoch 34/100\n",
            "810/810 [==============================] - 1s 963us/step - loss: 1.0268 - acc: 0.6284 - val_loss: 0.9227 - val_acc: 0.6444\n",
            "Epoch 35/100\n",
            "810/810 [==============================] - 1s 969us/step - loss: 1.0138 - acc: 0.6383 - val_loss: 0.9259 - val_acc: 0.6444\n",
            "Epoch 36/100\n",
            "810/810 [==============================] - 1s 951us/step - loss: 1.0278 - acc: 0.6222 - val_loss: 0.9504 - val_acc: 0.6333\n",
            "Epoch 37/100\n",
            "810/810 [==============================] - 1s 974us/step - loss: 1.0781 - acc: 0.6148 - val_loss: 0.9417 - val_acc: 0.6444\n",
            "Epoch 38/100\n",
            "810/810 [==============================] - 1s 957us/step - loss: 1.0490 - acc: 0.6284 - val_loss: 0.9489 - val_acc: 0.6333\n",
            "Epoch 39/100\n",
            "810/810 [==============================] - 1s 945us/step - loss: 1.0120 - acc: 0.6259 - val_loss: 0.9466 - val_acc: 0.6333\n",
            "Epoch 40/100\n",
            "810/810 [==============================] - 1s 943us/step - loss: 1.0237 - acc: 0.6407 - val_loss: 0.9620 - val_acc: 0.6000\n",
            "Epoch 41/100\n",
            "810/810 [==============================] - 1s 980us/step - loss: 0.9841 - acc: 0.6617 - val_loss: 0.9464 - val_acc: 0.6222\n",
            "Epoch 42/100\n",
            "810/810 [==============================] - 1s 983us/step - loss: 1.0058 - acc: 0.6370 - val_loss: 0.9272 - val_acc: 0.6556\n",
            "Epoch 43/100\n",
            "810/810 [==============================] - 1s 966us/step - loss: 1.0037 - acc: 0.6457 - val_loss: 0.8979 - val_acc: 0.6778\n",
            "Epoch 44/100\n",
            "810/810 [==============================] - 1s 955us/step - loss: 0.9863 - acc: 0.6543 - val_loss: 0.9292 - val_acc: 0.6556\n",
            "Epoch 45/100\n",
            "810/810 [==============================] - 1s 966us/step - loss: 0.9792 - acc: 0.6481 - val_loss: 0.9434 - val_acc: 0.6556\n",
            "Epoch 46/100\n",
            "810/810 [==============================] - 1s 941us/step - loss: 1.0133 - acc: 0.6259 - val_loss: 0.9635 - val_acc: 0.6333\n",
            "Epoch 47/100\n",
            "810/810 [==============================] - 1s 954us/step - loss: 0.9795 - acc: 0.6568 - val_loss: 0.9188 - val_acc: 0.6556\n",
            "Epoch 48/100\n",
            "810/810 [==============================] - 1s 977us/step - loss: 0.9706 - acc: 0.6691 - val_loss: 0.9320 - val_acc: 0.6778\n",
            "Epoch 49/100\n",
            "810/810 [==============================] - 1s 958us/step - loss: 1.0029 - acc: 0.6481 - val_loss: 0.9454 - val_acc: 0.6444\n",
            "Epoch 50/100\n",
            "810/810 [==============================] - 1s 966us/step - loss: 0.9777 - acc: 0.6568 - val_loss: 0.9556 - val_acc: 0.6444\n",
            "Epoch 51/100\n",
            "810/810 [==============================] - 1s 978us/step - loss: 0.9312 - acc: 0.6568 - val_loss: 0.9111 - val_acc: 0.6778\n",
            "Epoch 52/100\n",
            "810/810 [==============================] - 1s 945us/step - loss: 0.9488 - acc: 0.6568 - val_loss: 0.9290 - val_acc: 0.6667\n",
            "Epoch 53/100\n",
            "810/810 [==============================] - 1s 941us/step - loss: 0.9465 - acc: 0.6593 - val_loss: 0.9483 - val_acc: 0.6444\n",
            "Epoch 54/100\n",
            "810/810 [==============================] - 1s 942us/step - loss: 1.0046 - acc: 0.6531 - val_loss: 0.9154 - val_acc: 0.6556\n",
            "Epoch 55/100\n",
            "810/810 [==============================] - 1s 958us/step - loss: 0.9820 - acc: 0.6704 - val_loss: 0.9224 - val_acc: 0.6556\n",
            "Epoch 56/100\n",
            "810/810 [==============================] - 1s 960us/step - loss: 0.9451 - acc: 0.6728 - val_loss: 0.9345 - val_acc: 0.6444\n",
            "Epoch 57/100\n",
            "810/810 [==============================] - 1s 969us/step - loss: 0.9132 - acc: 0.6617 - val_loss: 0.9166 - val_acc: 0.6444\n",
            "Epoch 58/100\n",
            "810/810 [==============================] - 1s 940us/step - loss: 0.9419 - acc: 0.6617 - val_loss: 0.9345 - val_acc: 0.6333\n",
            "Epoch 59/100\n",
            "810/810 [==============================] - 1s 947us/step - loss: 0.9249 - acc: 0.6617 - val_loss: 0.9204 - val_acc: 0.6444\n",
            "Epoch 60/100\n",
            "810/810 [==============================] - 1s 954us/step - loss: 0.9509 - acc: 0.6531 - val_loss: 0.8719 - val_acc: 0.6889\n",
            "Epoch 61/100\n",
            "810/810 [==============================] - 1s 954us/step - loss: 0.9645 - acc: 0.6580 - val_loss: 0.8774 - val_acc: 0.6778\n",
            "Epoch 62/100\n",
            "810/810 [==============================] - 1s 925us/step - loss: 0.9586 - acc: 0.6531 - val_loss: 0.9100 - val_acc: 0.6667\n",
            "Epoch 63/100\n",
            "810/810 [==============================] - 1s 939us/step - loss: 0.9450 - acc: 0.6642 - val_loss: 0.9252 - val_acc: 0.6444\n",
            "Epoch 64/100\n",
            "810/810 [==============================] - 1s 950us/step - loss: 0.9144 - acc: 0.6691 - val_loss: 0.8951 - val_acc: 0.6667\n",
            "Epoch 65/100\n",
            "810/810 [==============================] - 1s 942us/step - loss: 0.9056 - acc: 0.6667 - val_loss: 0.9076 - val_acc: 0.6778\n",
            "Epoch 66/100\n",
            "810/810 [==============================] - 1s 935us/step - loss: 0.9514 - acc: 0.6580 - val_loss: 0.9175 - val_acc: 0.6778\n",
            "Epoch 67/100\n",
            "810/810 [==============================] - 1s 942us/step - loss: 0.9188 - acc: 0.6556 - val_loss: 0.9111 - val_acc: 0.6667\n",
            "Epoch 68/100\n",
            "810/810 [==============================] - 1s 963us/step - loss: 0.9213 - acc: 0.6691 - val_loss: 0.9208 - val_acc: 0.6556\n",
            "Epoch 69/100\n",
            "810/810 [==============================] - 1s 954us/step - loss: 0.8722 - acc: 0.7025 - val_loss: 0.9232 - val_acc: 0.6556\n",
            "Epoch 70/100\n",
            "810/810 [==============================] - 1s 968us/step - loss: 0.8987 - acc: 0.6716 - val_loss: 0.9083 - val_acc: 0.6222\n",
            "Epoch 71/100\n",
            "810/810 [==============================] - 1s 953us/step - loss: 0.9033 - acc: 0.6827 - val_loss: 0.8951 - val_acc: 0.6667\n",
            "Epoch 72/100\n",
            "810/810 [==============================] - 1s 945us/step - loss: 0.8955 - acc: 0.6852 - val_loss: 0.8829 - val_acc: 0.6778\n",
            "Epoch 73/100\n",
            "810/810 [==============================] - 1s 958us/step - loss: 0.9086 - acc: 0.6667 - val_loss: 0.8915 - val_acc: 0.6778\n",
            "Epoch 74/100\n",
            "810/810 [==============================] - 1s 947us/step - loss: 0.8982 - acc: 0.6877 - val_loss: 0.8881 - val_acc: 0.6778\n",
            "Epoch 75/100\n",
            "810/810 [==============================] - 1s 962us/step - loss: 0.8940 - acc: 0.6802 - val_loss: 0.9198 - val_acc: 0.6556\n",
            "Epoch 76/100\n",
            "810/810 [==============================] - 1s 966us/step - loss: 0.8914 - acc: 0.6864 - val_loss: 0.9059 - val_acc: 0.6556\n",
            "Epoch 77/100\n",
            "810/810 [==============================] - 1s 1ms/step - loss: 0.9244 - acc: 0.6753 - val_loss: 0.8998 - val_acc: 0.6556\n",
            "Epoch 78/100\n",
            "810/810 [==============================] - 1s 973us/step - loss: 0.8758 - acc: 0.6827 - val_loss: 0.9420 - val_acc: 0.6444\n",
            "Epoch 79/100\n",
            "810/810 [==============================] - 1s 979us/step - loss: 0.8732 - acc: 0.6951 - val_loss: 0.9267 - val_acc: 0.6444\n",
            "Epoch 80/100\n",
            "810/810 [==============================] - 1s 969us/step - loss: 0.9056 - acc: 0.7074 - val_loss: 0.8974 - val_acc: 0.6556\n",
            "Epoch 81/100\n",
            "810/810 [==============================] - 1s 978us/step - loss: 0.8696 - acc: 0.6938 - val_loss: 0.9128 - val_acc: 0.6667\n",
            "Epoch 82/100\n",
            "810/810 [==============================] - 1s 959us/step - loss: 0.8899 - acc: 0.7012 - val_loss: 0.9180 - val_acc: 0.6556\n",
            "Epoch 83/100\n",
            "810/810 [==============================] - 1s 979us/step - loss: 0.8545 - acc: 0.7111 - val_loss: 0.9039 - val_acc: 0.6667\n",
            "Epoch 84/100\n",
            "810/810 [==============================] - 1s 988us/step - loss: 0.8924 - acc: 0.6877 - val_loss: 0.9048 - val_acc: 0.6778\n",
            "Epoch 85/100\n",
            "810/810 [==============================] - 1s 971us/step - loss: 0.8597 - acc: 0.7012 - val_loss: 0.8828 - val_acc: 0.6556\n",
            "Epoch 86/100\n",
            "810/810 [==============================] - 1s 1ms/step - loss: 0.8705 - acc: 0.7025 - val_loss: 0.8972 - val_acc: 0.6556\n",
            "Epoch 87/100\n",
            "810/810 [==============================] - 1s 985us/step - loss: 0.8960 - acc: 0.6704 - val_loss: 0.9025 - val_acc: 0.6333\n",
            "Epoch 88/100\n",
            "810/810 [==============================] - 1s 966us/step - loss: 0.8575 - acc: 0.7099 - val_loss: 0.8875 - val_acc: 0.6889\n",
            "Epoch 89/100\n",
            "810/810 [==============================] - 1s 1ms/step - loss: 0.8890 - acc: 0.6926 - val_loss: 0.9148 - val_acc: 0.6444\n",
            "Epoch 90/100\n",
            "810/810 [==============================] - 1s 974us/step - loss: 0.8705 - acc: 0.6864 - val_loss: 0.9232 - val_acc: 0.6444\n",
            "Epoch 91/100\n",
            "810/810 [==============================] - 1s 1ms/step - loss: 0.8808 - acc: 0.6815 - val_loss: 0.9320 - val_acc: 0.6556\n",
            "Epoch 92/100\n",
            "810/810 [==============================] - 1s 1ms/step - loss: 0.9095 - acc: 0.6840 - val_loss: 0.9003 - val_acc: 0.6556\n",
            "Epoch 93/100\n",
            "810/810 [==============================] - 1s 1ms/step - loss: 0.8313 - acc: 0.7025 - val_loss: 0.9279 - val_acc: 0.6444\n",
            "Epoch 94/100\n",
            "810/810 [==============================] - 1s 999us/step - loss: 0.8667 - acc: 0.7000 - val_loss: 0.9536 - val_acc: 0.6444\n",
            "Epoch 95/100\n",
            "810/810 [==============================] - 1s 1ms/step - loss: 0.8700 - acc: 0.7136 - val_loss: 0.9038 - val_acc: 0.6556\n",
            "Epoch 96/100\n",
            "810/810 [==============================] - 1s 1ms/step - loss: 0.8816 - acc: 0.6963 - val_loss: 0.9023 - val_acc: 0.6667\n",
            "Epoch 97/100\n",
            "810/810 [==============================] - 1s 1ms/step - loss: 0.8770 - acc: 0.6877 - val_loss: 0.8944 - val_acc: 0.6556\n",
            "Epoch 98/100\n",
            "810/810 [==============================] - 1s 1ms/step - loss: 0.8453 - acc: 0.7025 - val_loss: 0.9061 - val_acc: 0.6667\n",
            "Epoch 99/100\n",
            "810/810 [==============================] - 1s 1ms/step - loss: 0.8686 - acc: 0.6988 - val_loss: 0.9041 - val_acc: 0.6667\n",
            "Epoch 100/100\n",
            "810/810 [==============================] - 1s 1ms/step - loss: 0.8477 - acc: 0.7012 - val_loss: 0.8928 - val_acc: 0.6778\n"
          ],
          "name": "stdout"
        }
      ]
    },
    {
      "metadata": {
        "id": "WLLBKYTSJNwf",
        "colab_type": "code",
        "colab": {}
      },
      "cell_type": "code",
      "source": [
        "x_test = X_test.reshape((100,1,37))"
      ],
      "execution_count": 0,
      "outputs": []
    },
    {
      "metadata": {
        "id": "Zju3_7jsJUgP",
        "colab_type": "code",
        "colab": {}
      },
      "cell_type": "code",
      "source": [
        "ytest = y_test.reshape((100,1))"
      ],
      "execution_count": 0,
      "outputs": []
    },
    {
      "metadata": {
        "id": "hgzFlG97JAfY",
        "colab_type": "code",
        "outputId": "522337d7-5f06-420c-9554-2e1ddec5f9b3",
        "colab": {
          "base_uri": "https://localhost:8080/",
          "height": 53
        }
      },
      "cell_type": "code",
      "source": [
        "test_loss, test_acc = model.evaluate(x_test,ytest)\n",
        "print('test_acc: ',test_acc)"
      ],
      "execution_count": 0,
      "outputs": [
        {
          "output_type": "stream",
          "text": [
            "100/100 [==============================] - 0s 109us/step\n",
            "test_acc:  0.64\n"
          ],
          "name": "stdout"
        }
      ]
    },
    {
      "metadata": {
        "id": "MWW4fwcuPuxy",
        "colab_type": "code",
        "colab": {}
      },
      "cell_type": "code",
      "source": [
        "from matplotlib import pyplot"
      ],
      "execution_count": 0,
      "outputs": []
    },
    {
      "metadata": {
        "id": "MaGV1WJaJ39e",
        "colab_type": "code",
        "outputId": "60228113-bcd5-4d40-ecfe-b6c146ce3030",
        "colab": {
          "base_uri": "https://localhost:8080/",
          "height": 295
        }
      },
      "cell_type": "code",
      "source": [
        "pyplot.plot(history.history['loss'])\n",
        "pyplot.plot(history.history['val_loss'])\n",
        "pyplot.title('model loss')\n",
        "pyplot.ylabel('loss')\n",
        "pyplot.xlabel('epoch')\n",
        "pyplot.legend(['train', 'validation'], loc='upper left')\n",
        "pyplot.show()"
      ],
      "execution_count": 0,
      "outputs": [
        {
          "output_type": "display_data",
          "data": {
            "image/png": "[encoded data removed]",
            "text/plain": [
              "<Figure size 432x288 with 1 Axes>"
            ]
          },
          "metadata": {
            "tags": []
          }
        }
      ]
    },
    {
      "metadata": {
        "id": "IR5BDIf8N20z",
        "colab_type": "code",
        "outputId": "35a5e395-0be3-4d3a-9369-380cd334ab79",
        "colab": {
          "base_uri": "https://localhost:8080/",
          "height": 295
        }
      },
      "cell_type": "code",
      "source": [
        "plt.plot(history.history['acc'])\n",
        "plt.plot(history.history['val_acc'])\n",
        "plt.title('model accuracy')\n",
        "plt.ylabel('accuracy')\n",
        "plt.xlabel('epoch')\n",
        "plt.legend(['train', 'test'], loc='upper left')\n",
        "plt.show()"
      ],
      "execution_count": 0,
      "outputs": [
        {
          "output_type": "display_data",
          "data": {
            "image/png": "[encoded data removed]",
            "text/plain": [
              "<Figure size 432x288 with 1 Axes>"
            ]
          },
          "metadata": {
            "tags": []
          }
        }
      ]
    }
  ]
}