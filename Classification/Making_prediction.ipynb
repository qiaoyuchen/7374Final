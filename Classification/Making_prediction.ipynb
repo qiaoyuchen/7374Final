{
  "nbformat": 4,
  "nbformat_minor": 0,
  "metadata": {
    "colab": {
      "name": "Making-prediction.ipynb",
      "version": "0.3.2",
      "provenance": [],
      "collapsed_sections": []
    },
    "kernelspec": {
      "name": "python3",
      "display_name": "Python 3"
    }
  },
  "cells": [
    {
      "metadata": {
        "id": "NTN5ztYmWI5I",
        "colab_type": "text"
      },
      "cell_type": "markdown",
      "source": [
        "Load model"
      ]
    },
    {
      "metadata": {
        "id": "-zOVKD8RViuY",
        "colab_type": "code",
        "colab": {}
      },
      "cell_type": "code",
      "source": [
        "import pickle"
      ],
      "execution_count": 0,
      "outputs": []
    },
    {
      "metadata": {
        "id": "TfTU-hppjzlB",
        "colab_type": "code",
        "outputId": "336a30ba-e37b-4319-d76f-e3bcd06a50db",
        "colab": {
          "base_uri": "https://localhost:8080/",
          "height": 467
        }
      },
      "cell_type": "code",
      "source": [
        "ls"
      ],
      "execution_count": 0,
      "outputs": [
        {
          "output_type": "stream",
          "text": [
            " blues.00006.au\n",
            " blues.00008.au\n",
            " classical.00000.au\n",
            " country.00000.au\n",
            " country.00007.au\n",
            "'Derek_Clegg_-_10_-_A_Strong_Will_Is_Needed (1).mp3'\n",
            " Derek_Clegg_-_10_-_A_Strong_Will_Is_Needed.mp3\n",
            " disco.00000.au\n",
            " disco.00002.au\n",
            " hiphop.00000.au\n",
            " hiphop.00001.au\n",
            " hiphop.00002.au\n",
            " hiphop.00004.au\n",
            " model-bilstm.pkl\n",
            " model-BiLSTM.pkl\n",
            " model_keras2.onnx\n",
            " model-keras2.pkl\n",
            " model-keras.pkl\n",
            " model-lstm.pkl\n",
            " \u001b[0m\u001b[01;34msample_data\u001b[0m/\n",
            " songname.png\n",
            "'songs (1).csv'\n",
            " songs.csv\n",
            "'You_get_the_Blues_ID_1201 (1).mp3'\n",
            " You_get_the_Blues_ID_1201.mp3\n"
          ],
          "name": "stdout"
        }
      ]
    },
    {
      "metadata": {
        "id": "NDPUJTguVqiS",
        "colab_type": "code",
        "colab": {}
      },
      "cell_type": "code",
      "source": [
        "model_bilstm = pickle.load(open(\"model-bilstm.pkl\",'rb'))\n",
        "model_keras = pickle.load(open(\"model-keras.pkl\",'rb'))\n",
        "model_keras2 = pickle.load(open(\"model-keras2.pkl\",'rb'))\n",
        "model_lstm = pickle.load(open(\"model-lstm.pkl\",'rb'))"
      ],
      "execution_count": 0,
      "outputs": []
    },
    {
      "metadata": {
        "id": "vvJEZ8gBWFyh",
        "colab_type": "code",
        "colab": {}
      },
      "cell_type": "code",
      "source": [
        "Upload file"
      ],
      "execution_count": 0,
      "outputs": []
    },
    {
      "metadata": {
        "id": "88UNaUa6WN5w",
        "colab_type": "code",
        "outputId": "b477bf5b-8fa9-4861-9d7b-0808e516c15c",
        "colab": {
          "resources": {
            "http://localhost:8080/nbextensions/google.colab/files.js": {
              "data": "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",
              "ok": true,
              "headers": [
                [
                  "content-type",
                  "application/javascript"
                ]
              ],
              "status": 200,
              "status_text": ""
            }
          },
          "base_uri": "https://localhost:8080/",
          "height": 77
        }
      },
      "cell_type": "code",
      "source": [
        "from google.colab import files\n",
        "song = files.upload() "
      ],
      "execution_count": 0,
      "outputs": [
        {
          "output_type": "display_data",
          "data": {
            "text/html": [
              "\n",
              "     <input type=\"file\" id=\"files-a55fd51e-7635-4432-a9fb-d5c0f94b00f1\" name=\"files[]\" multiple disabled />\n",
              "     <output id=\"result-a55fd51e-7635-4432-a9fb-d5c0f94b00f1\">\n",
              "      Upload widget is only available when the cell has been executed in the\n",
              "      current browser session. Please rerun this cell to enable.\n",
              "      </output>\n",
              "      <script src=\"/nbextensions/google.colab/files.js\"></script> "
            ],
            "text/plain": [
              "<IPython.core.display.HTML object>"
            ]
          },
          "metadata": {
            "tags": []
          }
        },
        {
          "output_type": "stream",
          "text": [
            "Saving blues.00008.au to blues.00008.au\n"
          ],
          "name": "stdout"
        }
      ]
    },
    {
      "metadata": {
        "id": "og2LIW7uXKmh",
        "colab_type": "code",
        "outputId": "7ef7749a-ac22-4231-b417-4f1f4dbbda73",
        "colab": {
          "base_uri": "https://localhost:8080/",
          "height": 431
        }
      },
      "cell_type": "code",
      "source": [
        "ls"
      ],
      "execution_count": 0,
      "outputs": [
        {
          "output_type": "stream",
          "text": [
            " blues.00006.au\n",
            " classical.00000.au\n",
            " country.00000.au\n",
            " country.00007.au\n",
            "'Derek_Clegg_-_10_-_A_Strong_Will_Is_Needed (1).mp3'\n",
            " Derek_Clegg_-_10_-_A_Strong_Will_Is_Needed.mp3\n",
            " disco.00000.au\n",
            " disco.00002.au\n",
            " hiphop.00000.au\n",
            " hiphop.00001.au\n",
            " hiphop.00002.au\n",
            " hiphop.00004.au\n",
            " model-bilstm.pkl\n",
            " model-BiLSTM.pkl\n",
            " model-keras2.pkl\n",
            " model-keras.pkl\n",
            " model-lstm.pkl\n",
            " \u001b[0m\u001b[01;34msample_data\u001b[0m/\n",
            " songname.png\n",
            "'songs (1).csv'\n",
            " songs.csv\n",
            "'You_get_the_Blues_ID_1201 (1).mp3'\n",
            " You_get_the_Blues_ID_1201.mp3\n"
          ],
          "name": "stdout"
        }
      ]
    },
    {
      "metadata": {
        "id": "Ea4nXx2fUuS3",
        "colab_type": "code",
        "outputId": "a6957216-66a9-47f5-dac1-e24c73ccb04d",
        "colab": {
          "base_uri": "https://localhost:8080/",
          "height": 35
        }
      },
      "cell_type": "code",
      "source": [
        "key = list(song.keys())[0]\n",
        "key"
      ],
      "execution_count": 0,
      "outputs": [
        {
          "output_type": "execute_result",
          "data": {
            "text/plain": [
              "'blues.00008.au'"
            ]
          },
          "metadata": {
            "tags": []
          },
          "execution_count": 232
        }
      ]
    },
    {
      "metadata": {
        "id": "kpCpoldHWKHb",
        "colab_type": "code",
        "outputId": "ca15a7ac-7c81-40de-9ef2-c3418da76ee5",
        "colab": {
          "base_uri": "https://localhost:8080/",
          "height": 35
        }
      },
      "cell_type": "code",
      "source": [
        "type(key)"
      ],
      "execution_count": 0,
      "outputs": [
        {
          "output_type": "execute_result",
          "data": {
            "text/plain": [
              "str"
            ]
          },
          "metadata": {
            "tags": []
          },
          "execution_count": 233
        }
      ]
    },
    {
      "metadata": {
        "id": "YZRCLqYtWPLB",
        "colab_type": "text"
      },
      "cell_type": "markdown",
      "source": [
        "Convrt to dataframe"
      ]
    },
    {
      "metadata": {
        "id": "5-n6XcxIYCTX",
        "colab_type": "code",
        "colab": {}
      },
      "cell_type": "code",
      "source": [
        "import librosa\n",
        "import pandas as pd\n",
        "import numpy as np\n",
        "\n",
        "import pathlib\n",
        "import os\n",
        "\n",
        "import timeit"
      ],
      "execution_count": 0,
      "outputs": []
    },
    {
      "metadata": {
        "id": "q5JaZ0qfWO3g",
        "colab_type": "code",
        "outputId": "e2bf7faa-36df-4ad2-b976-222b5b034efc",
        "colab": {
          "base_uri": "https://localhost:8080/",
          "height": 35
        }
      },
      "cell_type": "code",
      "source": [
        "start = timeit.default_timer()\n",
        "\n",
        "songname = key\n",
        "y, sr = librosa.load(songname, mono=True, duration=5)\n",
        "\n",
        "rmse = librosa.feature.rmse(y=y)\n",
        "predict = []\n",
        "\n",
        "# new features\n",
        "flatness = librosa.feature.spectral_flatness(y=y)\n",
        "\n",
        "S = np.abs(librosa.stft(y))\n",
        "p0 = librosa.feature.poly_features(S=S, order=0)\n",
        "\n",
        "tonnetz = librosa.feature.tonnetz(y=y, sr=sr)\n",
        "\n",
        "chroma_cq = librosa.feature.chroma_cqt(y=y, sr=sr)\n",
        "\n",
        "chroma_cens = librosa.feature.chroma_cens(y=y, sr=sr) \n",
        "\n",
        "S = np.abs(librosa.stft(y))\n",
        "contrast = librosa.feature.spectral_contrast(S=S, sr=sr)\n",
        "\n",
        "y, sr = librosa.load(songname, mono=True, duration=30)\n",
        "chroma_stft = librosa.feature.chroma_stft(y=y, sr=sr)\n",
        "spec_cent = librosa.feature.spectral_centroid(y=y, sr=sr)\n",
        "spec_bw = librosa.feature.spectral_bandwidth(y=y, sr=sr)\n",
        "rolloff = librosa.feature.spectral_rolloff(y=y, sr=sr)\n",
        "zcr = librosa.feature.zero_crossing_rate(y)\n",
        "mfcc = librosa.feature.mfcc(y=y, sr=sr)\n",
        "\n",
        "to_append = f'{np.mean(chroma_stft)} {np.mean(rmse)} {np.mean(spec_cent)} {np.mean(spec_bw)} {np.mean(rolloff)} {np.mean(zcr)} {np.mean(flatness)} {np.mean(p0)} {np.mean(chroma_cq)} {np.mean(chroma_cens)} {np.mean(contrast)}'    \n",
        "for e in mfcc:\n",
        "    to_append += f' {np.mean(e)}'\n",
        "\n",
        "for i in tonnetz:\n",
        "    to_append += f' {np.mean(i)}'\n",
        "#to_append += f' {g}'\n",
        "#file = open('.csv', 'a', newline='')\n",
        "#with file:\n",
        "#    writer = csv.writer(file)\n",
        "#    writer.writerow(to_append.split())\n",
        "predict = to_append.split()\n",
        "    \n",
        "stop = timeit.default_timer()\n",
        "print('Time: ', stop - start)"
      ],
      "execution_count": 0,
      "outputs": [
        {
          "output_type": "stream",
          "text": [
            "Time:  1.5666709869983606\n"
          ],
          "name": "stdout"
        }
      ]
    },
    {
      "metadata": {
        "id": "p3jQec1HY2Q2",
        "colab_type": "code",
        "outputId": "7d662c74-0172-4e38-844b-5d27ebf6c7b5",
        "colab": {
          "base_uri": "https://localhost:8080/",
          "height": 683
        }
      },
      "cell_type": "code",
      "source": [
        "predict"
      ],
      "execution_count": 0,
      "outputs": [
        {
          "output_type": "execute_result",
          "data": {
            "text/plain": [
              "['0.409037127504873',\n",
              " '0.15118108689785004',\n",
              " '1719.2131626636947',\n",
              " '2031.643883581744',\n",
              " '3781.318801549197',\n",
              " '0.06402757957623839',\n",
              " '0.0029544024728238583',\n",
              " '1.226712213042303',\n",
              " '0.5100397955386075',\n",
              " '0.2686982729377213',\n",
              " '22.471477462554027',\n",
              " '-121.36102354973461',\n",
              " '122.51311584398766',\n",
              " '-14.742129686012193',\n",
              " '46.14344435366142',\n",
              " '-8.165333684874648',\n",
              " '20.17652622884248',\n",
              " '-19.1724784245114',\n",
              " '23.055616742537772',\n",
              " '-11.83050252460447',\n",
              " '21.177008825261446',\n",
              " '-6.721190455458151',\n",
              " '7.0109449301672635',\n",
              " '-12.741833015324701',\n",
              " '5.066004868201843',\n",
              " '-5.175477933017078',\n",
              " '-1.4440245964766547',\n",
              " '-7.037070159027241',\n",
              " '2.6974511842612103',\n",
              " '3.409808578735633',\n",
              " '-2.6983528331802327',\n",
              " '0.02281927767719181',\n",
              " '-0.01987915600928658',\n",
              " '0.0453178652612413',\n",
              " '0.035602568933822736',\n",
              " '0.002173405756263185',\n",
              " '-0.0064175919225015025']"
            ]
          },
          "metadata": {
            "tags": []
          },
          "execution_count": 236
        }
      ]
    },
    {
      "metadata": {
        "id": "LgszfnFEezzo",
        "colab_type": "code",
        "outputId": "04d38a18-4fcb-4789-fae8-c57830715eb7",
        "colab": {
          "base_uri": "https://localhost:8080/",
          "height": 251
        }
      },
      "cell_type": "code",
      "source": [
        "data = np.array(predict)\n",
        "df = pd.DataFrame(data=data)\n",
        "print(data)"
      ],
      "execution_count": 0,
      "outputs": [
        {
          "output_type": "stream",
          "text": [
            "['0.409037127504873' '0.15118108689785004' '1719.2131626636947'\n",
            " '2031.643883581744' '3781.318801549197' '0.06402757957623839'\n",
            " '0.0029544024728238583' '1.226712213042303' '0.5100397955386075'\n",
            " '0.2686982729377213' '22.471477462554027' '-121.36102354973461'\n",
            " '122.51311584398766' '-14.742129686012193' '46.14344435366142'\n",
            " '-8.165333684874648' '20.17652622884248' '-19.1724784245114'\n",
            " '23.055616742537772' '-11.83050252460447' '21.177008825261446'\n",
            " '-6.721190455458151' '7.0109449301672635' '-12.741833015324701'\n",
            " '5.066004868201843' '-5.175477933017078' '-1.4440245964766547'\n",
            " '-7.037070159027241' '2.6974511842612103' '3.409808578735633'\n",
            " '-2.6983528331802327' '0.02281927767719181' '-0.01987915600928658'\n",
            " '0.0453178652612413' '0.035602568933822736' '0.002173405756263185'\n",
            " '-0.0064175919225015025']\n"
          ],
          "name": "stdout"
        }
      ]
    },
    {
      "metadata": {
        "id": "C4vXYUdGrBAo",
        "colab_type": "code",
        "outputId": "d36a53e4-28ee-4357-9b4f-a098eefe16fc",
        "colab": {
          "base_uri": "https://localhost:8080/",
          "height": 35
        }
      },
      "cell_type": "code",
      "source": [
        "data.shape"
      ],
      "execution_count": 0,
      "outputs": [
        {
          "output_type": "execute_result",
          "data": {
            "text/plain": [
              "(37,)"
            ]
          },
          "metadata": {
            "tags": []
          },
          "execution_count": 238
        }
      ]
    },
    {
      "metadata": {
        "id": "h4MzOETKdAOF",
        "colab_type": "code",
        "outputId": "d55d3aa6-acff-4ab8-f32b-6649dbd81f7f",
        "colab": {
          "base_uri": "https://localhost:8080/",
          "height": 449
        }
      },
      "cell_type": "code",
      "source": [
        "ls"
      ],
      "execution_count": 0,
      "outputs": [
        {
          "output_type": "stream",
          "text": [
            " blues.00006.au\n",
            " blues.00008.au\n",
            " classical.00000.au\n",
            " country.00000.au\n",
            " country.00007.au\n",
            "'Derek_Clegg_-_10_-_A_Strong_Will_Is_Needed (1).mp3'\n",
            " Derek_Clegg_-_10_-_A_Strong_Will_Is_Needed.mp3\n",
            " disco.00000.au\n",
            " disco.00002.au\n",
            " hiphop.00000.au\n",
            " hiphop.00001.au\n",
            " hiphop.00002.au\n",
            " hiphop.00004.au\n",
            " model-bilstm.pkl\n",
            " model-BiLSTM.pkl\n",
            " model-keras2.pkl\n",
            " model-keras.pkl\n",
            " model-lstm.pkl\n",
            " \u001b[0m\u001b[01;34msample_data\u001b[0m/\n",
            " songname.png\n",
            "'songs (1).csv'\n",
            " songs.csv\n",
            "'You_get_the_Blues_ID_1201 (1).mp3'\n",
            " You_get_the_Blues_ID_1201.mp3\n"
          ],
          "name": "stdout"
        }
      ]
    },
    {
      "metadata": {
        "id": "HsGGS-CxWZVa",
        "colab_type": "text"
      },
      "cell_type": "markdown",
      "source": [
        "Make prediction"
      ]
    },
    {
      "metadata": {
        "id": "OnOxlLz2d7jx",
        "colab_type": "code",
        "colab": {}
      },
      "cell_type": "code",
      "source": [
        "from pandas import DataFrame\n",
        "\n",
        "df = DataFrame(data=predict)"
      ],
      "execution_count": 0,
      "outputs": []
    },
    {
      "metadata": {
        "id": "9UkuB9DVrWnl",
        "colab_type": "code",
        "outputId": "dd08d40d-1933-43e0-d3d5-58d71fa3baf6",
        "colab": {
          "base_uri": "https://localhost:8080/",
          "height": 35
        }
      },
      "cell_type": "code",
      "source": [
        "test = data.reshape((1, 1, 37))\n",
        "test.shape"
      ],
      "execution_count": 0,
      "outputs": [
        {
          "output_type": "execute_result",
          "data": {
            "text/plain": [
              "(1, 1, 37)"
            ]
          },
          "metadata": {
            "tags": []
          },
          "execution_count": 241
        }
      ]
    },
    {
      "metadata": {
        "id": "2lKv44aiqtTS",
        "colab_type": "code",
        "outputId": "cf5bfc18-99c0-44a9-cffb-bbe96960002a",
        "colab": {
          "base_uri": "https://localhost:8080/",
          "height": 35
        }
      },
      "cell_type": "code",
      "source": [
        "data_keras = data.reshape((1,37))\n",
        "data_keras.shape"
      ],
      "execution_count": 0,
      "outputs": [
        {
          "output_type": "execute_result",
          "data": {
            "text/plain": [
              "(1, 37)"
            ]
          },
          "metadata": {
            "tags": []
          },
          "execution_count": 242
        }
      ]
    },
    {
      "metadata": {
        "id": "xm_K2IgGIvGo",
        "colab_type": "code",
        "colab": {}
      },
      "cell_type": "code",
      "source": [
        "genres_dict = {\"0\" : \"blues\", \"1\" : \"classical\",\"2\" : \"country\", \"3\" : \"disco\",\"4\" : \"hiphop\", \"5\" : \"jazz\",\"6\" : \"metal\", \"7\" : \"pop\",\"8\" : \"reggae\", \"9\" : \"rock\"}"
      ],
      "execution_count": 0,
      "outputs": []
    },
    {
      "metadata": {
        "id": "Bl0FVbpave9h",
        "colab_type": "code",
        "outputId": "5fe686e1-3c2a-414b-d893-786e610f28e5",
        "colab": {
          "base_uri": "https://localhost:8080/",
          "height": 35
        }
      },
      "cell_type": "code",
      "source": [
        "g = genres_dict.get(str(predict_lstm))\n",
        "print(g)"
      ],
      "execution_count": 0,
      "outputs": [
        {
          "output_type": "stream",
          "text": [
            "disco\n"
          ],
          "name": "stdout"
        }
      ]
    },
    {
      "metadata": {
        "id": "BMpw3FeJMyQP",
        "colab_type": "code",
        "outputId": "4a4f35a8-607b-4c0d-f184-38d458846097",
        "colab": {
          "base_uri": "https://localhost:8080/",
          "height": 35
        }
      },
      "cell_type": "code",
      "source": [
        "result.shape"
      ],
      "execution_count": 0,
      "outputs": [
        {
          "output_type": "execute_result",
          "data": {
            "text/plain": [
              "(1, 10)"
            ]
          },
          "metadata": {
            "tags": []
          },
          "execution_count": 245
        }
      ]
    },
    {
      "metadata": {
        "id": "etCZJQg9o-Gk",
        "colab_type": "code",
        "colab": {}
      },
      "cell_type": "code",
      "source": [
        "result_lstm = model_lstm.predict(test)\n",
        "result_bilstm = model_bilstm.predict(test)\n",
        "result_keras = model_keras.predict(data_keras)\n",
        "result_keras2 = model_keras2.predict(data_keras)\n"
      ],
      "execution_count": 0,
      "outputs": []
    },
    {
      "metadata": {
        "id": "Fie7lkJarRvr",
        "colab_type": "code",
        "colab": {}
      },
      "cell_type": "code",
      "source": [
        "predict_lstm = np.argmax(result_lstm)\n",
        "predict_bilstm = np.argmax(result_bilstm)\n",
        "predict_keras = np.argmax(result_keras)\n",
        "predict_keras2 = np.argmax(result_keras2)"
      ],
      "execution_count": 0,
      "outputs": []
    },
    {
      "metadata": {
        "id": "ZZrgwrhXru05",
        "colab_type": "code",
        "outputId": "b0f16a60-050e-4112-9c25-babb022df91b",
        "colab": {
          "base_uri": "https://localhost:8080/",
          "height": 179
        }
      },
      "cell_type": "code",
      "source": [
        "print('Result for LSTM:',(result_lstm, genres_dict.get(str(predict_lstm))))\n",
        "print('Result for BiLSTM:',(result_bilstm, genres_dict.get(str(predict_bilstm))))\n",
        "print('Result for Keras:',(result_keras, genres_dict.get(str(predict_keras))))\n",
        "print('Result for Keras2:',(result_keras2, genres_dict.get(str(predict_keras2))))\n",
        "print(songname)"
      ],
      "execution_count": 0,
      "outputs": [
        {
          "output_type": "stream",
          "text": [
            "Result for LSTM: (array([[4.0838277e-05, 4.0751362e-05, 6.3176260e-05, 5.9931254e-01,\n",
            "        1.1472843e-01, 2.1400338e-04, 3.7926604e-04, 2.7160996e-01,\n",
            "        5.5563729e-03, 8.0546467e-03]], dtype=float32), 'disco')\n",
            "Result for BiLSTM: (array([[0.5527124 , 0.03548643, 0.06206817, 0.04302312, 0.00333087,\n",
            "        0.17146167, 0.03344513, 0.02879886, 0.00788161, 0.06179179]],\n",
            "      dtype=float32), 'blues')\n",
            "Result for Keras: (array([[0., 0., 0., 0., 0., 1., 0., 0., 0., 0.]], dtype=float32), 'jazz')\n",
            "Result for Keras2: (array([[0., 0., 0., 0., 0., 1., 0., 0., 0., 0.]], dtype=float32), 'jazz')\n",
            "blues.00008.au\n"
          ],
          "name": "stdout"
        }
      ]
    }
  ]
}