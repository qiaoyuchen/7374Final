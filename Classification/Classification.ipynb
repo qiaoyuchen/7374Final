{
  "nbformat": 4,
  "nbformat_minor": 0,
  "metadata": {
    "colab": {
      "name": "Classification.ipynb",
      "version": "0.3.2",
      "provenance": [],
      "collapsed_sections": []
    },
    "kernelspec": {
      "name": "python3",
      "display_name": "Python 3"
    }
  },
  "cells": [
    {
      "metadata": {
        "id": "ykuXie7UuXRS",
        "colab_type": "code",
        "outputId": "0bc9cb5e-571c-4820-dbbb-7ad38e921697",
        "colab": {
          "base_uri": "https://localhost:8080/",
          "height": 35
        }
      },
      "cell_type": "code",
      "source": [
        "import pandas as pd\n",
        "import numpy as np\n",
        "import matplotlib.pyplot as plt\n",
        "\n",
        "import csv\n",
        "import os\n",
        "\n",
        "from sklearn.model_selection import train_test_split\n",
        "from sklearn.preprocessing import LabelEncoder, StandardScaler\n",
        "\n",
        "import keras\n",
        "from keras import models\n",
        "from keras import layers\n",
        "\n",
        "from keras.models import Sequential\n",
        "from keras.layers.recurrent import LSTM\n",
        "from keras.layers import Dense\n",
        "from keras.optimizers import Adam\n",
        "\n",
        "import timeit"
      ],
      "execution_count": 0,
      "outputs": [
        {
          "output_type": "stream",
          "text": [
            "Using TensorFlow backend.\n"
          ],
          "name": "stderr"
        }
      ]
    },
    {
      "metadata": {
        "id": "svZYq_RZu1iL",
        "colab_type": "code",
        "colab": {}
      },
      "cell_type": "code",
      "source": [
        "from google.colab import files\n",
        "files.upload() "
      ],
      "execution_count": 0,
      "outputs": []
    },
    {
      "metadata": {
        "id": "t8S3aDAUvlTi",
        "colab_type": "code",
        "outputId": "8a90239a-6c9c-4e6e-cae0-f09a70bcf9e7",
        "colab": {
          "base_uri": "https://localhost:8080/",
          "height": 161
        }
      },
      "cell_type": "code",
      "source": [
        "ls"
      ],
      "execution_count": 0,
      "outputs": [
        {
          "output_type": "stream",
          "text": [
            " blues.00006.au                                   hiphop.00004.au\n",
            " classical.00000.au                               model-bilstm.pkl\n",
            " country.00000.au                                 model-BiLSTM.pkl\n",
            " Derek_Clegg_-_10_-_A_Strong_Will_Is_Needed.mp3   \u001b[0m\u001b[01;34msample_data\u001b[0m/\n",
            " disco.00000.au                                   songname.png\n",
            " hiphop.00000.au                                 'songs (1).csv'\n",
            " hiphop.00001.au                                  songs.csv\n",
            " hiphop.00002.au                                  You_get_the_Blues_ID_1201.mp3\n"
          ],
          "name": "stdout"
        }
      ]
    },
    {
      "metadata": {
        "id": "xhvMuz-auv5U",
        "colab_type": "code",
        "outputId": "0cc51324-9207-4d6f-ed68-fdd174a2c5da",
        "colab": {
          "base_uri": "https://localhost:8080/",
          "height": 253
        }
      },
      "cell_type": "code",
      "source": [
        "data = pd.read_csv('songs.csv')\n",
        "data.head()"
      ],
      "execution_count": 0,
      "outputs": [
        {
          "output_type": "execute_result",
          "data": {
            "text/html": [
              "<div>\n",
              "<style scoped>\n",
              "    .dataframe tbody tr th:only-of-type {\n",
              "        vertical-align: middle;\n",
              "    }\n",
              "\n",
              "    .dataframe tbody tr th {\n",
              "        vertical-align: top;\n",
              "    }\n",
              "\n",
              "    .dataframe thead th {\n",
              "        text-align: right;\n",
              "    }\n",
              "</style>\n",
              "<table border=\"1\" class=\"dataframe\">\n",
              "  <thead>\n",
              "    <tr style=\"text-align: right;\">\n",
              "      <th></th>\n",
              "      <th>filename</th>\n",
              "      <th>chroma_stft</th>\n",
              "      <th>rmse</th>\n",
              "      <th>spectral_centroid</th>\n",
              "      <th>spectral_bandwidth</th>\n",
              "      <th>rolloff</th>\n",
              "      <th>zero_crossing_rate</th>\n",
              "      <th>flatness</th>\n",
              "      <th>poly</th>\n",
              "      <th>chroma_cqt</th>\n",
              "      <th>...</th>\n",
              "      <th>mfcc18</th>\n",
              "      <th>mfcc19</th>\n",
              "      <th>mfcc20</th>\n",
              "      <th>tonnetz1</th>\n",
              "      <th>tonnetz2</th>\n",
              "      <th>tonnetz3</th>\n",
              "      <th>tonnetz4</th>\n",
              "      <th>tonnetz5</th>\n",
              "      <th>tonnetz6</th>\n",
              "      <th>label</th>\n",
              "    </tr>\n",
              "  </thead>\n",
              "  <tbody>\n",
              "    <tr>\n",
              "      <th>0</th>\n",
              "      <td>blues.00019.au</td>\n",
              "      <td>0.257259</td>\n",
              "      <td>0.09198</td>\n",
              "      <td>1195.411640</td>\n",
              "      <td>1481.284259</td>\n",
              "      <td>2234.878153</td>\n",
              "      <td>0.058871</td>\n",
              "      <td>0.017725</td>\n",
              "      <td>1.086251</td>\n",
              "      <td>0.555419</td>\n",
              "      <td>...</td>\n",
              "      <td>-1.337586</td>\n",
              "      <td>-3.719717</td>\n",
              "      <td>-4.353154</td>\n",
              "      <td>0.020575</td>\n",
              "      <td>0.016943</td>\n",
              "      <td>0.088439</td>\n",
              "      <td>-0.026695</td>\n",
              "      <td>0.012183</td>\n",
              "      <td>-0.005494</td>\n",
              "      <td>blues</td>\n",
              "    </tr>\n",
              "    <tr>\n",
              "      <th>1</th>\n",
              "      <td>blues.00053.au</td>\n",
              "      <td>0.412501</td>\n",
              "      <td>0.09198</td>\n",
              "      <td>2171.221742</td>\n",
              "      <td>1954.383785</td>\n",
              "      <td>4237.132712</td>\n",
              "      <td>0.132802</td>\n",
              "      <td>0.000642</td>\n",
              "      <td>0.594293</td>\n",
              "      <td>0.513369</td>\n",
              "      <td>...</td>\n",
              "      <td>-0.271427</td>\n",
              "      <td>-3.696092</td>\n",
              "      <td>-0.504041</td>\n",
              "      <td>-0.002745</td>\n",
              "      <td>0.008571</td>\n",
              "      <td>-0.042509</td>\n",
              "      <td>0.057754</td>\n",
              "      <td>0.005468</td>\n",
              "      <td>0.017238</td>\n",
              "      <td>blues</td>\n",
              "    </tr>\n",
              "    <tr>\n",
              "      <th>2</th>\n",
              "      <td>blues.00048.au</td>\n",
              "      <td>0.379428</td>\n",
              "      <td>0.09198</td>\n",
              "      <td>2148.786199</td>\n",
              "      <td>2204.574064</td>\n",
              "      <td>4673.663406</td>\n",
              "      <td>0.098812</td>\n",
              "      <td>0.005946</td>\n",
              "      <td>1.750953</td>\n",
              "      <td>0.594625</td>\n",
              "      <td>...</td>\n",
              "      <td>0.464257</td>\n",
              "      <td>-1.909089</td>\n",
              "      <td>-3.128308</td>\n",
              "      <td>-0.010565</td>\n",
              "      <td>0.000952</td>\n",
              "      <td>0.003099</td>\n",
              "      <td>0.026811</td>\n",
              "      <td>-0.004230</td>\n",
              "      <td>0.006860</td>\n",
              "      <td>blues</td>\n",
              "    </tr>\n",
              "    <tr>\n",
              "      <th>3</th>\n",
              "      <td>blues.00001.au</td>\n",
              "      <td>0.340983</td>\n",
              "      <td>0.09198</td>\n",
              "      <td>1529.835316</td>\n",
              "      <td>2038.617579</td>\n",
              "      <td>3548.820207</td>\n",
              "      <td>0.056044</td>\n",
              "      <td>0.005735</td>\n",
              "      <td>1.223702</td>\n",
              "      <td>0.509443</td>\n",
              "      <td>...</td>\n",
              "      <td>0.293875</td>\n",
              "      <td>-0.287431</td>\n",
              "      <td>0.531573</td>\n",
              "      <td>-0.020591</td>\n",
              "      <td>0.000802</td>\n",
              "      <td>0.031767</td>\n",
              "      <td>-0.016651</td>\n",
              "      <td>0.005038</td>\n",
              "      <td>0.005216</td>\n",
              "      <td>blues</td>\n",
              "    </tr>\n",
              "    <tr>\n",
              "      <th>4</th>\n",
              "      <td>blues.00058.au</td>\n",
              "      <td>0.356588</td>\n",
              "      <td>0.09198</td>\n",
              "      <td>2068.371125</td>\n",
              "      <td>2033.930047</td>\n",
              "      <td>4231.499413</td>\n",
              "      <td>0.104372</td>\n",
              "      <td>0.002294</td>\n",
              "      <td>0.675315</td>\n",
              "      <td>0.503215</td>\n",
              "      <td>...</td>\n",
              "      <td>0.194597</td>\n",
              "      <td>0.842872</td>\n",
              "      <td>-3.416576</td>\n",
              "      <td>0.007437</td>\n",
              "      <td>0.018288</td>\n",
              "      <td>0.046516</td>\n",
              "      <td>0.011819</td>\n",
              "      <td>0.007859</td>\n",
              "      <td>-0.007299</td>\n",
              "      <td>blues</td>\n",
              "    </tr>\n",
              "  </tbody>\n",
              "</table>\n",
              "<p>5 rows × 39 columns</p>\n",
              "</div>"
            ],
            "text/plain": [
              "         filename  chroma_stft     rmse  spectral_centroid  \\\n",
              "0  blues.00019.au     0.257259  0.09198        1195.411640   \n",
              "1  blues.00053.au     0.412501  0.09198        2171.221742   \n",
              "2  blues.00048.au     0.379428  0.09198        2148.786199   \n",
              "3  blues.00001.au     0.340983  0.09198        1529.835316   \n",
              "4  blues.00058.au     0.356588  0.09198        2068.371125   \n",
              "\n",
              "   spectral_bandwidth      rolloff  zero_crossing_rate  flatness      poly  \\\n",
              "0         1481.284259  2234.878153            0.058871  0.017725  1.086251   \n",
              "1         1954.383785  4237.132712            0.132802  0.000642  0.594293   \n",
              "2         2204.574064  4673.663406            0.098812  0.005946  1.750953   \n",
              "3         2038.617579  3548.820207            0.056044  0.005735  1.223702   \n",
              "4         2033.930047  4231.499413            0.104372  0.002294  0.675315   \n",
              "\n",
              "   chroma_cqt  ...    mfcc18    mfcc19    mfcc20  tonnetz1  tonnetz2  \\\n",
              "0    0.555419  ... -1.337586 -3.719717 -4.353154  0.020575  0.016943   \n",
              "1    0.513369  ... -0.271427 -3.696092 -0.504041 -0.002745  0.008571   \n",
              "2    0.594625  ...  0.464257 -1.909089 -3.128308 -0.010565  0.000952   \n",
              "3    0.509443  ...  0.293875 -0.287431  0.531573 -0.020591  0.000802   \n",
              "4    0.503215  ...  0.194597  0.842872 -3.416576  0.007437  0.018288   \n",
              "\n",
              "   tonnetz3  tonnetz4  tonnetz5  tonnetz6  label  \n",
              "0  0.088439 -0.026695  0.012183 -0.005494  blues  \n",
              "1 -0.042509  0.057754  0.005468  0.017238  blues  \n",
              "2  0.003099  0.026811 -0.004230  0.006860  blues  \n",
              "3  0.031767 -0.016651  0.005038  0.005216  blues  \n",
              "4  0.046516  0.011819  0.007859 -0.007299  blues  \n",
              "\n",
              "[5 rows x 39 columns]"
            ]
          },
          "metadata": {
            "tags": []
          },
          "execution_count": 3
        }
      ]
    },
    {
      "metadata": {
        "id": "s5cD_ejKvNPz",
        "colab_type": "code",
        "colab": {}
      },
      "cell_type": "code",
      "source": [
        "data = data.drop(['filename'],axis = 1)"
      ],
      "execution_count": 0,
      "outputs": []
    },
    {
      "metadata": {
        "id": "LuUlU5yyvtJi",
        "colab_type": "code",
        "outputId": "28476b08-64fa-4ea8-de08-01b73606c05a",
        "colab": {
          "base_uri": "https://localhost:8080/",
          "height": 253
        }
      },
      "cell_type": "code",
      "source": [
        "data.head()"
      ],
      "execution_count": 0,
      "outputs": [
        {
          "output_type": "execute_result",
          "data": {
            "text/html": [
              "<div>\n",
              "<style scoped>\n",
              "    .dataframe tbody tr th:only-of-type {\n",
              "        vertical-align: middle;\n",
              "    }\n",
              "\n",
              "    .dataframe tbody tr th {\n",
              "        vertical-align: top;\n",
              "    }\n",
              "\n",
              "    .dataframe thead th {\n",
              "        text-align: right;\n",
              "    }\n",
              "</style>\n",
              "<table border=\"1\" class=\"dataframe\">\n",
              "  <thead>\n",
              "    <tr style=\"text-align: right;\">\n",
              "      <th></th>\n",
              "      <th>chroma_stft</th>\n",
              "      <th>rmse</th>\n",
              "      <th>spectral_centroid</th>\n",
              "      <th>spectral_bandwidth</th>\n",
              "      <th>rolloff</th>\n",
              "      <th>zero_crossing_rate</th>\n",
              "      <th>flatness</th>\n",
              "      <th>poly</th>\n",
              "      <th>chroma_cqt</th>\n",
              "      <th>chroma_cens</th>\n",
              "      <th>...</th>\n",
              "      <th>mfcc18</th>\n",
              "      <th>mfcc19</th>\n",
              "      <th>mfcc20</th>\n",
              "      <th>tonnetz1</th>\n",
              "      <th>tonnetz2</th>\n",
              "      <th>tonnetz3</th>\n",
              "      <th>tonnetz4</th>\n",
              "      <th>tonnetz5</th>\n",
              "      <th>tonnetz6</th>\n",
              "      <th>label</th>\n",
              "    </tr>\n",
              "  </thead>\n",
              "  <tbody>\n",
              "    <tr>\n",
              "      <th>0</th>\n",
              "      <td>0.257259</td>\n",
              "      <td>0.09198</td>\n",
              "      <td>1195.411640</td>\n",
              "      <td>1481.284259</td>\n",
              "      <td>2234.878153</td>\n",
              "      <td>0.058871</td>\n",
              "      <td>0.017725</td>\n",
              "      <td>1.086251</td>\n",
              "      <td>0.555419</td>\n",
              "      <td>0.268175</td>\n",
              "      <td>...</td>\n",
              "      <td>-1.337586</td>\n",
              "      <td>-3.719717</td>\n",
              "      <td>-4.353154</td>\n",
              "      <td>0.020575</td>\n",
              "      <td>0.016943</td>\n",
              "      <td>0.088439</td>\n",
              "      <td>-0.026695</td>\n",
              "      <td>0.012183</td>\n",
              "      <td>-0.005494</td>\n",
              "      <td>blues</td>\n",
              "    </tr>\n",
              "    <tr>\n",
              "      <th>1</th>\n",
              "      <td>0.412501</td>\n",
              "      <td>0.09198</td>\n",
              "      <td>2171.221742</td>\n",
              "      <td>1954.383785</td>\n",
              "      <td>4237.132712</td>\n",
              "      <td>0.132802</td>\n",
              "      <td>0.000642</td>\n",
              "      <td>0.594293</td>\n",
              "      <td>0.513369</td>\n",
              "      <td>0.267898</td>\n",
              "      <td>...</td>\n",
              "      <td>-0.271427</td>\n",
              "      <td>-3.696092</td>\n",
              "      <td>-0.504041</td>\n",
              "      <td>-0.002745</td>\n",
              "      <td>0.008571</td>\n",
              "      <td>-0.042509</td>\n",
              "      <td>0.057754</td>\n",
              "      <td>0.005468</td>\n",
              "      <td>0.017238</td>\n",
              "      <td>blues</td>\n",
              "    </tr>\n",
              "    <tr>\n",
              "      <th>2</th>\n",
              "      <td>0.379428</td>\n",
              "      <td>0.09198</td>\n",
              "      <td>2148.786199</td>\n",
              "      <td>2204.574064</td>\n",
              "      <td>4673.663406</td>\n",
              "      <td>0.098812</td>\n",
              "      <td>0.005946</td>\n",
              "      <td>1.750953</td>\n",
              "      <td>0.594625</td>\n",
              "      <td>0.274696</td>\n",
              "      <td>...</td>\n",
              "      <td>0.464257</td>\n",
              "      <td>-1.909089</td>\n",
              "      <td>-3.128308</td>\n",
              "      <td>-0.010565</td>\n",
              "      <td>0.000952</td>\n",
              "      <td>0.003099</td>\n",
              "      <td>0.026811</td>\n",
              "      <td>-0.004230</td>\n",
              "      <td>0.006860</td>\n",
              "      <td>blues</td>\n",
              "    </tr>\n",
              "    <tr>\n",
              "      <th>3</th>\n",
              "      <td>0.340983</td>\n",
              "      <td>0.09198</td>\n",
              "      <td>1529.835316</td>\n",
              "      <td>2038.617579</td>\n",
              "      <td>3548.820207</td>\n",
              "      <td>0.056044</td>\n",
              "      <td>0.005735</td>\n",
              "      <td>1.223702</td>\n",
              "      <td>0.509443</td>\n",
              "      <td>0.267173</td>\n",
              "      <td>...</td>\n",
              "      <td>0.293875</td>\n",
              "      <td>-0.287431</td>\n",
              "      <td>0.531573</td>\n",
              "      <td>-0.020591</td>\n",
              "      <td>0.000802</td>\n",
              "      <td>0.031767</td>\n",
              "      <td>-0.016651</td>\n",
              "      <td>0.005038</td>\n",
              "      <td>0.005216</td>\n",
              "      <td>blues</td>\n",
              "    </tr>\n",
              "    <tr>\n",
              "      <th>4</th>\n",
              "      <td>0.356588</td>\n",
              "      <td>0.09198</td>\n",
              "      <td>2068.371125</td>\n",
              "      <td>2033.930047</td>\n",
              "      <td>4231.499413</td>\n",
              "      <td>0.104372</td>\n",
              "      <td>0.002294</td>\n",
              "      <td>0.675315</td>\n",
              "      <td>0.503215</td>\n",
              "      <td>0.261366</td>\n",
              "      <td>...</td>\n",
              "      <td>0.194597</td>\n",
              "      <td>0.842872</td>\n",
              "      <td>-3.416576</td>\n",
              "      <td>0.007437</td>\n",
              "      <td>0.018288</td>\n",
              "      <td>0.046516</td>\n",
              "      <td>0.011819</td>\n",
              "      <td>0.007859</td>\n",
              "      <td>-0.007299</td>\n",
              "      <td>blues</td>\n",
              "    </tr>\n",
              "  </tbody>\n",
              "</table>\n",
              "<p>5 rows × 38 columns</p>\n",
              "</div>"
            ],
            "text/plain": [
              "   chroma_stft     rmse  spectral_centroid  spectral_bandwidth      rolloff  \\\n",
              "0     0.257259  0.09198        1195.411640         1481.284259  2234.878153   \n",
              "1     0.412501  0.09198        2171.221742         1954.383785  4237.132712   \n",
              "2     0.379428  0.09198        2148.786199         2204.574064  4673.663406   \n",
              "3     0.340983  0.09198        1529.835316         2038.617579  3548.820207   \n",
              "4     0.356588  0.09198        2068.371125         2033.930047  4231.499413   \n",
              "\n",
              "   zero_crossing_rate  flatness      poly  chroma_cqt  chroma_cens  ...  \\\n",
              "0            0.058871  0.017725  1.086251    0.555419     0.268175  ...   \n",
              "1            0.132802  0.000642  0.594293    0.513369     0.267898  ...   \n",
              "2            0.098812  0.005946  1.750953    0.594625     0.274696  ...   \n",
              "3            0.056044  0.005735  1.223702    0.509443     0.267173  ...   \n",
              "4            0.104372  0.002294  0.675315    0.503215     0.261366  ...   \n",
              "\n",
              "     mfcc18    mfcc19    mfcc20  tonnetz1  tonnetz2  tonnetz3  tonnetz4  \\\n",
              "0 -1.337586 -3.719717 -4.353154  0.020575  0.016943  0.088439 -0.026695   \n",
              "1 -0.271427 -3.696092 -0.504041 -0.002745  0.008571 -0.042509  0.057754   \n",
              "2  0.464257 -1.909089 -3.128308 -0.010565  0.000952  0.003099  0.026811   \n",
              "3  0.293875 -0.287431  0.531573 -0.020591  0.000802  0.031767 -0.016651   \n",
              "4  0.194597  0.842872 -3.416576  0.007437  0.018288  0.046516  0.011819   \n",
              "\n",
              "   tonnetz5  tonnetz6  label  \n",
              "0  0.012183 -0.005494  blues  \n",
              "1  0.005468  0.017238  blues  \n",
              "2 -0.004230  0.006860  blues  \n",
              "3  0.005038  0.005216  blues  \n",
              "4  0.007859 -0.007299  blues  \n",
              "\n",
              "[5 rows x 38 columns]"
            ]
          },
          "metadata": {
            "tags": []
          },
          "execution_count": 5
        }
      ]
    },
    {
      "metadata": {
        "id": "axnIT6GMvyK6",
        "colab_type": "code",
        "colab": {}
      },
      "cell_type": "code",
      "source": [
        "genre_list = data.iloc[:, -1]\n",
        "encoder = LabelEncoder()\n",
        "y = encoder.fit_transform(genre_list)"
      ],
      "execution_count": 0,
      "outputs": []
    },
    {
      "metadata": {
        "id": "AZaN1UTTwBwD",
        "colab_type": "code",
        "colab": {}
      },
      "cell_type": "code",
      "source": [
        "scaler = StandardScaler()\n",
        "X = scaler.fit_transform(np.array(data.iloc[:, :-1], dtype = float))"
      ],
      "execution_count": 0,
      "outputs": []
    },
    {
      "metadata": {
        "id": "Jhmzmj-rwD07",
        "colab_type": "code",
        "colab": {}
      },
      "cell_type": "code",
      "source": [
        "X_train, X_test, y_train, y_test = train_test_split(X, y, test_size=0.2)"
      ],
      "execution_count": 0,
      "outputs": []
    },
    {
      "metadata": {
        "id": "K8QlKxS-8U34",
        "colab_type": "code",
        "outputId": "44b5b1a6-af32-4de6-dd9b-ffff9491c55e",
        "colab": {
          "base_uri": "https://localhost:8080/",
          "height": 35
        }
      },
      "cell_type": "code",
      "source": [
        "X_train.shape"
      ],
      "execution_count": 0,
      "outputs": [
        {
          "output_type": "execute_result",
          "data": {
            "text/plain": [
              "(800, 37)"
            ]
          },
          "metadata": {
            "tags": []
          },
          "execution_count": 9
        }
      ]
    },
    {
      "metadata": {
        "id": "wk4s3POqwGWq",
        "colab_type": "code",
        "outputId": "3b811955-e986-4408-afb2-a23ef58c3e84",
        "colab": {
          "base_uri": "https://localhost:8080/",
          "height": 91
        }
      },
      "cell_type": "code",
      "source": [
        "model = models.Sequential()\n",
        "model.add(layers.Dense(256, activation='relu', input_shape=(X_train.shape[1],)))\n",
        "\n",
        "model.add(layers.Dense(128, activation='relu'))\n",
        "\n",
        "model.add(layers.Dense(64, activation='relu'))\n",
        "\n",
        "model.add(layers.Dense(10, activation='softmax'))"
      ],
      "execution_count": 0,
      "outputs": [
        {
          "output_type": "stream",
          "text": [
            "WARNING:tensorflow:From /usr/local/lib/python3.6/dist-packages/tensorflow/python/framework/op_def_library.py:263: colocate_with (from tensorflow.python.framework.ops) is deprecated and will be removed in a future version.\n",
            "Instructions for updating:\n",
            "Colocations handled automatically by placer.\n"
          ],
          "name": "stdout"
        }
      ]
    },
    {
      "metadata": {
        "id": "vkFGcCir6xe5",
        "colab_type": "code",
        "outputId": "7ffd56e2-8eb7-4f7f-f016-429ecf94d883",
        "colab": {
          "base_uri": "https://localhost:8080/",
          "height": 287
        }
      },
      "cell_type": "code",
      "source": [
        "model.compile(loss='sparse_categorical_crossentropy', optimizer='Adam', metrics=['accuracy'])\n",
        "model.summary()"
      ],
      "execution_count": 0,
      "outputs": [
        {
          "output_type": "stream",
          "text": [
            "_________________________________________________________________\n",
            "Layer (type)                 Output Shape              Param #   \n",
            "=================================================================\n",
            "dense_1 (Dense)              (None, 256)               9728      \n",
            "_________________________________________________________________\n",
            "dense_2 (Dense)              (None, 128)               32896     \n",
            "_________________________________________________________________\n",
            "dense_3 (Dense)              (None, 64)                8256      \n",
            "_________________________________________________________________\n",
            "dense_4 (Dense)              (None, 10)                650       \n",
            "=================================================================\n",
            "Total params: 51,530\n",
            "Trainable params: 51,530\n",
            "Non-trainable params: 0\n",
            "_________________________________________________________________\n"
          ],
          "name": "stdout"
        }
      ]
    },
    {
      "metadata": {
        "id": "qUK7l7vz7NxZ",
        "colab_type": "code",
        "outputId": "e5b00195-95ec-4f38-af39-b5ddb935b78b",
        "colab": {
          "base_uri": "https://localhost:8080/",
          "height": 811
        }
      },
      "cell_type": "code",
      "source": [
        "history = model.fit(X_train,\n",
        "                    y_train,\n",
        "                    epochs=20,\n",
        "                    batch_size=128)"
      ],
      "execution_count": 0,
      "outputs": [
        {
          "output_type": "stream",
          "text": [
            "WARNING:tensorflow:From /usr/local/lib/python3.6/dist-packages/tensorflow/python/ops/math_ops.py:3066: to_int32 (from tensorflow.python.ops.math_ops) is deprecated and will be removed in a future version.\n",
            "Instructions for updating:\n",
            "Use tf.cast instead.\n",
            "Epoch 1/20\n",
            "800/800 [==============================] - 0s 310us/step - loss: 2.1571 - acc: 0.2375\n",
            "Epoch 2/20\n",
            "800/800 [==============================] - 0s 44us/step - loss: 1.8044 - acc: 0.3763\n",
            "Epoch 3/20\n",
            "800/800 [==============================] - 0s 46us/step - loss: 1.5545 - acc: 0.4262\n",
            "Epoch 4/20\n",
            "800/800 [==============================] - 0s 33us/step - loss: 1.3547 - acc: 0.5350\n",
            "Epoch 5/20\n",
            "800/800 [==============================] - 0s 38us/step - loss: 1.1906 - acc: 0.6138\n",
            "Epoch 6/20\n",
            "800/800 [==============================] - 0s 40us/step - loss: 1.0596 - acc: 0.6487\n",
            "Epoch 7/20\n",
            "800/800 [==============================] - 0s 36us/step - loss: 0.9592 - acc: 0.6950\n",
            "Epoch 8/20\n",
            "800/800 [==============================] - 0s 40us/step - loss: 0.8641 - acc: 0.7200\n",
            "Epoch 9/20\n",
            "800/800 [==============================] - 0s 39us/step - loss: 0.7876 - acc: 0.7512\n",
            "Epoch 10/20\n",
            "800/800 [==============================] - 0s 43us/step - loss: 0.7250 - acc: 0.7575\n",
            "Epoch 11/20\n",
            "800/800 [==============================] - 0s 33us/step - loss: 0.6659 - acc: 0.7937\n",
            "Epoch 12/20\n",
            "800/800 [==============================] - 0s 36us/step - loss: 0.6000 - acc: 0.8175\n",
            "Epoch 13/20\n",
            "800/800 [==============================] - 0s 36us/step - loss: 0.5616 - acc: 0.8350\n",
            "Epoch 14/20\n",
            "800/800 [==============================] - 0s 38us/step - loss: 0.5256 - acc: 0.8488\n",
            "Epoch 15/20\n",
            "800/800 [==============================] - 0s 48us/step - loss: 0.4908 - acc: 0.8612\n",
            "Epoch 16/20\n",
            "800/800 [==============================] - 0s 42us/step - loss: 0.4534 - acc: 0.8725\n",
            "Epoch 17/20\n",
            "800/800 [==============================] - 0s 42us/step - loss: 0.4179 - acc: 0.8912\n",
            "Epoch 18/20\n",
            "800/800 [==============================] - 0s 38us/step - loss: 0.3968 - acc: 0.8813\n",
            "Epoch 19/20\n",
            "800/800 [==============================] - 0s 41us/step - loss: 0.3568 - acc: 0.9088\n",
            "Epoch 20/20\n",
            "800/800 [==============================] - 0s 35us/step - loss: 0.3476 - acc: 0.9075\n"
          ],
          "name": "stdout"
        }
      ]
    },
    {
      "metadata": {
        "id": "D3ik5Ujg9Gwv",
        "colab_type": "code",
        "outputId": "a06ddd83-6195-4d0f-91c7-1676ef56f0ab",
        "colab": {
          "base_uri": "https://localhost:8080/",
          "height": 53
        }
      },
      "cell_type": "code",
      "source": [
        "test_loss, test_acc = model.evaluate(X_test,y_test)\n",
        "print('test_acc: ',test_acc)"
      ],
      "execution_count": 0,
      "outputs": [
        {
          "output_type": "stream",
          "text": [
            "200/200 [==============================] - 0s 112us/step\n",
            "test_acc:  0.625\n"
          ],
          "name": "stdout"
        }
      ]
    },
    {
      "metadata": {
        "id": "pMVYVBpoYRM9",
        "colab_type": "code",
        "colab": {}
      },
      "cell_type": "code",
      "source": [
        "import pickle\n",
        "\n",
        "pickle.dump(model, open(\"model-keras.pkl\",\"wb\"))\n",
        "files.download('model-keras.pkl')"
      ],
      "execution_count": 0,
      "outputs": []
    },
    {
      "metadata": {
        "id": "N2h5FQNVAOVB",
        "colab_type": "text"
      },
      "cell_type": "markdown",
      "source": [
        "Export as ONNX model"
      ]
    },
    {
      "metadata": {
        "id": "68j9VGZ9AK7D",
        "colab_type": "code",
        "colab": {}
      },
      "cell_type": "code",
      "source": [
        "!pip install onnx"
      ],
      "execution_count": 0,
      "outputs": []
    },
    {
      "metadata": {
        "id": "tPDdOKqdASpQ",
        "colab_type": "code",
        "colab": {}
      },
      "cell_type": "code",
      "source": [
        "!python -c \"import onnx\""
      ],
      "execution_count": 0,
      "outputs": []
    },
    {
      "metadata": {
        "id": "mXi7laRWAWC2",
        "colab_type": "code",
        "colab": {}
      },
      "cell_type": "code",
      "source": [
        "!pip install onnxmltools"
      ],
      "execution_count": 0,
      "outputs": []
    },
    {
      "metadata": {
        "id": "dgFrDCxCAaRE",
        "colab_type": "code",
        "colab": {}
      },
      "cell_type": "code",
      "source": [
        "import onnxmltools\n",
        "from keras.models import load_model"
      ],
      "execution_count": 0,
      "outputs": []
    },
    {
      "metadata": {
        "id": "TdSWdwj4AnMA",
        "colab_type": "code",
        "colab": {}
      },
      "cell_type": "code",
      "source": [
        "onnx_model = onnxmltools.convert_keras(model)"
      ],
      "execution_count": 0,
      "outputs": []
    },
    {
      "metadata": {
        "id": "5mmHrhrpAdcM",
        "colab_type": "code",
        "colab": {}
      },
      "cell_type": "code",
      "source": [
        "output_onnx_model = 'model_keras.onnx'\n",
        "onnxmltools.utils.save_model(onnx_model, output_onnx_model)"
      ],
      "execution_count": 0,
      "outputs": []
    },
    {
      "metadata": {
        "id": "XpTEGCbzAoy1",
        "colab_type": "code",
        "colab": {}
      },
      "cell_type": "code",
      "source": [
        "files.download('model_keras.onnx')"
      ],
      "execution_count": 0,
      "outputs": []
    }
  ]
}